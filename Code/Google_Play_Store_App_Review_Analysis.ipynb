{
  "nbformat": 4,
  "nbformat_minor": 0,
  "metadata": {
    "colab": {
      "provenance": [],
      "collapsed_sections": [
        "Y2L4Mg5gaSee",
        "QN4KOWGbbFkC",
        "8rTfVN1sbyg7",
        "eczyfIIrdAng",
        "3XNTQyJwPCww",
        "eQUF6h3blIL8",
        "9KMkQzeYmnCB",
        "01ScBnF-nrX9",
        "QY7wFhlAn--7",
        "kkUma1nDoz66",
        "pyLBq74SpiDr"
      ]
    },
    "kernelspec": {
      "display_name": "Python 3",
      "language": "python",
      "name": "python3"
    },
    "language_info": {
      "codemirror_mode": {
        "name": "ipython",
        "version": 3
      },
      "file_extension": ".py",
      "mimetype": "text/x-python",
      "name": "python",
      "nbconvert_exporter": "python",
      "pygments_lexer": "ipython3",
      "version": "3.6.6"
    }
  },
  "cells": [
    {
      "cell_type": "markdown",
      "metadata": {
        "id": "Y06xIdG26kRF"
      },
      "source": [
        "\n",
        "The Play Store is a platform that hosts millions of apps developed for the Android operating system. These apps generate an enormous amount of data, such as information about their category, rating, size, and customer reviews. This data is incredibly valuable for businesses that want to develop successful apps.\n",
        "\n",
        "By analyzing the Play Store apps data, businesses can gain actionable insights into the factors that drive app engagement and success. For example, they can identify which app categories are most popular among users and which apps receive the highest ratings. This information can be used to inform the development of new apps that are more likely to capture the attention of the Android market.\n",
        "\n",
        "Additionally, the customer reviews dataset provides a wealth of information about what users like and dislike about various apps. By analyzing this data, businesses can identify common themes in user feedback and use that information to improve their own apps.\n",
        "\n",
        "Overall, the Play Store apps data provides businesses with a unique opportunity to gain insights into what drives app engagement and success in the Android market. By exploring and analyzing this data, businesses can improve their app-making strategies and increase their chances of success in the competitive world of mobile app development.\n"
      ]
    },
    {
      "cell_type": "code",
      "metadata": {
        "colab": {
          "base_uri": "https://localhost:8080/"
        },
        "id": "iKBARH4BlNQh",
        "outputId": "1731b0da-b950-487a-b4f1-b7c70ae9847a"
      },
      "source": [
        "from google.colab import drive\n",
        "drive.mount('/content/drive')"
      ],
      "execution_count": null,
      "outputs": [
        {
          "output_type": "stream",
          "name": "stdout",
          "text": [
            "Drive already mounted at /content/drive; to attempt to forcibly remount, call drive.mount(\"/content/drive\", force_remount=True).\n"
          ]
        }
      ]
    },
    {
      "cell_type": "markdown",
      "metadata": {
        "id": "W874MzhXtcLv"
      },
      "source": [
        "\n",
        "The above Quote perfectly hints that for a successful company, customer experience is important.\n",
        "\n",
        "# Below are key questions are important for every company to make successfull business.\n",
        "\n",
        "1.   who is the target customer and What are the needs of customer ?\n",
        "2.   what are the likes and dislikes ? \n",
        "3.   what are the reviews and feedbacks ?\n",
        "4.   is the customer retained ?\n",
        "5.   how much customer is satisfied the service / product ?\n",
        "\n",
        "\n",
        " \n",
        "\n",
        " \n",
        " \n",
        "  "
      ]
    },
    {
      "cell_type": "markdown",
      "metadata": {
        "id": "hebjp6G2PRX_"
      },
      "source": [
        "# Step : 1  INTRODUCTION TO DATA\n",
        "\n",
        "Firstly let's get to know data. While I was analyzing the data, I used Pandas library.\n",
        "\n",
        "*   info(): It informs about data columns and data types.\n",
        "*   head(): It returns the first five data.\n",
        "*   tail(): It returns the last five data.\n",
        "*   columns : It returns data columns.\n",
        "*   shape : It gives number of rows and columns in a tuble.\n",
        "\n",
        "\n"
      ]
    },
    {
      "cell_type": "code",
      "metadata": {
        "colab": {
          "base_uri": "https://localhost:8080/"
        },
        "id": "pves812fQNI1",
        "outputId": "58771eb5-8b9e-4ca8-b17d-e5b7cab28a72"
      },
      "source": [
        "from google.colab import drive\n",
        "drive.mount('/content/drive/')"
      ],
      "execution_count": null,
      "outputs": [
        {
          "output_type": "stream",
          "name": "stdout",
          "text": [
            "Drive already mounted at /content/drive/; to attempt to forcibly remount, call drive.mount(\"/content/drive/\", force_remount=True).\n"
          ]
        }
      ]
    },
    {
      "cell_type": "code",
      "metadata": {
        "id": "4grxEEGRQM9d"
      },
      "source": [
        "import numpy as np\n",
        "import pandas as pd\n",
        "import matplotlib.pyplot as plt\n",
        "import seaborn as sns\n",
        "import plotly.graph_objects as go\n"
      ],
      "execution_count": null,
      "outputs": []
    },
    {
      "cell_type": "code",
      "metadata": {
        "id": "ljGIV2KWpnJs"
      },
      "source": [
        "dir_path_playstore = '/content/drive/MyDrive/Almabetter Matarial/ Almabetter/ module 1-/ Data/ Play store  project data/Play Store Data.csv'"
      ],
      "execution_count": null,
      "outputs": []
    },
    {
      "cell_type": "code",
      "metadata": {
        "id": "bhBddIBmpzJD"
      },
      "source": [
        "dir_path_reviews = '/content/drive/MyDrive/Almabetter Matarial/ Almabetter/ module 1-/ Data/ Play store  project data/User Reviews.csv'"
      ],
      "execution_count": null,
      "outputs": []
    },
    {
      "cell_type": "code",
      "metadata": {
        "id": "p_3A6nrlqA16"
      },
      "source": [
        "df_playstore = pd.read_csv(dir_path_playstore)\n",
        "df_reviews = pd.read_csv(dir_path_reviews)"
      ],
      "execution_count": null,
      "outputs": []
    },
    {
      "cell_type": "markdown",
      "metadata": {
        "id": "39bMXYvoZCzO"
      },
      "source": [
        "The second dataset, which we have named 'df_reviews', contains customer reviews of Android apps. This dataset may include data such as the app's name, user's review, rating, review date, and so on.Both datasets are likely to provide valuable insights into the world of Android apps, but they serve different purposes. The Play Store dataset provides a comprehensive view of the apps available on the Play Store, whereas the reviews dataset provides user opinions on the apps they have used.By analyzing both datasets together, we can gain a more complete understanding of the Android app ecosystem. For example, we could use the Play Store dataset to identify popular categories or developers, and then use the reviews dataset to understand what users like or dislike about specific apps in those categories or by those developers.Overall, these datasets provide valuable information that can be used to make data-driven decisions about app development, marketing, and user engagement."
      ]
    },
    {
      "cell_type": "code",
      "metadata": {
        "colab": {
          "base_uri": "https://localhost:8080/"
        },
        "id": "tVxFyxtSqRoz",
        "outputId": "76427e1c-52e6-4379-f4b0-b204573442ce"
      },
      "source": [
        "df_playstore.info()"
      ],
      "execution_count": null,
      "outputs": [
        {
          "output_type": "stream",
          "name": "stdout",
          "text": [
            "<class 'pandas.core.frame.DataFrame'>\n",
            "RangeIndex: 10841 entries, 0 to 10840\n",
            "Data columns (total 13 columns):\n",
            " #   Column          Non-Null Count  Dtype  \n",
            "---  ------          --------------  -----  \n",
            " 0   App             10841 non-null  object \n",
            " 1   Category        10841 non-null  object \n",
            " 2   Rating          9367 non-null   float64\n",
            " 3   Reviews         10841 non-null  object \n",
            " 4   Size            10841 non-null  object \n",
            " 5   Installs        10841 non-null  object \n",
            " 6   Type            10840 non-null  object \n",
            " 7   Price           10841 non-null  object \n",
            " 8   Content Rating  10840 non-null  object \n",
            " 9   Genres          10841 non-null  object \n",
            " 10  Last Updated    10841 non-null  object \n",
            " 11  Current Ver     10833 non-null  object \n",
            " 12  Android Ver     10838 non-null  object \n",
            "dtypes: float64(1), object(12)\n",
            "memory usage: 1.1+ MB\n"
          ]
        }
      ]
    },
    {
      "cell_type": "code",
      "metadata": {
        "colab": {
          "base_uri": "https://localhost:8080/",
          "height": 354
        },
        "id": "XKAzedKVZs1i",
        "outputId": "090f055b-ef04-424f-c823-48f534385487"
      },
      "source": [
        "df_playstore.head()"
      ],
      "execution_count": null,
      "outputs": [
        {
          "output_type": "execute_result",
          "data": {
            "text/plain": [
              "                                                 App        Category  Rating  \\\n",
              "0     Photo Editor & Candy Camera & Grid & ScrapBook  ART_AND_DESIGN     4.1   \n",
              "1                                Coloring book moana  ART_AND_DESIGN     3.9   \n",
              "2  U Launcher Lite – FREE Live Cool Themes, Hide ...  ART_AND_DESIGN     4.7   \n",
              "3                              Sketch - Draw & Paint  ART_AND_DESIGN     4.5   \n",
              "4              Pixel Draw - Number Art Coloring Book  ART_AND_DESIGN     4.3   \n",
              "\n",
              "  Reviews  Size     Installs  Type Price Content Rating  \\\n",
              "0     159   19M      10,000+  Free     0       Everyone   \n",
              "1     967   14M     500,000+  Free     0       Everyone   \n",
              "2   87510  8.7M   5,000,000+  Free     0       Everyone   \n",
              "3  215644   25M  50,000,000+  Free     0           Teen   \n",
              "4     967  2.8M     100,000+  Free     0       Everyone   \n",
              "\n",
              "                      Genres      Last Updated         Current Ver  \\\n",
              "0               Art & Design   January 7, 2018               1.0.0   \n",
              "1  Art & Design;Pretend Play  January 15, 2018               2.0.0   \n",
              "2               Art & Design    August 1, 2018               1.2.4   \n",
              "3               Art & Design      June 8, 2018  Varies with device   \n",
              "4    Art & Design;Creativity     June 20, 2018                 1.1   \n",
              "\n",
              "    Android Ver  \n",
              "0  4.0.3 and up  \n",
              "1  4.0.3 and up  \n",
              "2  4.0.3 and up  \n",
              "3    4.2 and up  \n",
              "4    4.4 and up  "
            ],
            "text/html": [
              "\n",
              "  <div id=\"df-b222b3eb-dc25-4337-a914-4ff7affdd12e\">\n",
              "    <div class=\"colab-df-container\">\n",
              "      <div>\n",
              "<style scoped>\n",
              "    .dataframe tbody tr th:only-of-type {\n",
              "        vertical-align: middle;\n",
              "    }\n",
              "\n",
              "    .dataframe tbody tr th {\n",
              "        vertical-align: top;\n",
              "    }\n",
              "\n",
              "    .dataframe thead th {\n",
              "        text-align: right;\n",
              "    }\n",
              "</style>\n",
              "<table border=\"1\" class=\"dataframe\">\n",
              "  <thead>\n",
              "    <tr style=\"text-align: right;\">\n",
              "      <th></th>\n",
              "      <th>App</th>\n",
              "      <th>Category</th>\n",
              "      <th>Rating</th>\n",
              "      <th>Reviews</th>\n",
              "      <th>Size</th>\n",
              "      <th>Installs</th>\n",
              "      <th>Type</th>\n",
              "      <th>Price</th>\n",
              "      <th>Content Rating</th>\n",
              "      <th>Genres</th>\n",
              "      <th>Last Updated</th>\n",
              "      <th>Current Ver</th>\n",
              "      <th>Android Ver</th>\n",
              "    </tr>\n",
              "  </thead>\n",
              "  <tbody>\n",
              "    <tr>\n",
              "      <th>0</th>\n",
              "      <td>Photo Editor &amp; Candy Camera &amp; Grid &amp; ScrapBook</td>\n",
              "      <td>ART_AND_DESIGN</td>\n",
              "      <td>4.1</td>\n",
              "      <td>159</td>\n",
              "      <td>19M</td>\n",
              "      <td>10,000+</td>\n",
              "      <td>Free</td>\n",
              "      <td>0</td>\n",
              "      <td>Everyone</td>\n",
              "      <td>Art &amp; Design</td>\n",
              "      <td>January 7, 2018</td>\n",
              "      <td>1.0.0</td>\n",
              "      <td>4.0.3 and up</td>\n",
              "    </tr>\n",
              "    <tr>\n",
              "      <th>1</th>\n",
              "      <td>Coloring book moana</td>\n",
              "      <td>ART_AND_DESIGN</td>\n",
              "      <td>3.9</td>\n",
              "      <td>967</td>\n",
              "      <td>14M</td>\n",
              "      <td>500,000+</td>\n",
              "      <td>Free</td>\n",
              "      <td>0</td>\n",
              "      <td>Everyone</td>\n",
              "      <td>Art &amp; Design;Pretend Play</td>\n",
              "      <td>January 15, 2018</td>\n",
              "      <td>2.0.0</td>\n",
              "      <td>4.0.3 and up</td>\n",
              "    </tr>\n",
              "    <tr>\n",
              "      <th>2</th>\n",
              "      <td>U Launcher Lite – FREE Live Cool Themes, Hide ...</td>\n",
              "      <td>ART_AND_DESIGN</td>\n",
              "      <td>4.7</td>\n",
              "      <td>87510</td>\n",
              "      <td>8.7M</td>\n",
              "      <td>5,000,000+</td>\n",
              "      <td>Free</td>\n",
              "      <td>0</td>\n",
              "      <td>Everyone</td>\n",
              "      <td>Art &amp; Design</td>\n",
              "      <td>August 1, 2018</td>\n",
              "      <td>1.2.4</td>\n",
              "      <td>4.0.3 and up</td>\n",
              "    </tr>\n",
              "    <tr>\n",
              "      <th>3</th>\n",
              "      <td>Sketch - Draw &amp; Paint</td>\n",
              "      <td>ART_AND_DESIGN</td>\n",
              "      <td>4.5</td>\n",
              "      <td>215644</td>\n",
              "      <td>25M</td>\n",
              "      <td>50,000,000+</td>\n",
              "      <td>Free</td>\n",
              "      <td>0</td>\n",
              "      <td>Teen</td>\n",
              "      <td>Art &amp; Design</td>\n",
              "      <td>June 8, 2018</td>\n",
              "      <td>Varies with device</td>\n",
              "      <td>4.2 and up</td>\n",
              "    </tr>\n",
              "    <tr>\n",
              "      <th>4</th>\n",
              "      <td>Pixel Draw - Number Art Coloring Book</td>\n",
              "      <td>ART_AND_DESIGN</td>\n",
              "      <td>4.3</td>\n",
              "      <td>967</td>\n",
              "      <td>2.8M</td>\n",
              "      <td>100,000+</td>\n",
              "      <td>Free</td>\n",
              "      <td>0</td>\n",
              "      <td>Everyone</td>\n",
              "      <td>Art &amp; Design;Creativity</td>\n",
              "      <td>June 20, 2018</td>\n",
              "      <td>1.1</td>\n",
              "      <td>4.4 and up</td>\n",
              "    </tr>\n",
              "  </tbody>\n",
              "</table>\n",
              "</div>\n",
              "      <button class=\"colab-df-convert\" onclick=\"convertToInteractive('df-b222b3eb-dc25-4337-a914-4ff7affdd12e')\"\n",
              "              title=\"Convert this dataframe to an interactive table.\"\n",
              "              style=\"display:none;\">\n",
              "        \n",
              "  <svg xmlns=\"http://www.w3.org/2000/svg\" height=\"24px\"viewBox=\"0 0 24 24\"\n",
              "       width=\"24px\">\n",
              "    <path d=\"M0 0h24v24H0V0z\" fill=\"none\"/>\n",
              "    <path d=\"M18.56 5.44l.94 2.06.94-2.06 2.06-.94-2.06-.94-.94-2.06-.94 2.06-2.06.94zm-11 1L8.5 8.5l.94-2.06 2.06-.94-2.06-.94L8.5 2.5l-.94 2.06-2.06.94zm10 10l.94 2.06.94-2.06 2.06-.94-2.06-.94-.94-2.06-.94 2.06-2.06.94z\"/><path d=\"M17.41 7.96l-1.37-1.37c-.4-.4-.92-.59-1.43-.59-.52 0-1.04.2-1.43.59L10.3 9.45l-7.72 7.72c-.78.78-.78 2.05 0 2.83L4 21.41c.39.39.9.59 1.41.59.51 0 1.02-.2 1.41-.59l7.78-7.78 2.81-2.81c.8-.78.8-2.07 0-2.86zM5.41 20L4 18.59l7.72-7.72 1.47 1.35L5.41 20z\"/>\n",
              "  </svg>\n",
              "      </button>\n",
              "      \n",
              "  <style>\n",
              "    .colab-df-container {\n",
              "      display:flex;\n",
              "      flex-wrap:wrap;\n",
              "      gap: 12px;\n",
              "    }\n",
              "\n",
              "    .colab-df-convert {\n",
              "      background-color: #E8F0FE;\n",
              "      border: none;\n",
              "      border-radius: 50%;\n",
              "      cursor: pointer;\n",
              "      display: none;\n",
              "      fill: #1967D2;\n",
              "      height: 32px;\n",
              "      padding: 0 0 0 0;\n",
              "      width: 32px;\n",
              "    }\n",
              "\n",
              "    .colab-df-convert:hover {\n",
              "      background-color: #E2EBFA;\n",
              "      box-shadow: 0px 1px 2px rgba(60, 64, 67, 0.3), 0px 1px 3px 1px rgba(60, 64, 67, 0.15);\n",
              "      fill: #174EA6;\n",
              "    }\n",
              "\n",
              "    [theme=dark] .colab-df-convert {\n",
              "      background-color: #3B4455;\n",
              "      fill: #D2E3FC;\n",
              "    }\n",
              "\n",
              "    [theme=dark] .colab-df-convert:hover {\n",
              "      background-color: #434B5C;\n",
              "      box-shadow: 0px 1px 3px 1px rgba(0, 0, 0, 0.15);\n",
              "      filter: drop-shadow(0px 1px 2px rgba(0, 0, 0, 0.3));\n",
              "      fill: #FFFFFF;\n",
              "    }\n",
              "  </style>\n",
              "\n",
              "      <script>\n",
              "        const buttonEl =\n",
              "          document.querySelector('#df-b222b3eb-dc25-4337-a914-4ff7affdd12e button.colab-df-convert');\n",
              "        buttonEl.style.display =\n",
              "          google.colab.kernel.accessAllowed ? 'block' : 'none';\n",
              "\n",
              "        async function convertToInteractive(key) {\n",
              "          const element = document.querySelector('#df-b222b3eb-dc25-4337-a914-4ff7affdd12e');\n",
              "          const dataTable =\n",
              "            await google.colab.kernel.invokeFunction('convertToInteractive',\n",
              "                                                     [key], {});\n",
              "          if (!dataTable) return;\n",
              "\n",
              "          const docLinkHtml = 'Like what you see? Visit the ' +\n",
              "            '<a target=\"_blank\" href=https://colab.research.google.com/notebooks/data_table.ipynb>data table notebook</a>'\n",
              "            + ' to learn more about interactive tables.';\n",
              "          element.innerHTML = '';\n",
              "          dataTable['output_type'] = 'display_data';\n",
              "          await google.colab.output.renderOutput(dataTable, element);\n",
              "          const docLink = document.createElement('div');\n",
              "          docLink.innerHTML = docLinkHtml;\n",
              "          element.appendChild(docLink);\n",
              "        }\n",
              "      </script>\n",
              "    </div>\n",
              "  </div>\n",
              "  "
            ]
          },
          "metadata": {},
          "execution_count": 246
        }
      ]
    },
    {
      "cell_type": "code",
      "metadata": {
        "colab": {
          "base_uri": "https://localhost:8080/",
          "height": 371
        },
        "id": "a2PRwPTWo1he",
        "outputId": "4e4bb6f3-fb18-45b6-be09-130a8d1d8c6b"
      },
      "source": [
        "df_playstore.tail()"
      ],
      "execution_count": null,
      "outputs": [
        {
          "output_type": "execute_result",
          "data": {
            "text/plain": [
              "                                                 App             Category  \\\n",
              "10836                               Sya9a Maroc - FR               FAMILY   \n",
              "10837               Fr. Mike Schmitz Audio Teachings               FAMILY   \n",
              "10838                         Parkinson Exercices FR              MEDICAL   \n",
              "10839                  The SCP Foundation DB fr nn5n  BOOKS_AND_REFERENCE   \n",
              "10840  iHoroscope - 2018 Daily Horoscope & Astrology            LIFESTYLE   \n",
              "\n",
              "       Rating Reviews                Size     Installs  Type Price  \\\n",
              "10836     4.5      38                 53M       5,000+  Free     0   \n",
              "10837     5.0       4                3.6M         100+  Free     0   \n",
              "10838     NaN       3                9.5M       1,000+  Free     0   \n",
              "10839     4.5     114  Varies with device       1,000+  Free     0   \n",
              "10840     4.5  398307                 19M  10,000,000+  Free     0   \n",
              "\n",
              "      Content Rating             Genres      Last Updated         Current Ver  \\\n",
              "10836       Everyone          Education     July 25, 2017                1.48   \n",
              "10837       Everyone          Education      July 6, 2018                 1.0   \n",
              "10838       Everyone            Medical  January 20, 2017                 1.0   \n",
              "10839     Mature 17+  Books & Reference  January 19, 2015  Varies with device   \n",
              "10840       Everyone          Lifestyle     July 25, 2018  Varies with device   \n",
              "\n",
              "              Android Ver  \n",
              "10836          4.1 and up  \n",
              "10837          4.1 and up  \n",
              "10838          2.2 and up  \n",
              "10839  Varies with device  \n",
              "10840  Varies with device  "
            ],
            "text/html": [
              "\n",
              "  <div id=\"df-1831c2ca-5f6f-4b16-89b4-dfd64b164260\">\n",
              "    <div class=\"colab-df-container\">\n",
              "      <div>\n",
              "<style scoped>\n",
              "    .dataframe tbody tr th:only-of-type {\n",
              "        vertical-align: middle;\n",
              "    }\n",
              "\n",
              "    .dataframe tbody tr th {\n",
              "        vertical-align: top;\n",
              "    }\n",
              "\n",
              "    .dataframe thead th {\n",
              "        text-align: right;\n",
              "    }\n",
              "</style>\n",
              "<table border=\"1\" class=\"dataframe\">\n",
              "  <thead>\n",
              "    <tr style=\"text-align: right;\">\n",
              "      <th></th>\n",
              "      <th>App</th>\n",
              "      <th>Category</th>\n",
              "      <th>Rating</th>\n",
              "      <th>Reviews</th>\n",
              "      <th>Size</th>\n",
              "      <th>Installs</th>\n",
              "      <th>Type</th>\n",
              "      <th>Price</th>\n",
              "      <th>Content Rating</th>\n",
              "      <th>Genres</th>\n",
              "      <th>Last Updated</th>\n",
              "      <th>Current Ver</th>\n",
              "      <th>Android Ver</th>\n",
              "    </tr>\n",
              "  </thead>\n",
              "  <tbody>\n",
              "    <tr>\n",
              "      <th>10836</th>\n",
              "      <td>Sya9a Maroc - FR</td>\n",
              "      <td>FAMILY</td>\n",
              "      <td>4.5</td>\n",
              "      <td>38</td>\n",
              "      <td>53M</td>\n",
              "      <td>5,000+</td>\n",
              "      <td>Free</td>\n",
              "      <td>0</td>\n",
              "      <td>Everyone</td>\n",
              "      <td>Education</td>\n",
              "      <td>July 25, 2017</td>\n",
              "      <td>1.48</td>\n",
              "      <td>4.1 and up</td>\n",
              "    </tr>\n",
              "    <tr>\n",
              "      <th>10837</th>\n",
              "      <td>Fr. Mike Schmitz Audio Teachings</td>\n",
              "      <td>FAMILY</td>\n",
              "      <td>5.0</td>\n",
              "      <td>4</td>\n",
              "      <td>3.6M</td>\n",
              "      <td>100+</td>\n",
              "      <td>Free</td>\n",
              "      <td>0</td>\n",
              "      <td>Everyone</td>\n",
              "      <td>Education</td>\n",
              "      <td>July 6, 2018</td>\n",
              "      <td>1.0</td>\n",
              "      <td>4.1 and up</td>\n",
              "    </tr>\n",
              "    <tr>\n",
              "      <th>10838</th>\n",
              "      <td>Parkinson Exercices FR</td>\n",
              "      <td>MEDICAL</td>\n",
              "      <td>NaN</td>\n",
              "      <td>3</td>\n",
              "      <td>9.5M</td>\n",
              "      <td>1,000+</td>\n",
              "      <td>Free</td>\n",
              "      <td>0</td>\n",
              "      <td>Everyone</td>\n",
              "      <td>Medical</td>\n",
              "      <td>January 20, 2017</td>\n",
              "      <td>1.0</td>\n",
              "      <td>2.2 and up</td>\n",
              "    </tr>\n",
              "    <tr>\n",
              "      <th>10839</th>\n",
              "      <td>The SCP Foundation DB fr nn5n</td>\n",
              "      <td>BOOKS_AND_REFERENCE</td>\n",
              "      <td>4.5</td>\n",
              "      <td>114</td>\n",
              "      <td>Varies with device</td>\n",
              "      <td>1,000+</td>\n",
              "      <td>Free</td>\n",
              "      <td>0</td>\n",
              "      <td>Mature 17+</td>\n",
              "      <td>Books &amp; Reference</td>\n",
              "      <td>January 19, 2015</td>\n",
              "      <td>Varies with device</td>\n",
              "      <td>Varies with device</td>\n",
              "    </tr>\n",
              "    <tr>\n",
              "      <th>10840</th>\n",
              "      <td>iHoroscope - 2018 Daily Horoscope &amp; Astrology</td>\n",
              "      <td>LIFESTYLE</td>\n",
              "      <td>4.5</td>\n",
              "      <td>398307</td>\n",
              "      <td>19M</td>\n",
              "      <td>10,000,000+</td>\n",
              "      <td>Free</td>\n",
              "      <td>0</td>\n",
              "      <td>Everyone</td>\n",
              "      <td>Lifestyle</td>\n",
              "      <td>July 25, 2018</td>\n",
              "      <td>Varies with device</td>\n",
              "      <td>Varies with device</td>\n",
              "    </tr>\n",
              "  </tbody>\n",
              "</table>\n",
              "</div>\n",
              "      <button class=\"colab-df-convert\" onclick=\"convertToInteractive('df-1831c2ca-5f6f-4b16-89b4-dfd64b164260')\"\n",
              "              title=\"Convert this dataframe to an interactive table.\"\n",
              "              style=\"display:none;\">\n",
              "        \n",
              "  <svg xmlns=\"http://www.w3.org/2000/svg\" height=\"24px\"viewBox=\"0 0 24 24\"\n",
              "       width=\"24px\">\n",
              "    <path d=\"M0 0h24v24H0V0z\" fill=\"none\"/>\n",
              "    <path d=\"M18.56 5.44l.94 2.06.94-2.06 2.06-.94-2.06-.94-.94-2.06-.94 2.06-2.06.94zm-11 1L8.5 8.5l.94-2.06 2.06-.94-2.06-.94L8.5 2.5l-.94 2.06-2.06.94zm10 10l.94 2.06.94-2.06 2.06-.94-2.06-.94-.94-2.06-.94 2.06-2.06.94z\"/><path d=\"M17.41 7.96l-1.37-1.37c-.4-.4-.92-.59-1.43-.59-.52 0-1.04.2-1.43.59L10.3 9.45l-7.72 7.72c-.78.78-.78 2.05 0 2.83L4 21.41c.39.39.9.59 1.41.59.51 0 1.02-.2 1.41-.59l7.78-7.78 2.81-2.81c.8-.78.8-2.07 0-2.86zM5.41 20L4 18.59l7.72-7.72 1.47 1.35L5.41 20z\"/>\n",
              "  </svg>\n",
              "      </button>\n",
              "      \n",
              "  <style>\n",
              "    .colab-df-container {\n",
              "      display:flex;\n",
              "      flex-wrap:wrap;\n",
              "      gap: 12px;\n",
              "    }\n",
              "\n",
              "    .colab-df-convert {\n",
              "      background-color: #E8F0FE;\n",
              "      border: none;\n",
              "      border-radius: 50%;\n",
              "      cursor: pointer;\n",
              "      display: none;\n",
              "      fill: #1967D2;\n",
              "      height: 32px;\n",
              "      padding: 0 0 0 0;\n",
              "      width: 32px;\n",
              "    }\n",
              "\n",
              "    .colab-df-convert:hover {\n",
              "      background-color: #E2EBFA;\n",
              "      box-shadow: 0px 1px 2px rgba(60, 64, 67, 0.3), 0px 1px 3px 1px rgba(60, 64, 67, 0.15);\n",
              "      fill: #174EA6;\n",
              "    }\n",
              "\n",
              "    [theme=dark] .colab-df-convert {\n",
              "      background-color: #3B4455;\n",
              "      fill: #D2E3FC;\n",
              "    }\n",
              "\n",
              "    [theme=dark] .colab-df-convert:hover {\n",
              "      background-color: #434B5C;\n",
              "      box-shadow: 0px 1px 3px 1px rgba(0, 0, 0, 0.15);\n",
              "      filter: drop-shadow(0px 1px 2px rgba(0, 0, 0, 0.3));\n",
              "      fill: #FFFFFF;\n",
              "    }\n",
              "  </style>\n",
              "\n",
              "      <script>\n",
              "        const buttonEl =\n",
              "          document.querySelector('#df-1831c2ca-5f6f-4b16-89b4-dfd64b164260 button.colab-df-convert');\n",
              "        buttonEl.style.display =\n",
              "          google.colab.kernel.accessAllowed ? 'block' : 'none';\n",
              "\n",
              "        async function convertToInteractive(key) {\n",
              "          const element = document.querySelector('#df-1831c2ca-5f6f-4b16-89b4-dfd64b164260');\n",
              "          const dataTable =\n",
              "            await google.colab.kernel.invokeFunction('convertToInteractive',\n",
              "                                                     [key], {});\n",
              "          if (!dataTable) return;\n",
              "\n",
              "          const docLinkHtml = 'Like what you see? Visit the ' +\n",
              "            '<a target=\"_blank\" href=https://colab.research.google.com/notebooks/data_table.ipynb>data table notebook</a>'\n",
              "            + ' to learn more about interactive tables.';\n",
              "          element.innerHTML = '';\n",
              "          dataTable['output_type'] = 'display_data';\n",
              "          await google.colab.output.renderOutput(dataTable, element);\n",
              "          const docLink = document.createElement('div');\n",
              "          docLink.innerHTML = docLinkHtml;\n",
              "          element.appendChild(docLink);\n",
              "        }\n",
              "      </script>\n",
              "    </div>\n",
              "  </div>\n",
              "  "
            ]
          },
          "metadata": {},
          "execution_count": 247
        }
      ]
    },
    {
      "cell_type": "code",
      "metadata": {
        "colab": {
          "base_uri": "https://localhost:8080/"
        },
        "id": "sYrbLBuuKI_S",
        "outputId": "725e3146-9b72-4fb5-f0e5-667bce3b169c"
      },
      "source": [
        "df_playstore.columns"
      ],
      "execution_count": null,
      "outputs": [
        {
          "output_type": "execute_result",
          "data": {
            "text/plain": [
              "Index(['App', 'Category', 'Rating', 'Reviews', 'Size', 'Installs', 'Type',\n",
              "       'Price', 'Content Rating', 'Genres', 'Last Updated', 'Current Ver',\n",
              "       'Android Ver'],\n",
              "      dtype='object')"
            ]
          },
          "metadata": {},
          "execution_count": 248
        }
      ]
    },
    {
      "cell_type": "code",
      "metadata": {
        "colab": {
          "base_uri": "https://localhost:8080/"
        },
        "id": "QcNO4KOxKTSy",
        "outputId": "f71bb5e6-e0bf-4061-b309-5ae9d55f00c3"
      },
      "source": [
        "df_playstore.shape"
      ],
      "execution_count": null,
      "outputs": [
        {
          "output_type": "execute_result",
          "data": {
            "text/plain": [
              "(10841, 13)"
            ]
          },
          "metadata": {},
          "execution_count": 249
        }
      ]
    },
    {
      "cell_type": "markdown",
      "metadata": {
        "id": "XOWGcX13LSaa"
      },
      "source": [
        "**Review Data set**"
      ]
    },
    {
      "cell_type": "code",
      "metadata": {
        "colab": {
          "base_uri": "https://localhost:8080/"
        },
        "id": "-gL9rIzQLDMU",
        "outputId": "ebeec97a-7740-4946-9732-835b7bf1e3ae"
      },
      "source": [
        "df_reviews.info()"
      ],
      "execution_count": null,
      "outputs": [
        {
          "output_type": "stream",
          "name": "stdout",
          "text": [
            "<class 'pandas.core.frame.DataFrame'>\n",
            "RangeIndex: 64295 entries, 0 to 64294\n",
            "Data columns (total 5 columns):\n",
            " #   Column                  Non-Null Count  Dtype  \n",
            "---  ------                  --------------  -----  \n",
            " 0   App                     64295 non-null  object \n",
            " 1   Translated_Review       37427 non-null  object \n",
            " 2   Sentiment               37432 non-null  object \n",
            " 3   Sentiment_Polarity      37432 non-null  float64\n",
            " 4   Sentiment_Subjectivity  37432 non-null  float64\n",
            "dtypes: float64(2), object(3)\n",
            "memory usage: 2.5+ MB\n"
          ]
        }
      ]
    },
    {
      "cell_type": "code",
      "metadata": {
        "colab": {
          "base_uri": "https://localhost:8080/",
          "height": 206
        },
        "id": "fm2K3g5lZ6iY",
        "outputId": "01a69e19-ef92-440b-ed53-c7bcf892b212"
      },
      "source": [
        "df_reviews.head()"
      ],
      "execution_count": null,
      "outputs": [
        {
          "output_type": "execute_result",
          "data": {
            "text/plain": [
              "                     App                                  Translated_Review  \\\n",
              "0  10 Best Foods for You  I like eat delicious food. That's I'm cooking ...   \n",
              "1  10 Best Foods for You    This help eating healthy exercise regular basis   \n",
              "2  10 Best Foods for You                                                NaN   \n",
              "3  10 Best Foods for You         Works great especially going grocery store   \n",
              "4  10 Best Foods for You                                       Best idea us   \n",
              "\n",
              "  Sentiment  Sentiment_Polarity  Sentiment_Subjectivity  \n",
              "0  Positive                1.00                0.533333  \n",
              "1  Positive                0.25                0.288462  \n",
              "2       NaN                 NaN                     NaN  \n",
              "3  Positive                0.40                0.875000  \n",
              "4  Positive                1.00                0.300000  "
            ],
            "text/html": [
              "\n",
              "  <div id=\"df-de217fcc-1221-4167-ac07-bac7cec05265\">\n",
              "    <div class=\"colab-df-container\">\n",
              "      <div>\n",
              "<style scoped>\n",
              "    .dataframe tbody tr th:only-of-type {\n",
              "        vertical-align: middle;\n",
              "    }\n",
              "\n",
              "    .dataframe tbody tr th {\n",
              "        vertical-align: top;\n",
              "    }\n",
              "\n",
              "    .dataframe thead th {\n",
              "        text-align: right;\n",
              "    }\n",
              "</style>\n",
              "<table border=\"1\" class=\"dataframe\">\n",
              "  <thead>\n",
              "    <tr style=\"text-align: right;\">\n",
              "      <th></th>\n",
              "      <th>App</th>\n",
              "      <th>Translated_Review</th>\n",
              "      <th>Sentiment</th>\n",
              "      <th>Sentiment_Polarity</th>\n",
              "      <th>Sentiment_Subjectivity</th>\n",
              "    </tr>\n",
              "  </thead>\n",
              "  <tbody>\n",
              "    <tr>\n",
              "      <th>0</th>\n",
              "      <td>10 Best Foods for You</td>\n",
              "      <td>I like eat delicious food. That's I'm cooking ...</td>\n",
              "      <td>Positive</td>\n",
              "      <td>1.00</td>\n",
              "      <td>0.533333</td>\n",
              "    </tr>\n",
              "    <tr>\n",
              "      <th>1</th>\n",
              "      <td>10 Best Foods for You</td>\n",
              "      <td>This help eating healthy exercise regular basis</td>\n",
              "      <td>Positive</td>\n",
              "      <td>0.25</td>\n",
              "      <td>0.288462</td>\n",
              "    </tr>\n",
              "    <tr>\n",
              "      <th>2</th>\n",
              "      <td>10 Best Foods for You</td>\n",
              "      <td>NaN</td>\n",
              "      <td>NaN</td>\n",
              "      <td>NaN</td>\n",
              "      <td>NaN</td>\n",
              "    </tr>\n",
              "    <tr>\n",
              "      <th>3</th>\n",
              "      <td>10 Best Foods for You</td>\n",
              "      <td>Works great especially going grocery store</td>\n",
              "      <td>Positive</td>\n",
              "      <td>0.40</td>\n",
              "      <td>0.875000</td>\n",
              "    </tr>\n",
              "    <tr>\n",
              "      <th>4</th>\n",
              "      <td>10 Best Foods for You</td>\n",
              "      <td>Best idea us</td>\n",
              "      <td>Positive</td>\n",
              "      <td>1.00</td>\n",
              "      <td>0.300000</td>\n",
              "    </tr>\n",
              "  </tbody>\n",
              "</table>\n",
              "</div>\n",
              "      <button class=\"colab-df-convert\" onclick=\"convertToInteractive('df-de217fcc-1221-4167-ac07-bac7cec05265')\"\n",
              "              title=\"Convert this dataframe to an interactive table.\"\n",
              "              style=\"display:none;\">\n",
              "        \n",
              "  <svg xmlns=\"http://www.w3.org/2000/svg\" height=\"24px\"viewBox=\"0 0 24 24\"\n",
              "       width=\"24px\">\n",
              "    <path d=\"M0 0h24v24H0V0z\" fill=\"none\"/>\n",
              "    <path d=\"M18.56 5.44l.94 2.06.94-2.06 2.06-.94-2.06-.94-.94-2.06-.94 2.06-2.06.94zm-11 1L8.5 8.5l.94-2.06 2.06-.94-2.06-.94L8.5 2.5l-.94 2.06-2.06.94zm10 10l.94 2.06.94-2.06 2.06-.94-2.06-.94-.94-2.06-.94 2.06-2.06.94z\"/><path d=\"M17.41 7.96l-1.37-1.37c-.4-.4-.92-.59-1.43-.59-.52 0-1.04.2-1.43.59L10.3 9.45l-7.72 7.72c-.78.78-.78 2.05 0 2.83L4 21.41c.39.39.9.59 1.41.59.51 0 1.02-.2 1.41-.59l7.78-7.78 2.81-2.81c.8-.78.8-2.07 0-2.86zM5.41 20L4 18.59l7.72-7.72 1.47 1.35L5.41 20z\"/>\n",
              "  </svg>\n",
              "      </button>\n",
              "      \n",
              "  <style>\n",
              "    .colab-df-container {\n",
              "      display:flex;\n",
              "      flex-wrap:wrap;\n",
              "      gap: 12px;\n",
              "    }\n",
              "\n",
              "    .colab-df-convert {\n",
              "      background-color: #E8F0FE;\n",
              "      border: none;\n",
              "      border-radius: 50%;\n",
              "      cursor: pointer;\n",
              "      display: none;\n",
              "      fill: #1967D2;\n",
              "      height: 32px;\n",
              "      padding: 0 0 0 0;\n",
              "      width: 32px;\n",
              "    }\n",
              "\n",
              "    .colab-df-convert:hover {\n",
              "      background-color: #E2EBFA;\n",
              "      box-shadow: 0px 1px 2px rgba(60, 64, 67, 0.3), 0px 1px 3px 1px rgba(60, 64, 67, 0.15);\n",
              "      fill: #174EA6;\n",
              "    }\n",
              "\n",
              "    [theme=dark] .colab-df-convert {\n",
              "      background-color: #3B4455;\n",
              "      fill: #D2E3FC;\n",
              "    }\n",
              "\n",
              "    [theme=dark] .colab-df-convert:hover {\n",
              "      background-color: #434B5C;\n",
              "      box-shadow: 0px 1px 3px 1px rgba(0, 0, 0, 0.15);\n",
              "      filter: drop-shadow(0px 1px 2px rgba(0, 0, 0, 0.3));\n",
              "      fill: #FFFFFF;\n",
              "    }\n",
              "  </style>\n",
              "\n",
              "      <script>\n",
              "        const buttonEl =\n",
              "          document.querySelector('#df-de217fcc-1221-4167-ac07-bac7cec05265 button.colab-df-convert');\n",
              "        buttonEl.style.display =\n",
              "          google.colab.kernel.accessAllowed ? 'block' : 'none';\n",
              "\n",
              "        async function convertToInteractive(key) {\n",
              "          const element = document.querySelector('#df-de217fcc-1221-4167-ac07-bac7cec05265');\n",
              "          const dataTable =\n",
              "            await google.colab.kernel.invokeFunction('convertToInteractive',\n",
              "                                                     [key], {});\n",
              "          if (!dataTable) return;\n",
              "\n",
              "          const docLinkHtml = 'Like what you see? Visit the ' +\n",
              "            '<a target=\"_blank\" href=https://colab.research.google.com/notebooks/data_table.ipynb>data table notebook</a>'\n",
              "            + ' to learn more about interactive tables.';\n",
              "          element.innerHTML = '';\n",
              "          dataTable['output_type'] = 'display_data';\n",
              "          await google.colab.output.renderOutput(dataTable, element);\n",
              "          const docLink = document.createElement('div');\n",
              "          docLink.innerHTML = docLinkHtml;\n",
              "          element.appendChild(docLink);\n",
              "        }\n",
              "      </script>\n",
              "    </div>\n",
              "  </div>\n",
              "  "
            ]
          },
          "metadata": {},
          "execution_count": 251
        }
      ]
    },
    {
      "cell_type": "code",
      "metadata": {
        "colab": {
          "base_uri": "https://localhost:8080/"
        },
        "id": "uDOlKaSiNEva",
        "outputId": "3eb82d7c-9de3-4eec-8be5-806cd2b59181"
      },
      "source": [
        "df_reviews.shape"
      ],
      "execution_count": null,
      "outputs": [
        {
          "output_type": "execute_result",
          "data": {
            "text/plain": [
              "(64295, 5)"
            ]
          },
          "metadata": {},
          "execution_count": 252
        }
      ]
    },
    {
      "cell_type": "markdown",
      "metadata": {
        "id": "u6gW0UqlLaT_"
      },
      "source": [
        "\n",
        "\n",
        "*   This data set contains user translated reviews. Sentiments are like boolean values of user translated reviews having values - 'positive','negetive' and 'neutral'.\n",
        "\n",
        "*   Sentiment Polarity is the scale value of reviews that range from -1 to 1. Means for positive it would be in range 0 to 1. Like-wise for negetive it would be -1 to 0. And for neutral it will be 0.\n",
        "\n",
        "\n",
        "*   For sentimennt subjectivity we can consider it as pitch of review. It measured on scale 0 to 1. Means if review words are too good it would be 1. Similarly if review words are too bad its value will be 1.\n",
        "\n",
        "\n",
        "\n",
        "\n"
      ]
    },
    {
      "cell_type": "markdown",
      "metadata": {
        "id": "TIAVLHnEMadl"
      },
      "source": [
        "# Cleaning Data - Dataset can contain missing data, numerical string value, various cues. If we can clean them, we can make easy our analysis.\n"
      ]
    },
    {
      "cell_type": "markdown",
      "metadata": {
        "id": "x0Hn_-zlUzSE"
      },
      "source": [
        "# For user reviews Data"
      ]
    },
    {
      "cell_type": "markdown",
      "metadata": {
        "id": "fzKxXNgGT9K6"
      },
      "source": [
        "**Almost half of the values are null. It is better to just omit them rather than replacing it because we can predict rating by giving mean or such data. Also if any of the columns are null it wouldn't prove useful as all this columns are mostly related to each other.**"
      ]
    },
    {
      "cell_type": "code",
      "metadata": {
        "id": "RPV5yKBBUE8V"
      },
      "source": [
        "##removimg missing values in user reviews\n",
        "df_reviews.dropna(inplace=True)"
      ],
      "execution_count": null,
      "outputs": []
    },
    {
      "cell_type": "code",
      "metadata": {
        "colab": {
          "base_uri": "https://localhost:8080/"
        },
        "id": "IdzOSdYMUnOB",
        "outputId": "1262d90f-9129-442c-a60f-9cef70b7e96a"
      },
      "source": [
        "df_reviews.info()"
      ],
      "execution_count": null,
      "outputs": [
        {
          "output_type": "stream",
          "name": "stdout",
          "text": [
            "<class 'pandas.core.frame.DataFrame'>\n",
            "Int64Index: 37427 entries, 0 to 64230\n",
            "Data columns (total 5 columns):\n",
            " #   Column                  Non-Null Count  Dtype  \n",
            "---  ------                  --------------  -----  \n",
            " 0   App                     37427 non-null  object \n",
            " 1   Translated_Review       37427 non-null  object \n",
            " 2   Sentiment               37427 non-null  object \n",
            " 3   Sentiment_Polarity      37427 non-null  float64\n",
            " 4   Sentiment_Subjectivity  37427 non-null  float64\n",
            "dtypes: float64(2), object(3)\n",
            "memory usage: 1.7+ MB\n"
          ]
        }
      ]
    },
    {
      "cell_type": "markdown",
      "metadata": {
        "id": "BHZ0c4IIVK1B"
      },
      "source": [
        "# For Play Store Data"
      ]
    },
    {
      "cell_type": "code",
      "metadata": {
        "colab": {
          "base_uri": "https://localhost:8080/"
        },
        "id": "CzZlXPsyRnAJ",
        "outputId": "ffddcca7-3a5b-4aad-b7af-50acea350092"
      },
      "source": [
        "df_playstore.info()"
      ],
      "execution_count": null,
      "outputs": [
        {
          "output_type": "stream",
          "name": "stdout",
          "text": [
            "<class 'pandas.core.frame.DataFrame'>\n",
            "RangeIndex: 10841 entries, 0 to 10840\n",
            "Data columns (total 13 columns):\n",
            " #   Column          Non-Null Count  Dtype  \n",
            "---  ------          --------------  -----  \n",
            " 0   App             10841 non-null  object \n",
            " 1   Category        10841 non-null  object \n",
            " 2   Rating          9367 non-null   float64\n",
            " 3   Reviews         10841 non-null  object \n",
            " 4   Size            10841 non-null  object \n",
            " 5   Installs        10841 non-null  object \n",
            " 6   Type            10840 non-null  object \n",
            " 7   Price           10841 non-null  object \n",
            " 8   Content Rating  10840 non-null  object \n",
            " 9   Genres          10841 non-null  object \n",
            " 10  Last Updated    10841 non-null  object \n",
            " 11  Current Ver     10833 non-null  object \n",
            " 12  Android Ver     10838 non-null  object \n",
            "dtypes: float64(1), object(12)\n",
            "memory usage: 1.1+ MB\n"
          ]
        }
      ]
    },
    {
      "cell_type": "code",
      "source": [
        "duplicates=df_playstore.duplicated()\n",
        "#print('Number of duplicates:', duplicates.sum())\n",
        "df_playstore = df_playstore.drop_duplicates()"
      ],
      "metadata": {
        "id": "N1bzVgs0Cw30"
      },
      "execution_count": null,
      "outputs": []
    },
    {
      "cell_type": "markdown",
      "metadata": {
        "id": "MMBtZycSTjaP"
      },
      "source": [
        "# There are many numeric value columns that has Dtype object. Will change that to numeric."
      ]
    },
    {
      "cell_type": "markdown",
      "metadata": {
        "id": "CtkYWGCsT-EE"
      },
      "source": [
        "# Reviews"
      ]
    },
    {
      "cell_type": "code",
      "metadata": {
        "id": "wos9btJ8XAq1",
        "colab": {
          "base_uri": "https://localhost:8080/"
        },
        "outputId": "327a7f0c-8e50-4c3b-822a-168404e37b7a"
      },
      "source": [
        "df_playstore['Reviews'] = df_playstore['Reviews'].str.replace('M', '', regex=True).astype(float)\n"
      ],
      "execution_count": null,
      "outputs": [
        {
          "output_type": "stream",
          "name": "stderr",
          "text": [
            "<ipython-input-257-23d9476cea09>:1: SettingWithCopyWarning:\n",
            "\n",
            "\n",
            "A value is trying to be set on a copy of a slice from a DataFrame.\n",
            "Try using .loc[row_indexer,col_indexer] = value instead\n",
            "\n",
            "See the caveats in the documentation: https://pandas.pydata.org/pandas-docs/stable/user_guide/indexing.html#returning-a-view-versus-a-copy\n",
            "\n"
          ]
        }
      ]
    },
    {
      "cell_type": "code",
      "metadata": {
        "colab": {
          "base_uri": "https://localhost:8080/"
        },
        "id": "-ywlzzVYY1l8",
        "outputId": "067e4d50-5443-4c3c-a264-4db5c429e257"
      },
      "source": [
        "df_playstore['Reviews']"
      ],
      "execution_count": null,
      "outputs": [
        {
          "output_type": "execute_result",
          "data": {
            "text/plain": [
              "0           159.0\n",
              "1           967.0\n",
              "2         87510.0\n",
              "3        215644.0\n",
              "4           967.0\n",
              "           ...   \n",
              "10836        38.0\n",
              "10837         4.0\n",
              "10838         3.0\n",
              "10839       114.0\n",
              "10840    398307.0\n",
              "Name: Reviews, Length: 10358, dtype: float64"
            ]
          },
          "metadata": {},
          "execution_count": 258
        }
      ]
    },
    {
      "cell_type": "code",
      "metadata": {
        "id": "6SywEsg5aJzG"
      },
      "source": [
        "df_playstore = df_playstore.drop(10472)"
      ],
      "execution_count": null,
      "outputs": []
    },
    {
      "cell_type": "markdown",
      "metadata": {
        "id": "Y2L4Mg5gaSee"
      },
      "source": [
        "# Installs"
      ]
    },
    {
      "cell_type": "code",
      "metadata": {
        "colab": {
          "base_uri": "https://localhost:8080/"
        },
        "id": "Xpf0G62HaNSu",
        "outputId": "689cdeb4-be5e-4c6b-dcee-d67fa0dc583b"
      },
      "source": [
        "df_playstore['Installs']"
      ],
      "execution_count": null,
      "outputs": [
        {
          "output_type": "execute_result",
          "data": {
            "text/plain": [
              "0            10,000+\n",
              "1           500,000+\n",
              "2         5,000,000+\n",
              "3        50,000,000+\n",
              "4           100,000+\n",
              "            ...     \n",
              "10836         5,000+\n",
              "10837           100+\n",
              "10838         1,000+\n",
              "10839         1,000+\n",
              "10840    10,000,000+\n",
              "Name: Installs, Length: 10357, dtype: object"
            ]
          },
          "metadata": {},
          "execution_count": 260
        }
      ]
    },
    {
      "cell_type": "code",
      "metadata": {
        "id": "DNczYI3HaYmz"
      },
      "source": [
        "df_playstore['Installs'] = df_playstore['Installs'].str.replace(\"['+,']\", '', regex=True).astype(float)"
      ],
      "execution_count": null,
      "outputs": []
    },
    {
      "cell_type": "code",
      "metadata": {
        "colab": {
          "base_uri": "https://localhost:8080/"
        },
        "id": "agr2pzyaac0J",
        "outputId": "fd38b814-0457-43ac-e7c7-9ca3d13c56f4"
      },
      "source": [
        "df_playstore.info()"
      ],
      "execution_count": null,
      "outputs": [
        {
          "output_type": "stream",
          "name": "stdout",
          "text": [
            "<class 'pandas.core.frame.DataFrame'>\n",
            "Int64Index: 10357 entries, 0 to 10840\n",
            "Data columns (total 13 columns):\n",
            " #   Column          Non-Null Count  Dtype  \n",
            "---  ------          --------------  -----  \n",
            " 0   App             10357 non-null  object \n",
            " 1   Category        10357 non-null  object \n",
            " 2   Rating          8892 non-null   float64\n",
            " 3   Reviews         10357 non-null  float64\n",
            " 4   Size            10357 non-null  object \n",
            " 5   Installs        10357 non-null  float64\n",
            " 6   Type            10356 non-null  object \n",
            " 7   Price           10357 non-null  object \n",
            " 8   Content Rating  10357 non-null  object \n",
            " 9   Genres          10357 non-null  object \n",
            " 10  Last Updated    10357 non-null  object \n",
            " 11  Current Ver     10349 non-null  object \n",
            " 12  Android Ver     10355 non-null  object \n",
            "dtypes: float64(3), object(10)\n",
            "memory usage: 1.1+ MB\n"
          ]
        }
      ]
    },
    {
      "cell_type": "code",
      "source": [
        "df_playstore['Price'].dtypes"
      ],
      "metadata": {
        "colab": {
          "base_uri": "https://localhost:8080/"
        },
        "id": "KiXKPQWJ71zD",
        "outputId": "5734fd56-4292-4c0b-991c-76bcb0d97740"
      },
      "execution_count": null,
      "outputs": [
        {
          "output_type": "execute_result",
          "data": {
            "text/plain": [
              "dtype('O')"
            ]
          },
          "metadata": {},
          "execution_count": 263
        }
      ]
    },
    {
      "cell_type": "code",
      "source": [
        "df_playstore['Price'] # All the values in the Price are not float , some values are object there"
      ],
      "metadata": {
        "colab": {
          "base_uri": "https://localhost:8080/"
        },
        "id": "Ri2FhdSm8Q8K",
        "outputId": "9cc0b608-7ebd-416a-c0e7-1c33c3df32b9"
      },
      "execution_count": null,
      "outputs": [
        {
          "output_type": "execute_result",
          "data": {
            "text/plain": [
              "0        0\n",
              "1        0\n",
              "2        0\n",
              "3        0\n",
              "4        0\n",
              "        ..\n",
              "10836    0\n",
              "10837    0\n",
              "10838    0\n",
              "10839    0\n",
              "10840    0\n",
              "Name: Price, Length: 10357, dtype: object"
            ]
          },
          "metadata": {},
          "execution_count": 264
        }
      ]
    },
    {
      "cell_type": "markdown",
      "metadata": {
        "id": "QN4KOWGbbFkC"
      },
      "source": [
        "# Price"
      ]
    },
    {
      "cell_type": "code",
      "metadata": {
        "id": "O77YuOxdaixy"
      },
      "source": [
        "\n",
        "df_playstore['Price'] = df_playstore['Price'].astype(str).apply(lambda x: x.strip('$')).astype(float)\n",
        "#df_playstore['Price']"
      ],
      "execution_count": null,
      "outputs": []
    },
    {
      "cell_type": "code",
      "metadata": {
        "colab": {
          "base_uri": "https://localhost:8080/"
        },
        "id": "T4Xc4Rvvbqhq",
        "outputId": "d22b869a-a924-4854-cdeb-750d0f31b52b"
      },
      "source": [
        "df_playstore.info()"
      ],
      "execution_count": null,
      "outputs": [
        {
          "output_type": "stream",
          "name": "stdout",
          "text": [
            "<class 'pandas.core.frame.DataFrame'>\n",
            "Int64Index: 10357 entries, 0 to 10840\n",
            "Data columns (total 13 columns):\n",
            " #   Column          Non-Null Count  Dtype  \n",
            "---  ------          --------------  -----  \n",
            " 0   App             10357 non-null  object \n",
            " 1   Category        10357 non-null  object \n",
            " 2   Rating          8892 non-null   float64\n",
            " 3   Reviews         10357 non-null  float64\n",
            " 4   Size            10357 non-null  object \n",
            " 5   Installs        10357 non-null  float64\n",
            " 6   Type            10356 non-null  object \n",
            " 7   Price           10357 non-null  float64\n",
            " 8   Content Rating  10357 non-null  object \n",
            " 9   Genres          10357 non-null  object \n",
            " 10  Last Updated    10357 non-null  object \n",
            " 11  Current Ver     10349 non-null  object \n",
            " 12  Android Ver     10355 non-null  object \n",
            "dtypes: float64(4), object(9)\n",
            "memory usage: 1.1+ MB\n"
          ]
        }
      ]
    },
    {
      "cell_type": "markdown",
      "metadata": {
        "id": "8rTfVN1sbyg7"
      },
      "source": [
        "# Rating"
      ]
    },
    {
      "cell_type": "code",
      "metadata": {
        "id": "R9TWJCxnbw3G"
      },
      "source": [
        "df_playstore['Rating'].fillna(df_playstore['Rating'].median(),inplace=True)"
      ],
      "execution_count": null,
      "outputs": []
    },
    {
      "cell_type": "code",
      "metadata": {
        "colab": {
          "base_uri": "https://localhost:8080/"
        },
        "id": "mVCcahOXcHha",
        "outputId": "53fe562d-7b63-4582-9930-063011ff8cf7"
      },
      "source": [
        "df_playstore.info()"
      ],
      "execution_count": null,
      "outputs": [
        {
          "output_type": "stream",
          "name": "stdout",
          "text": [
            "<class 'pandas.core.frame.DataFrame'>\n",
            "Int64Index: 10357 entries, 0 to 10840\n",
            "Data columns (total 13 columns):\n",
            " #   Column          Non-Null Count  Dtype  \n",
            "---  ------          --------------  -----  \n",
            " 0   App             10357 non-null  object \n",
            " 1   Category        10357 non-null  object \n",
            " 2   Rating          10357 non-null  float64\n",
            " 3   Reviews         10357 non-null  float64\n",
            " 4   Size            10357 non-null  object \n",
            " 5   Installs        10357 non-null  float64\n",
            " 6   Type            10356 non-null  object \n",
            " 7   Price           10357 non-null  float64\n",
            " 8   Content Rating  10357 non-null  object \n",
            " 9   Genres          10357 non-null  object \n",
            " 10  Last Updated    10357 non-null  object \n",
            " 11  Current Ver     10349 non-null  object \n",
            " 12  Android Ver     10355 non-null  object \n",
            "dtypes: float64(4), object(9)\n",
            "memory usage: 1.1+ MB\n"
          ]
        }
      ]
    },
    {
      "cell_type": "markdown",
      "metadata": {
        "id": "eczyfIIrdAng"
      },
      "source": [
        "# Size"
      ]
    },
    {
      "cell_type": "code",
      "metadata": {
        "id": "PKh-XTlTcnLD"
      },
      "source": [
        "#size doesn't impact on user popularity , so we can remove 'size' column \n",
        "df_playstore.drop(labels=['Size'], axis=1,inplace=True)"
      ],
      "execution_count": null,
      "outputs": []
    },
    {
      "cell_type": "code",
      "metadata": {
        "colab": {
          "base_uri": "https://localhost:8080/",
          "height": 354
        },
        "id": "AlodqggCdp7h",
        "outputId": "49554198-ac2b-4934-8e69-a63af53d7208"
      },
      "source": [
        "df_playstore.head()"
      ],
      "execution_count": null,
      "outputs": [
        {
          "output_type": "execute_result",
          "data": {
            "text/plain": [
              "                                                 App        Category  Rating  \\\n",
              "0     Photo Editor & Candy Camera & Grid & ScrapBook  ART_AND_DESIGN     4.1   \n",
              "1                                Coloring book moana  ART_AND_DESIGN     3.9   \n",
              "2  U Launcher Lite – FREE Live Cool Themes, Hide ...  ART_AND_DESIGN     4.7   \n",
              "3                              Sketch - Draw & Paint  ART_AND_DESIGN     4.5   \n",
              "4              Pixel Draw - Number Art Coloring Book  ART_AND_DESIGN     4.3   \n",
              "\n",
              "    Reviews    Installs  Type  Price Content Rating  \\\n",
              "0     159.0     10000.0  Free    0.0       Everyone   \n",
              "1     967.0    500000.0  Free    0.0       Everyone   \n",
              "2   87510.0   5000000.0  Free    0.0       Everyone   \n",
              "3  215644.0  50000000.0  Free    0.0           Teen   \n",
              "4     967.0    100000.0  Free    0.0       Everyone   \n",
              "\n",
              "                      Genres      Last Updated         Current Ver  \\\n",
              "0               Art & Design   January 7, 2018               1.0.0   \n",
              "1  Art & Design;Pretend Play  January 15, 2018               2.0.0   \n",
              "2               Art & Design    August 1, 2018               1.2.4   \n",
              "3               Art & Design      June 8, 2018  Varies with device   \n",
              "4    Art & Design;Creativity     June 20, 2018                 1.1   \n",
              "\n",
              "    Android Ver  \n",
              "0  4.0.3 and up  \n",
              "1  4.0.3 and up  \n",
              "2  4.0.3 and up  \n",
              "3    4.2 and up  \n",
              "4    4.4 and up  "
            ],
            "text/html": [
              "\n",
              "  <div id=\"df-935e5e80-47d8-4e24-bb69-aebe453ca6a5\">\n",
              "    <div class=\"colab-df-container\">\n",
              "      <div>\n",
              "<style scoped>\n",
              "    .dataframe tbody tr th:only-of-type {\n",
              "        vertical-align: middle;\n",
              "    }\n",
              "\n",
              "    .dataframe tbody tr th {\n",
              "        vertical-align: top;\n",
              "    }\n",
              "\n",
              "    .dataframe thead th {\n",
              "        text-align: right;\n",
              "    }\n",
              "</style>\n",
              "<table border=\"1\" class=\"dataframe\">\n",
              "  <thead>\n",
              "    <tr style=\"text-align: right;\">\n",
              "      <th></th>\n",
              "      <th>App</th>\n",
              "      <th>Category</th>\n",
              "      <th>Rating</th>\n",
              "      <th>Reviews</th>\n",
              "      <th>Installs</th>\n",
              "      <th>Type</th>\n",
              "      <th>Price</th>\n",
              "      <th>Content Rating</th>\n",
              "      <th>Genres</th>\n",
              "      <th>Last Updated</th>\n",
              "      <th>Current Ver</th>\n",
              "      <th>Android Ver</th>\n",
              "    </tr>\n",
              "  </thead>\n",
              "  <tbody>\n",
              "    <tr>\n",
              "      <th>0</th>\n",
              "      <td>Photo Editor &amp; Candy Camera &amp; Grid &amp; ScrapBook</td>\n",
              "      <td>ART_AND_DESIGN</td>\n",
              "      <td>4.1</td>\n",
              "      <td>159.0</td>\n",
              "      <td>10000.0</td>\n",
              "      <td>Free</td>\n",
              "      <td>0.0</td>\n",
              "      <td>Everyone</td>\n",
              "      <td>Art &amp; Design</td>\n",
              "      <td>January 7, 2018</td>\n",
              "      <td>1.0.0</td>\n",
              "      <td>4.0.3 and up</td>\n",
              "    </tr>\n",
              "    <tr>\n",
              "      <th>1</th>\n",
              "      <td>Coloring book moana</td>\n",
              "      <td>ART_AND_DESIGN</td>\n",
              "      <td>3.9</td>\n",
              "      <td>967.0</td>\n",
              "      <td>500000.0</td>\n",
              "      <td>Free</td>\n",
              "      <td>0.0</td>\n",
              "      <td>Everyone</td>\n",
              "      <td>Art &amp; Design;Pretend Play</td>\n",
              "      <td>January 15, 2018</td>\n",
              "      <td>2.0.0</td>\n",
              "      <td>4.0.3 and up</td>\n",
              "    </tr>\n",
              "    <tr>\n",
              "      <th>2</th>\n",
              "      <td>U Launcher Lite – FREE Live Cool Themes, Hide ...</td>\n",
              "      <td>ART_AND_DESIGN</td>\n",
              "      <td>4.7</td>\n",
              "      <td>87510.0</td>\n",
              "      <td>5000000.0</td>\n",
              "      <td>Free</td>\n",
              "      <td>0.0</td>\n",
              "      <td>Everyone</td>\n",
              "      <td>Art &amp; Design</td>\n",
              "      <td>August 1, 2018</td>\n",
              "      <td>1.2.4</td>\n",
              "      <td>4.0.3 and up</td>\n",
              "    </tr>\n",
              "    <tr>\n",
              "      <th>3</th>\n",
              "      <td>Sketch - Draw &amp; Paint</td>\n",
              "      <td>ART_AND_DESIGN</td>\n",
              "      <td>4.5</td>\n",
              "      <td>215644.0</td>\n",
              "      <td>50000000.0</td>\n",
              "      <td>Free</td>\n",
              "      <td>0.0</td>\n",
              "      <td>Teen</td>\n",
              "      <td>Art &amp; Design</td>\n",
              "      <td>June 8, 2018</td>\n",
              "      <td>Varies with device</td>\n",
              "      <td>4.2 and up</td>\n",
              "    </tr>\n",
              "    <tr>\n",
              "      <th>4</th>\n",
              "      <td>Pixel Draw - Number Art Coloring Book</td>\n",
              "      <td>ART_AND_DESIGN</td>\n",
              "      <td>4.3</td>\n",
              "      <td>967.0</td>\n",
              "      <td>100000.0</td>\n",
              "      <td>Free</td>\n",
              "      <td>0.0</td>\n",
              "      <td>Everyone</td>\n",
              "      <td>Art &amp; Design;Creativity</td>\n",
              "      <td>June 20, 2018</td>\n",
              "      <td>1.1</td>\n",
              "      <td>4.4 and up</td>\n",
              "    </tr>\n",
              "  </tbody>\n",
              "</table>\n",
              "</div>\n",
              "      <button class=\"colab-df-convert\" onclick=\"convertToInteractive('df-935e5e80-47d8-4e24-bb69-aebe453ca6a5')\"\n",
              "              title=\"Convert this dataframe to an interactive table.\"\n",
              "              style=\"display:none;\">\n",
              "        \n",
              "  <svg xmlns=\"http://www.w3.org/2000/svg\" height=\"24px\"viewBox=\"0 0 24 24\"\n",
              "       width=\"24px\">\n",
              "    <path d=\"M0 0h24v24H0V0z\" fill=\"none\"/>\n",
              "    <path d=\"M18.56 5.44l.94 2.06.94-2.06 2.06-.94-2.06-.94-.94-2.06-.94 2.06-2.06.94zm-11 1L8.5 8.5l.94-2.06 2.06-.94-2.06-.94L8.5 2.5l-.94 2.06-2.06.94zm10 10l.94 2.06.94-2.06 2.06-.94-2.06-.94-.94-2.06-.94 2.06-2.06.94z\"/><path d=\"M17.41 7.96l-1.37-1.37c-.4-.4-.92-.59-1.43-.59-.52 0-1.04.2-1.43.59L10.3 9.45l-7.72 7.72c-.78.78-.78 2.05 0 2.83L4 21.41c.39.39.9.59 1.41.59.51 0 1.02-.2 1.41-.59l7.78-7.78 2.81-2.81c.8-.78.8-2.07 0-2.86zM5.41 20L4 18.59l7.72-7.72 1.47 1.35L5.41 20z\"/>\n",
              "  </svg>\n",
              "      </button>\n",
              "      \n",
              "  <style>\n",
              "    .colab-df-container {\n",
              "      display:flex;\n",
              "      flex-wrap:wrap;\n",
              "      gap: 12px;\n",
              "    }\n",
              "\n",
              "    .colab-df-convert {\n",
              "      background-color: #E8F0FE;\n",
              "      border: none;\n",
              "      border-radius: 50%;\n",
              "      cursor: pointer;\n",
              "      display: none;\n",
              "      fill: #1967D2;\n",
              "      height: 32px;\n",
              "      padding: 0 0 0 0;\n",
              "      width: 32px;\n",
              "    }\n",
              "\n",
              "    .colab-df-convert:hover {\n",
              "      background-color: #E2EBFA;\n",
              "      box-shadow: 0px 1px 2px rgba(60, 64, 67, 0.3), 0px 1px 3px 1px rgba(60, 64, 67, 0.15);\n",
              "      fill: #174EA6;\n",
              "    }\n",
              "\n",
              "    [theme=dark] .colab-df-convert {\n",
              "      background-color: #3B4455;\n",
              "      fill: #D2E3FC;\n",
              "    }\n",
              "\n",
              "    [theme=dark] .colab-df-convert:hover {\n",
              "      background-color: #434B5C;\n",
              "      box-shadow: 0px 1px 3px 1px rgba(0, 0, 0, 0.15);\n",
              "      filter: drop-shadow(0px 1px 2px rgba(0, 0, 0, 0.3));\n",
              "      fill: #FFFFFF;\n",
              "    }\n",
              "  </style>\n",
              "\n",
              "      <script>\n",
              "        const buttonEl =\n",
              "          document.querySelector('#df-935e5e80-47d8-4e24-bb69-aebe453ca6a5 button.colab-df-convert');\n",
              "        buttonEl.style.display =\n",
              "          google.colab.kernel.accessAllowed ? 'block' : 'none';\n",
              "\n",
              "        async function convertToInteractive(key) {\n",
              "          const element = document.querySelector('#df-935e5e80-47d8-4e24-bb69-aebe453ca6a5');\n",
              "          const dataTable =\n",
              "            await google.colab.kernel.invokeFunction('convertToInteractive',\n",
              "                                                     [key], {});\n",
              "          if (!dataTable) return;\n",
              "\n",
              "          const docLinkHtml = 'Like what you see? Visit the ' +\n",
              "            '<a target=\"_blank\" href=https://colab.research.google.com/notebooks/data_table.ipynb>data table notebook</a>'\n",
              "            + ' to learn more about interactive tables.';\n",
              "          element.innerHTML = '';\n",
              "          dataTable['output_type'] = 'display_data';\n",
              "          await google.colab.output.renderOutput(dataTable, element);\n",
              "          const docLink = document.createElement('div');\n",
              "          docLink.innerHTML = docLinkHtml;\n",
              "          element.appendChild(docLink);\n",
              "        }\n",
              "      </script>\n",
              "    </div>\n",
              "  </div>\n",
              "  "
            ]
          },
          "metadata": {},
          "execution_count": 270
        }
      ]
    },
    {
      "cell_type": "markdown",
      "metadata": {
        "id": "4bYIrRI3egqf"
      },
      "source": [
        "**Remove Last updated,Current Ver and  Android Ver. because there is no meaning of analyse these data**"
      ]
    },
    {
      "cell_type": "code",
      "metadata": {
        "id": "fogbcnfvdv66"
      },
      "source": [
        "df_playstore.drop(labels=['Last Updated','Current Ver','Android Ver'], axis=1,inplace=True)"
      ],
      "execution_count": null,
      "outputs": []
    },
    {
      "cell_type": "code",
      "metadata": {
        "colab": {
          "base_uri": "https://localhost:8080/",
          "height": 206
        },
        "id": "E3vvinZ1eRIO",
        "outputId": "fbac902e-02ab-4cd1-f573-29b24d8717b4"
      },
      "source": [
        "df_playstore.head()"
      ],
      "execution_count": null,
      "outputs": [
        {
          "output_type": "execute_result",
          "data": {
            "text/plain": [
              "                                                 App        Category  Rating  \\\n",
              "0     Photo Editor & Candy Camera & Grid & ScrapBook  ART_AND_DESIGN     4.1   \n",
              "1                                Coloring book moana  ART_AND_DESIGN     3.9   \n",
              "2  U Launcher Lite – FREE Live Cool Themes, Hide ...  ART_AND_DESIGN     4.7   \n",
              "3                              Sketch - Draw & Paint  ART_AND_DESIGN     4.5   \n",
              "4              Pixel Draw - Number Art Coloring Book  ART_AND_DESIGN     4.3   \n",
              "\n",
              "    Reviews    Installs  Type  Price Content Rating                     Genres  \n",
              "0     159.0     10000.0  Free    0.0       Everyone               Art & Design  \n",
              "1     967.0    500000.0  Free    0.0       Everyone  Art & Design;Pretend Play  \n",
              "2   87510.0   5000000.0  Free    0.0       Everyone               Art & Design  \n",
              "3  215644.0  50000000.0  Free    0.0           Teen               Art & Design  \n",
              "4     967.0    100000.0  Free    0.0       Everyone    Art & Design;Creativity  "
            ],
            "text/html": [
              "\n",
              "  <div id=\"df-3c9497d6-124e-41de-b1a9-bb26fc615cd4\">\n",
              "    <div class=\"colab-df-container\">\n",
              "      <div>\n",
              "<style scoped>\n",
              "    .dataframe tbody tr th:only-of-type {\n",
              "        vertical-align: middle;\n",
              "    }\n",
              "\n",
              "    .dataframe tbody tr th {\n",
              "        vertical-align: top;\n",
              "    }\n",
              "\n",
              "    .dataframe thead th {\n",
              "        text-align: right;\n",
              "    }\n",
              "</style>\n",
              "<table border=\"1\" class=\"dataframe\">\n",
              "  <thead>\n",
              "    <tr style=\"text-align: right;\">\n",
              "      <th></th>\n",
              "      <th>App</th>\n",
              "      <th>Category</th>\n",
              "      <th>Rating</th>\n",
              "      <th>Reviews</th>\n",
              "      <th>Installs</th>\n",
              "      <th>Type</th>\n",
              "      <th>Price</th>\n",
              "      <th>Content Rating</th>\n",
              "      <th>Genres</th>\n",
              "    </tr>\n",
              "  </thead>\n",
              "  <tbody>\n",
              "    <tr>\n",
              "      <th>0</th>\n",
              "      <td>Photo Editor &amp; Candy Camera &amp; Grid &amp; ScrapBook</td>\n",
              "      <td>ART_AND_DESIGN</td>\n",
              "      <td>4.1</td>\n",
              "      <td>159.0</td>\n",
              "      <td>10000.0</td>\n",
              "      <td>Free</td>\n",
              "      <td>0.0</td>\n",
              "      <td>Everyone</td>\n",
              "      <td>Art &amp; Design</td>\n",
              "    </tr>\n",
              "    <tr>\n",
              "      <th>1</th>\n",
              "      <td>Coloring book moana</td>\n",
              "      <td>ART_AND_DESIGN</td>\n",
              "      <td>3.9</td>\n",
              "      <td>967.0</td>\n",
              "      <td>500000.0</td>\n",
              "      <td>Free</td>\n",
              "      <td>0.0</td>\n",
              "      <td>Everyone</td>\n",
              "      <td>Art &amp; Design;Pretend Play</td>\n",
              "    </tr>\n",
              "    <tr>\n",
              "      <th>2</th>\n",
              "      <td>U Launcher Lite – FREE Live Cool Themes, Hide ...</td>\n",
              "      <td>ART_AND_DESIGN</td>\n",
              "      <td>4.7</td>\n",
              "      <td>87510.0</td>\n",
              "      <td>5000000.0</td>\n",
              "      <td>Free</td>\n",
              "      <td>0.0</td>\n",
              "      <td>Everyone</td>\n",
              "      <td>Art &amp; Design</td>\n",
              "    </tr>\n",
              "    <tr>\n",
              "      <th>3</th>\n",
              "      <td>Sketch - Draw &amp; Paint</td>\n",
              "      <td>ART_AND_DESIGN</td>\n",
              "      <td>4.5</td>\n",
              "      <td>215644.0</td>\n",
              "      <td>50000000.0</td>\n",
              "      <td>Free</td>\n",
              "      <td>0.0</td>\n",
              "      <td>Teen</td>\n",
              "      <td>Art &amp; Design</td>\n",
              "    </tr>\n",
              "    <tr>\n",
              "      <th>4</th>\n",
              "      <td>Pixel Draw - Number Art Coloring Book</td>\n",
              "      <td>ART_AND_DESIGN</td>\n",
              "      <td>4.3</td>\n",
              "      <td>967.0</td>\n",
              "      <td>100000.0</td>\n",
              "      <td>Free</td>\n",
              "      <td>0.0</td>\n",
              "      <td>Everyone</td>\n",
              "      <td>Art &amp; Design;Creativity</td>\n",
              "    </tr>\n",
              "  </tbody>\n",
              "</table>\n",
              "</div>\n",
              "      <button class=\"colab-df-convert\" onclick=\"convertToInteractive('df-3c9497d6-124e-41de-b1a9-bb26fc615cd4')\"\n",
              "              title=\"Convert this dataframe to an interactive table.\"\n",
              "              style=\"display:none;\">\n",
              "        \n",
              "  <svg xmlns=\"http://www.w3.org/2000/svg\" height=\"24px\"viewBox=\"0 0 24 24\"\n",
              "       width=\"24px\">\n",
              "    <path d=\"M0 0h24v24H0V0z\" fill=\"none\"/>\n",
              "    <path d=\"M18.56 5.44l.94 2.06.94-2.06 2.06-.94-2.06-.94-.94-2.06-.94 2.06-2.06.94zm-11 1L8.5 8.5l.94-2.06 2.06-.94-2.06-.94L8.5 2.5l-.94 2.06-2.06.94zm10 10l.94 2.06.94-2.06 2.06-.94-2.06-.94-.94-2.06-.94 2.06-2.06.94z\"/><path d=\"M17.41 7.96l-1.37-1.37c-.4-.4-.92-.59-1.43-.59-.52 0-1.04.2-1.43.59L10.3 9.45l-7.72 7.72c-.78.78-.78 2.05 0 2.83L4 21.41c.39.39.9.59 1.41.59.51 0 1.02-.2 1.41-.59l7.78-7.78 2.81-2.81c.8-.78.8-2.07 0-2.86zM5.41 20L4 18.59l7.72-7.72 1.47 1.35L5.41 20z\"/>\n",
              "  </svg>\n",
              "      </button>\n",
              "      \n",
              "  <style>\n",
              "    .colab-df-container {\n",
              "      display:flex;\n",
              "      flex-wrap:wrap;\n",
              "      gap: 12px;\n",
              "    }\n",
              "\n",
              "    .colab-df-convert {\n",
              "      background-color: #E8F0FE;\n",
              "      border: none;\n",
              "      border-radius: 50%;\n",
              "      cursor: pointer;\n",
              "      display: none;\n",
              "      fill: #1967D2;\n",
              "      height: 32px;\n",
              "      padding: 0 0 0 0;\n",
              "      width: 32px;\n",
              "    }\n",
              "\n",
              "    .colab-df-convert:hover {\n",
              "      background-color: #E2EBFA;\n",
              "      box-shadow: 0px 1px 2px rgba(60, 64, 67, 0.3), 0px 1px 3px 1px rgba(60, 64, 67, 0.15);\n",
              "      fill: #174EA6;\n",
              "    }\n",
              "\n",
              "    [theme=dark] .colab-df-convert {\n",
              "      background-color: #3B4455;\n",
              "      fill: #D2E3FC;\n",
              "    }\n",
              "\n",
              "    [theme=dark] .colab-df-convert:hover {\n",
              "      background-color: #434B5C;\n",
              "      box-shadow: 0px 1px 3px 1px rgba(0, 0, 0, 0.15);\n",
              "      filter: drop-shadow(0px 1px 2px rgba(0, 0, 0, 0.3));\n",
              "      fill: #FFFFFF;\n",
              "    }\n",
              "  </style>\n",
              "\n",
              "      <script>\n",
              "        const buttonEl =\n",
              "          document.querySelector('#df-3c9497d6-124e-41de-b1a9-bb26fc615cd4 button.colab-df-convert');\n",
              "        buttonEl.style.display =\n",
              "          google.colab.kernel.accessAllowed ? 'block' : 'none';\n",
              "\n",
              "        async function convertToInteractive(key) {\n",
              "          const element = document.querySelector('#df-3c9497d6-124e-41de-b1a9-bb26fc615cd4');\n",
              "          const dataTable =\n",
              "            await google.colab.kernel.invokeFunction('convertToInteractive',\n",
              "                                                     [key], {});\n",
              "          if (!dataTable) return;\n",
              "\n",
              "          const docLinkHtml = 'Like what you see? Visit the ' +\n",
              "            '<a target=\"_blank\" href=https://colab.research.google.com/notebooks/data_table.ipynb>data table notebook</a>'\n",
              "            + ' to learn more about interactive tables.';\n",
              "          element.innerHTML = '';\n",
              "          dataTable['output_type'] = 'display_data';\n",
              "          await google.colab.output.renderOutput(dataTable, element);\n",
              "          const docLink = document.createElement('div');\n",
              "          docLink.innerHTML = docLinkHtml;\n",
              "          element.appendChild(docLink);\n",
              "        }\n",
              "      </script>\n",
              "    </div>\n",
              "  </div>\n",
              "  "
            ]
          },
          "metadata": {},
          "execution_count": 272
        }
      ]
    },
    {
      "cell_type": "markdown",
      "metadata": {
        "id": "3XNTQyJwPCww"
      },
      "source": [
        "# Category"
      ]
    },
    {
      "cell_type": "code",
      "source": [
        "df_playstore['Category'].unique()"
      ],
      "metadata": {
        "colab": {
          "base_uri": "https://localhost:8080/"
        },
        "id": "l5AXAtQ1AS9X",
        "outputId": "310cb375-29a8-46c2-e3b6-dfa97ec37f88"
      },
      "execution_count": null,
      "outputs": [
        {
          "output_type": "execute_result",
          "data": {
            "text/plain": [
              "array(['ART_AND_DESIGN', 'AUTO_AND_VEHICLES', 'BEAUTY',\n",
              "       'BOOKS_AND_REFERENCE', 'BUSINESS', 'COMICS', 'COMMUNICATION',\n",
              "       'DATING', 'EDUCATION', 'ENTERTAINMENT', 'EVENTS', 'FINANCE',\n",
              "       'FOOD_AND_DRINK', 'HEALTH_AND_FITNESS', 'HOUSE_AND_HOME',\n",
              "       'LIBRARIES_AND_DEMO', 'LIFESTYLE', 'GAME', 'FAMILY', 'MEDICAL',\n",
              "       'SOCIAL', 'SHOPPING', 'PHOTOGRAPHY', 'SPORTS', 'TRAVEL_AND_LOCAL',\n",
              "       'TOOLS', 'PERSONALIZATION', 'PRODUCTIVITY', 'PARENTING', 'WEATHER',\n",
              "       'VIDEO_PLAYERS', 'NEWS_AND_MAGAZINES', 'MAPS_AND_NAVIGATION'],\n",
              "      dtype=object)"
            ]
          },
          "metadata": {},
          "execution_count": 273
        }
      ]
    },
    {
      "cell_type": "code",
      "source": [
        "df_playstore['Category'].nunique()"
      ],
      "metadata": {
        "colab": {
          "base_uri": "https://localhost:8080/"
        },
        "id": "RGXi2-qeApbj",
        "outputId": "a86fcf81-8406-400b-8cdd-051f3d9dca9b"
      },
      "execution_count": null,
      "outputs": [
        {
          "output_type": "execute_result",
          "data": {
            "text/plain": [
              "33"
            ]
          },
          "metadata": {},
          "execution_count": 274
        }
      ]
    },
    {
      "cell_type": "code",
      "metadata": {
        "id": "pX61qRVqeeqx",
        "colab": {
          "base_uri": "https://localhost:8080/",
          "height": 423
        },
        "outputId": "1584e923-c499-49fc-ec3f-c85138b3d9d2"
      },
      "source": [
        "df_playstore[df_playstore['Category']=='ART_AND_DESIGN'].value_counts().reset_index()"
      ],
      "execution_count": null,
      "outputs": [
        {
          "output_type": "execute_result",
          "data": {
            "text/plain": [
              "                                                  App        Category  Rating  \\\n",
              "0                            350 Diy Room Decor Ideas  ART_AND_DESIGN     4.5   \n",
              "1                         Logo Maker - Small Business  ART_AND_DESIGN     4.0   \n",
              "2                              Mcqueen Coloring pages  ART_AND_DESIGN     4.3   \n",
              "3              Name Art DP - Focus n Filter Text 2018  ART_AND_DESIGN     4.3   \n",
              "4             Name Art Photo Editor - Focus n Filters  ART_AND_DESIGN     4.4   \n",
              "..                                                ...             ...     ...   \n",
              "60                                    I Creative Idea  ART_AND_DESIGN     4.7   \n",
              "61                                   Infinite Painter  ART_AND_DESIGN     4.1   \n",
              "62  Install images with music to make video withou...  ART_AND_DESIGN     4.6   \n",
              "63                      Kids Paint Free - Drawing Fun  ART_AND_DESIGN     4.7   \n",
              "64                                          صور حرف H  ART_AND_DESIGN     4.4   \n",
              "\n",
              "    Reviews   Installs  Type  Price Content Rating  \\\n",
              "0      27.0    10000.0  Free    0.0       Everyone   \n",
              "1     450.0   100000.0  Free    0.0       Everyone   \n",
              "2      61.0   100000.0  Free    0.0       Everyone   \n",
              "3     132.0    10000.0  Free    0.0       Everyone   \n",
              "4    8788.0  1000000.0  Free    0.0       Everyone   \n",
              "..      ...        ...   ...    ...            ...   \n",
              "60    353.0    10000.0  Free    0.0           Teen   \n",
              "61  36815.0  1000000.0  Free    0.0       Everyone   \n",
              "62   1070.0   100000.0  Free    0.0       Everyone   \n",
              "63    121.0    10000.0  Free    0.0       Everyone   \n",
              "64     13.0     1000.0  Free    0.0       Everyone   \n",
              "\n",
              "                             Genres  0  \n",
              "0                      Art & Design  1  \n",
              "1                      Art & Design  1  \n",
              "2   Art & Design;Action & Adventure  1  \n",
              "3                      Art & Design  1  \n",
              "4                      Art & Design  1  \n",
              "..                              ... ..  \n",
              "60                     Art & Design  1  \n",
              "61                     Art & Design  1  \n",
              "62                     Art & Design  1  \n",
              "63          Art & Design;Creativity  1  \n",
              "64                     Art & Design  1  \n",
              "\n",
              "[65 rows x 10 columns]"
            ],
            "text/html": [
              "\n",
              "  <div id=\"df-aa187809-9b6b-490b-a187-8e8012dcb7df\">\n",
              "    <div class=\"colab-df-container\">\n",
              "      <div>\n",
              "<style scoped>\n",
              "    .dataframe tbody tr th:only-of-type {\n",
              "        vertical-align: middle;\n",
              "    }\n",
              "\n",
              "    .dataframe tbody tr th {\n",
              "        vertical-align: top;\n",
              "    }\n",
              "\n",
              "    .dataframe thead th {\n",
              "        text-align: right;\n",
              "    }\n",
              "</style>\n",
              "<table border=\"1\" class=\"dataframe\">\n",
              "  <thead>\n",
              "    <tr style=\"text-align: right;\">\n",
              "      <th></th>\n",
              "      <th>App</th>\n",
              "      <th>Category</th>\n",
              "      <th>Rating</th>\n",
              "      <th>Reviews</th>\n",
              "      <th>Installs</th>\n",
              "      <th>Type</th>\n",
              "      <th>Price</th>\n",
              "      <th>Content Rating</th>\n",
              "      <th>Genres</th>\n",
              "      <th>0</th>\n",
              "    </tr>\n",
              "  </thead>\n",
              "  <tbody>\n",
              "    <tr>\n",
              "      <th>0</th>\n",
              "      <td>350 Diy Room Decor Ideas</td>\n",
              "      <td>ART_AND_DESIGN</td>\n",
              "      <td>4.5</td>\n",
              "      <td>27.0</td>\n",
              "      <td>10000.0</td>\n",
              "      <td>Free</td>\n",
              "      <td>0.0</td>\n",
              "      <td>Everyone</td>\n",
              "      <td>Art &amp; Design</td>\n",
              "      <td>1</td>\n",
              "    </tr>\n",
              "    <tr>\n",
              "      <th>1</th>\n",
              "      <td>Logo Maker - Small Business</td>\n",
              "      <td>ART_AND_DESIGN</td>\n",
              "      <td>4.0</td>\n",
              "      <td>450.0</td>\n",
              "      <td>100000.0</td>\n",
              "      <td>Free</td>\n",
              "      <td>0.0</td>\n",
              "      <td>Everyone</td>\n",
              "      <td>Art &amp; Design</td>\n",
              "      <td>1</td>\n",
              "    </tr>\n",
              "    <tr>\n",
              "      <th>2</th>\n",
              "      <td>Mcqueen Coloring pages</td>\n",
              "      <td>ART_AND_DESIGN</td>\n",
              "      <td>4.3</td>\n",
              "      <td>61.0</td>\n",
              "      <td>100000.0</td>\n",
              "      <td>Free</td>\n",
              "      <td>0.0</td>\n",
              "      <td>Everyone</td>\n",
              "      <td>Art &amp; Design;Action &amp; Adventure</td>\n",
              "      <td>1</td>\n",
              "    </tr>\n",
              "    <tr>\n",
              "      <th>3</th>\n",
              "      <td>Name Art DP - Focus n Filter Text 2018</td>\n",
              "      <td>ART_AND_DESIGN</td>\n",
              "      <td>4.3</td>\n",
              "      <td>132.0</td>\n",
              "      <td>10000.0</td>\n",
              "      <td>Free</td>\n",
              "      <td>0.0</td>\n",
              "      <td>Everyone</td>\n",
              "      <td>Art &amp; Design</td>\n",
              "      <td>1</td>\n",
              "    </tr>\n",
              "    <tr>\n",
              "      <th>4</th>\n",
              "      <td>Name Art Photo Editor - Focus n Filters</td>\n",
              "      <td>ART_AND_DESIGN</td>\n",
              "      <td>4.4</td>\n",
              "      <td>8788.0</td>\n",
              "      <td>1000000.0</td>\n",
              "      <td>Free</td>\n",
              "      <td>0.0</td>\n",
              "      <td>Everyone</td>\n",
              "      <td>Art &amp; Design</td>\n",
              "      <td>1</td>\n",
              "    </tr>\n",
              "    <tr>\n",
              "      <th>...</th>\n",
              "      <td>...</td>\n",
              "      <td>...</td>\n",
              "      <td>...</td>\n",
              "      <td>...</td>\n",
              "      <td>...</td>\n",
              "      <td>...</td>\n",
              "      <td>...</td>\n",
              "      <td>...</td>\n",
              "      <td>...</td>\n",
              "      <td>...</td>\n",
              "    </tr>\n",
              "    <tr>\n",
              "      <th>60</th>\n",
              "      <td>I Creative Idea</td>\n",
              "      <td>ART_AND_DESIGN</td>\n",
              "      <td>4.7</td>\n",
              "      <td>353.0</td>\n",
              "      <td>10000.0</td>\n",
              "      <td>Free</td>\n",
              "      <td>0.0</td>\n",
              "      <td>Teen</td>\n",
              "      <td>Art &amp; Design</td>\n",
              "      <td>1</td>\n",
              "    </tr>\n",
              "    <tr>\n",
              "      <th>61</th>\n",
              "      <td>Infinite Painter</td>\n",
              "      <td>ART_AND_DESIGN</td>\n",
              "      <td>4.1</td>\n",
              "      <td>36815.0</td>\n",
              "      <td>1000000.0</td>\n",
              "      <td>Free</td>\n",
              "      <td>0.0</td>\n",
              "      <td>Everyone</td>\n",
              "      <td>Art &amp; Design</td>\n",
              "      <td>1</td>\n",
              "    </tr>\n",
              "    <tr>\n",
              "      <th>62</th>\n",
              "      <td>Install images with music to make video withou...</td>\n",
              "      <td>ART_AND_DESIGN</td>\n",
              "      <td>4.6</td>\n",
              "      <td>1070.0</td>\n",
              "      <td>100000.0</td>\n",
              "      <td>Free</td>\n",
              "      <td>0.0</td>\n",
              "      <td>Everyone</td>\n",
              "      <td>Art &amp; Design</td>\n",
              "      <td>1</td>\n",
              "    </tr>\n",
              "    <tr>\n",
              "      <th>63</th>\n",
              "      <td>Kids Paint Free - Drawing Fun</td>\n",
              "      <td>ART_AND_DESIGN</td>\n",
              "      <td>4.7</td>\n",
              "      <td>121.0</td>\n",
              "      <td>10000.0</td>\n",
              "      <td>Free</td>\n",
              "      <td>0.0</td>\n",
              "      <td>Everyone</td>\n",
              "      <td>Art &amp; Design;Creativity</td>\n",
              "      <td>1</td>\n",
              "    </tr>\n",
              "    <tr>\n",
              "      <th>64</th>\n",
              "      <td>صور حرف H</td>\n",
              "      <td>ART_AND_DESIGN</td>\n",
              "      <td>4.4</td>\n",
              "      <td>13.0</td>\n",
              "      <td>1000.0</td>\n",
              "      <td>Free</td>\n",
              "      <td>0.0</td>\n",
              "      <td>Everyone</td>\n",
              "      <td>Art &amp; Design</td>\n",
              "      <td>1</td>\n",
              "    </tr>\n",
              "  </tbody>\n",
              "</table>\n",
              "<p>65 rows × 10 columns</p>\n",
              "</div>\n",
              "      <button class=\"colab-df-convert\" onclick=\"convertToInteractive('df-aa187809-9b6b-490b-a187-8e8012dcb7df')\"\n",
              "              title=\"Convert this dataframe to an interactive table.\"\n",
              "              style=\"display:none;\">\n",
              "        \n",
              "  <svg xmlns=\"http://www.w3.org/2000/svg\" height=\"24px\"viewBox=\"0 0 24 24\"\n",
              "       width=\"24px\">\n",
              "    <path d=\"M0 0h24v24H0V0z\" fill=\"none\"/>\n",
              "    <path d=\"M18.56 5.44l.94 2.06.94-2.06 2.06-.94-2.06-.94-.94-2.06-.94 2.06-2.06.94zm-11 1L8.5 8.5l.94-2.06 2.06-.94-2.06-.94L8.5 2.5l-.94 2.06-2.06.94zm10 10l.94 2.06.94-2.06 2.06-.94-2.06-.94-.94-2.06-.94 2.06-2.06.94z\"/><path d=\"M17.41 7.96l-1.37-1.37c-.4-.4-.92-.59-1.43-.59-.52 0-1.04.2-1.43.59L10.3 9.45l-7.72 7.72c-.78.78-.78 2.05 0 2.83L4 21.41c.39.39.9.59 1.41.59.51 0 1.02-.2 1.41-.59l7.78-7.78 2.81-2.81c.8-.78.8-2.07 0-2.86zM5.41 20L4 18.59l7.72-7.72 1.47 1.35L5.41 20z\"/>\n",
              "  </svg>\n",
              "      </button>\n",
              "      \n",
              "  <style>\n",
              "    .colab-df-container {\n",
              "      display:flex;\n",
              "      flex-wrap:wrap;\n",
              "      gap: 12px;\n",
              "    }\n",
              "\n",
              "    .colab-df-convert {\n",
              "      background-color: #E8F0FE;\n",
              "      border: none;\n",
              "      border-radius: 50%;\n",
              "      cursor: pointer;\n",
              "      display: none;\n",
              "      fill: #1967D2;\n",
              "      height: 32px;\n",
              "      padding: 0 0 0 0;\n",
              "      width: 32px;\n",
              "    }\n",
              "\n",
              "    .colab-df-convert:hover {\n",
              "      background-color: #E2EBFA;\n",
              "      box-shadow: 0px 1px 2px rgba(60, 64, 67, 0.3), 0px 1px 3px 1px rgba(60, 64, 67, 0.15);\n",
              "      fill: #174EA6;\n",
              "    }\n",
              "\n",
              "    [theme=dark] .colab-df-convert {\n",
              "      background-color: #3B4455;\n",
              "      fill: #D2E3FC;\n",
              "    }\n",
              "\n",
              "    [theme=dark] .colab-df-convert:hover {\n",
              "      background-color: #434B5C;\n",
              "      box-shadow: 0px 1px 3px 1px rgba(0, 0, 0, 0.15);\n",
              "      filter: drop-shadow(0px 1px 2px rgba(0, 0, 0, 0.3));\n",
              "      fill: #FFFFFF;\n",
              "    }\n",
              "  </style>\n",
              "\n",
              "      <script>\n",
              "        const buttonEl =\n",
              "          document.querySelector('#df-aa187809-9b6b-490b-a187-8e8012dcb7df button.colab-df-convert');\n",
              "        buttonEl.style.display =\n",
              "          google.colab.kernel.accessAllowed ? 'block' : 'none';\n",
              "\n",
              "        async function convertToInteractive(key) {\n",
              "          const element = document.querySelector('#df-aa187809-9b6b-490b-a187-8e8012dcb7df');\n",
              "          const dataTable =\n",
              "            await google.colab.kernel.invokeFunction('convertToInteractive',\n",
              "                                                     [key], {});\n",
              "          if (!dataTable) return;\n",
              "\n",
              "          const docLinkHtml = 'Like what you see? Visit the ' +\n",
              "            '<a target=\"_blank\" href=https://colab.research.google.com/notebooks/data_table.ipynb>data table notebook</a>'\n",
              "            + ' to learn more about interactive tables.';\n",
              "          element.innerHTML = '';\n",
              "          dataTable['output_type'] = 'display_data';\n",
              "          await google.colab.output.renderOutput(dataTable, element);\n",
              "          const docLink = document.createElement('div');\n",
              "          docLink.innerHTML = docLinkHtml;\n",
              "          element.appendChild(docLink);\n",
              "        }\n",
              "      </script>\n",
              "    </div>\n",
              "  </div>\n",
              "  "
            ]
          },
          "metadata": {},
          "execution_count": 275
        }
      ]
    },
    {
      "cell_type": "code",
      "metadata": {
        "id": "ZackCEd1PLaq"
      },
      "source": [
        "df_art_and_design = df_playstore[df_playstore['Category']=='ART_AND_DESIGN'].value_counts().reset_index()"
      ],
      "execution_count": null,
      "outputs": []
    },
    {
      "cell_type": "code",
      "metadata": {
        "id": "huL839yuPSrS"
      },
      "source": [
        "def review_percentage(data1,data2):\n",
        "  return (data1/data2)*100"
      ],
      "execution_count": null,
      "outputs": []
    },
    {
      "cell_type": "code",
      "metadata": {
        "id": "lXJDM5gsPZo2"
      },
      "source": [
        "df_art_and_design['Review_percent'] = review_percentage(df_art_and_design['Reviews'],df_art_and_design['Installs'])"
      ],
      "execution_count": null,
      "outputs": []
    },
    {
      "cell_type": "code",
      "metadata": {
        "colab": {
          "base_uri": "https://localhost:8080/",
          "height": 206
        },
        "id": "gcIToGIsPe8j",
        "outputId": "4c54bce0-1691-451a-9cf9-0395d2e64718"
      },
      "source": [
        "df_art_and_design.head()"
      ],
      "execution_count": null,
      "outputs": [
        {
          "output_type": "execute_result",
          "data": {
            "text/plain": [
              "                                       App        Category  Rating  Reviews  \\\n",
              "0                 350 Diy Room Decor Ideas  ART_AND_DESIGN     4.5     27.0   \n",
              "1              Logo Maker - Small Business  ART_AND_DESIGN     4.0    450.0   \n",
              "2                   Mcqueen Coloring pages  ART_AND_DESIGN     4.3     61.0   \n",
              "3   Name Art DP - Focus n Filter Text 2018  ART_AND_DESIGN     4.3    132.0   \n",
              "4  Name Art Photo Editor - Focus n Filters  ART_AND_DESIGN     4.4   8788.0   \n",
              "\n",
              "    Installs  Type  Price Content Rating                           Genres  0  \\\n",
              "0    10000.0  Free    0.0       Everyone                     Art & Design  1   \n",
              "1   100000.0  Free    0.0       Everyone                     Art & Design  1   \n",
              "2   100000.0  Free    0.0       Everyone  Art & Design;Action & Adventure  1   \n",
              "3    10000.0  Free    0.0       Everyone                     Art & Design  1   \n",
              "4  1000000.0  Free    0.0       Everyone                     Art & Design  1   \n",
              "\n",
              "   Review_percent  \n",
              "0          0.2700  \n",
              "1          0.4500  \n",
              "2          0.0610  \n",
              "3          1.3200  \n",
              "4          0.8788  "
            ],
            "text/html": [
              "\n",
              "  <div id=\"df-3123ad62-fd70-4e4f-b434-53f8e316e352\">\n",
              "    <div class=\"colab-df-container\">\n",
              "      <div>\n",
              "<style scoped>\n",
              "    .dataframe tbody tr th:only-of-type {\n",
              "        vertical-align: middle;\n",
              "    }\n",
              "\n",
              "    .dataframe tbody tr th {\n",
              "        vertical-align: top;\n",
              "    }\n",
              "\n",
              "    .dataframe thead th {\n",
              "        text-align: right;\n",
              "    }\n",
              "</style>\n",
              "<table border=\"1\" class=\"dataframe\">\n",
              "  <thead>\n",
              "    <tr style=\"text-align: right;\">\n",
              "      <th></th>\n",
              "      <th>App</th>\n",
              "      <th>Category</th>\n",
              "      <th>Rating</th>\n",
              "      <th>Reviews</th>\n",
              "      <th>Installs</th>\n",
              "      <th>Type</th>\n",
              "      <th>Price</th>\n",
              "      <th>Content Rating</th>\n",
              "      <th>Genres</th>\n",
              "      <th>0</th>\n",
              "      <th>Review_percent</th>\n",
              "    </tr>\n",
              "  </thead>\n",
              "  <tbody>\n",
              "    <tr>\n",
              "      <th>0</th>\n",
              "      <td>350 Diy Room Decor Ideas</td>\n",
              "      <td>ART_AND_DESIGN</td>\n",
              "      <td>4.5</td>\n",
              "      <td>27.0</td>\n",
              "      <td>10000.0</td>\n",
              "      <td>Free</td>\n",
              "      <td>0.0</td>\n",
              "      <td>Everyone</td>\n",
              "      <td>Art &amp; Design</td>\n",
              "      <td>1</td>\n",
              "      <td>0.2700</td>\n",
              "    </tr>\n",
              "    <tr>\n",
              "      <th>1</th>\n",
              "      <td>Logo Maker - Small Business</td>\n",
              "      <td>ART_AND_DESIGN</td>\n",
              "      <td>4.0</td>\n",
              "      <td>450.0</td>\n",
              "      <td>100000.0</td>\n",
              "      <td>Free</td>\n",
              "      <td>0.0</td>\n",
              "      <td>Everyone</td>\n",
              "      <td>Art &amp; Design</td>\n",
              "      <td>1</td>\n",
              "      <td>0.4500</td>\n",
              "    </tr>\n",
              "    <tr>\n",
              "      <th>2</th>\n",
              "      <td>Mcqueen Coloring pages</td>\n",
              "      <td>ART_AND_DESIGN</td>\n",
              "      <td>4.3</td>\n",
              "      <td>61.0</td>\n",
              "      <td>100000.0</td>\n",
              "      <td>Free</td>\n",
              "      <td>0.0</td>\n",
              "      <td>Everyone</td>\n",
              "      <td>Art &amp; Design;Action &amp; Adventure</td>\n",
              "      <td>1</td>\n",
              "      <td>0.0610</td>\n",
              "    </tr>\n",
              "    <tr>\n",
              "      <th>3</th>\n",
              "      <td>Name Art DP - Focus n Filter Text 2018</td>\n",
              "      <td>ART_AND_DESIGN</td>\n",
              "      <td>4.3</td>\n",
              "      <td>132.0</td>\n",
              "      <td>10000.0</td>\n",
              "      <td>Free</td>\n",
              "      <td>0.0</td>\n",
              "      <td>Everyone</td>\n",
              "      <td>Art &amp; Design</td>\n",
              "      <td>1</td>\n",
              "      <td>1.3200</td>\n",
              "    </tr>\n",
              "    <tr>\n",
              "      <th>4</th>\n",
              "      <td>Name Art Photo Editor - Focus n Filters</td>\n",
              "      <td>ART_AND_DESIGN</td>\n",
              "      <td>4.4</td>\n",
              "      <td>8788.0</td>\n",
              "      <td>1000000.0</td>\n",
              "      <td>Free</td>\n",
              "      <td>0.0</td>\n",
              "      <td>Everyone</td>\n",
              "      <td>Art &amp; Design</td>\n",
              "      <td>1</td>\n",
              "      <td>0.8788</td>\n",
              "    </tr>\n",
              "  </tbody>\n",
              "</table>\n",
              "</div>\n",
              "      <button class=\"colab-df-convert\" onclick=\"convertToInteractive('df-3123ad62-fd70-4e4f-b434-53f8e316e352')\"\n",
              "              title=\"Convert this dataframe to an interactive table.\"\n",
              "              style=\"display:none;\">\n",
              "        \n",
              "  <svg xmlns=\"http://www.w3.org/2000/svg\" height=\"24px\"viewBox=\"0 0 24 24\"\n",
              "       width=\"24px\">\n",
              "    <path d=\"M0 0h24v24H0V0z\" fill=\"none\"/>\n",
              "    <path d=\"M18.56 5.44l.94 2.06.94-2.06 2.06-.94-2.06-.94-.94-2.06-.94 2.06-2.06.94zm-11 1L8.5 8.5l.94-2.06 2.06-.94-2.06-.94L8.5 2.5l-.94 2.06-2.06.94zm10 10l.94 2.06.94-2.06 2.06-.94-2.06-.94-.94-2.06-.94 2.06-2.06.94z\"/><path d=\"M17.41 7.96l-1.37-1.37c-.4-.4-.92-.59-1.43-.59-.52 0-1.04.2-1.43.59L10.3 9.45l-7.72 7.72c-.78.78-.78 2.05 0 2.83L4 21.41c.39.39.9.59 1.41.59.51 0 1.02-.2 1.41-.59l7.78-7.78 2.81-2.81c.8-.78.8-2.07 0-2.86zM5.41 20L4 18.59l7.72-7.72 1.47 1.35L5.41 20z\"/>\n",
              "  </svg>\n",
              "      </button>\n",
              "      \n",
              "  <style>\n",
              "    .colab-df-container {\n",
              "      display:flex;\n",
              "      flex-wrap:wrap;\n",
              "      gap: 12px;\n",
              "    }\n",
              "\n",
              "    .colab-df-convert {\n",
              "      background-color: #E8F0FE;\n",
              "      border: none;\n",
              "      border-radius: 50%;\n",
              "      cursor: pointer;\n",
              "      display: none;\n",
              "      fill: #1967D2;\n",
              "      height: 32px;\n",
              "      padding: 0 0 0 0;\n",
              "      width: 32px;\n",
              "    }\n",
              "\n",
              "    .colab-df-convert:hover {\n",
              "      background-color: #E2EBFA;\n",
              "      box-shadow: 0px 1px 2px rgba(60, 64, 67, 0.3), 0px 1px 3px 1px rgba(60, 64, 67, 0.15);\n",
              "      fill: #174EA6;\n",
              "    }\n",
              "\n",
              "    [theme=dark] .colab-df-convert {\n",
              "      background-color: #3B4455;\n",
              "      fill: #D2E3FC;\n",
              "    }\n",
              "\n",
              "    [theme=dark] .colab-df-convert:hover {\n",
              "      background-color: #434B5C;\n",
              "      box-shadow: 0px 1px 3px 1px rgba(0, 0, 0, 0.15);\n",
              "      filter: drop-shadow(0px 1px 2px rgba(0, 0, 0, 0.3));\n",
              "      fill: #FFFFFF;\n",
              "    }\n",
              "  </style>\n",
              "\n",
              "      <script>\n",
              "        const buttonEl =\n",
              "          document.querySelector('#df-3123ad62-fd70-4e4f-b434-53f8e316e352 button.colab-df-convert');\n",
              "        buttonEl.style.display =\n",
              "          google.colab.kernel.accessAllowed ? 'block' : 'none';\n",
              "\n",
              "        async function convertToInteractive(key) {\n",
              "          const element = document.querySelector('#df-3123ad62-fd70-4e4f-b434-53f8e316e352');\n",
              "          const dataTable =\n",
              "            await google.colab.kernel.invokeFunction('convertToInteractive',\n",
              "                                                     [key], {});\n",
              "          if (!dataTable) return;\n",
              "\n",
              "          const docLinkHtml = 'Like what you see? Visit the ' +\n",
              "            '<a target=\"_blank\" href=https://colab.research.google.com/notebooks/data_table.ipynb>data table notebook</a>'\n",
              "            + ' to learn more about interactive tables.';\n",
              "          element.innerHTML = '';\n",
              "          dataTable['output_type'] = 'display_data';\n",
              "          await google.colab.output.renderOutput(dataTable, element);\n",
              "          const docLink = document.createElement('div');\n",
              "          docLink.innerHTML = docLinkHtml;\n",
              "          element.appendChild(docLink);\n",
              "        }\n",
              "      </script>\n",
              "    </div>\n",
              "  </div>\n",
              "  "
            ]
          },
          "metadata": {},
          "execution_count": 279
        }
      ]
    },
    {
      "cell_type": "code",
      "metadata": {
        "colab": {
          "base_uri": "https://localhost:8080/"
        },
        "id": "PpOLb5GVPfz3",
        "outputId": "caf1c9f0-9c2b-4deb-f06a-b9059e3d18a2"
      },
      "source": [
        "df_art_and_design['Installs'].mean()"
      ],
      "execution_count": null,
      "outputs": [
        {
          "output_type": "execute_result",
          "data": {
            "text/plain": [
              "1912893.8461538462"
            ]
          },
          "metadata": {},
          "execution_count": 280
        }
      ]
    },
    {
      "cell_type": "code",
      "metadata": {
        "colab": {
          "base_uri": "https://localhost:8080/"
        },
        "id": "ZsP7CYyvSUHU",
        "outputId": "45b8fee4-e24f-4701-ec50-237f358b8c24"
      },
      "source": [
        "df_art_and_design['Reviews'].mean()"
      ],
      "execution_count": null,
      "outputs": [
        {
          "output_type": "execute_result",
          "data": {
            "text/plain": [
              "26376.0"
            ]
          },
          "metadata": {},
          "execution_count": 281
        }
      ]
    },
    {
      "cell_type": "code",
      "metadata": {
        "id": "pnf_N0iLSYr2"
      },
      "source": [
        "df_higher_mean_installs = df_art_and_design[df_art_and_design['Installs'] > df_art_and_design['Installs'].mean()]"
      ],
      "execution_count": null,
      "outputs": []
    },
    {
      "cell_type": "code",
      "metadata": {
        "colab": {
          "base_uri": "https://localhost:8080/",
          "height": 300
        },
        "id": "Br9o3z_DSc68",
        "outputId": "344480b2-efe8-4342-ca66-724df74ed1a3"
      },
      "source": [
        "df_higher_mean_installs.drop_duplicates('App')"
      ],
      "execution_count": null,
      "outputs": [
        {
          "output_type": "execute_result",
          "data": {
            "text/plain": [
              "                                                  App        Category  Rating  \\\n",
              "15                              Sketch - Draw & Paint  ART_AND_DESIGN     4.5   \n",
              "19                     Tattoo Name On My Photo Editor  ART_AND_DESIGN     4.2   \n",
              "22                         Textgram - write on photos  ART_AND_DESIGN     4.4   \n",
              "24  U Launcher Lite – FREE Live Cool Themes, Hide ...  ART_AND_DESIGN     4.7   \n",
              "30                                       ibis Paint X  ART_AND_DESIGN     4.6   \n",
              "42  Canva: Poster, banner, card maker & graphic de...  ART_AND_DESIGN     4.7   \n",
              "52                      FlipaClip - Cartoon animation  ART_AND_DESIGN     4.3   \n",
              "53                                 Floor Plan Creator  ART_AND_DESIGN     4.1   \n",
              "\n",
              "     Reviews    Installs  Type  Price Content Rating        Genres  0  \\\n",
              "15  215644.0  50000000.0  Free    0.0           Teen  Art & Design  1   \n",
              "19   44829.0  10000000.0  Free    0.0           Teen  Art & Design  1   \n",
              "22  295221.0  10000000.0  Free    0.0       Everyone  Art & Design  1   \n",
              "24   87510.0   5000000.0  Free    0.0       Everyone  Art & Design  1   \n",
              "30  224399.0  10000000.0  Free    0.0       Everyone  Art & Design  1   \n",
              "42  174531.0  10000000.0  Free    0.0       Everyone  Art & Design  1   \n",
              "52  194216.0   5000000.0  Free    0.0       Everyone  Art & Design  1   \n",
              "53   36639.0   5000000.0  Free    0.0       Everyone  Art & Design  1   \n",
              "\n",
              "    Review_percent  \n",
              "15        0.431288  \n",
              "19        0.448290  \n",
              "22        2.952210  \n",
              "24        1.750200  \n",
              "30        2.243990  \n",
              "42        1.745310  \n",
              "52        3.884320  \n",
              "53        0.732780  "
            ],
            "text/html": [
              "\n",
              "  <div id=\"df-e50d85de-9a30-4b57-9e76-77fc755239f3\">\n",
              "    <div class=\"colab-df-container\">\n",
              "      <div>\n",
              "<style scoped>\n",
              "    .dataframe tbody tr th:only-of-type {\n",
              "        vertical-align: middle;\n",
              "    }\n",
              "\n",
              "    .dataframe tbody tr th {\n",
              "        vertical-align: top;\n",
              "    }\n",
              "\n",
              "    .dataframe thead th {\n",
              "        text-align: right;\n",
              "    }\n",
              "</style>\n",
              "<table border=\"1\" class=\"dataframe\">\n",
              "  <thead>\n",
              "    <tr style=\"text-align: right;\">\n",
              "      <th></th>\n",
              "      <th>App</th>\n",
              "      <th>Category</th>\n",
              "      <th>Rating</th>\n",
              "      <th>Reviews</th>\n",
              "      <th>Installs</th>\n",
              "      <th>Type</th>\n",
              "      <th>Price</th>\n",
              "      <th>Content Rating</th>\n",
              "      <th>Genres</th>\n",
              "      <th>0</th>\n",
              "      <th>Review_percent</th>\n",
              "    </tr>\n",
              "  </thead>\n",
              "  <tbody>\n",
              "    <tr>\n",
              "      <th>15</th>\n",
              "      <td>Sketch - Draw &amp; Paint</td>\n",
              "      <td>ART_AND_DESIGN</td>\n",
              "      <td>4.5</td>\n",
              "      <td>215644.0</td>\n",
              "      <td>50000000.0</td>\n",
              "      <td>Free</td>\n",
              "      <td>0.0</td>\n",
              "      <td>Teen</td>\n",
              "      <td>Art &amp; Design</td>\n",
              "      <td>1</td>\n",
              "      <td>0.431288</td>\n",
              "    </tr>\n",
              "    <tr>\n",
              "      <th>19</th>\n",
              "      <td>Tattoo Name On My Photo Editor</td>\n",
              "      <td>ART_AND_DESIGN</td>\n",
              "      <td>4.2</td>\n",
              "      <td>44829.0</td>\n",
              "      <td>10000000.0</td>\n",
              "      <td>Free</td>\n",
              "      <td>0.0</td>\n",
              "      <td>Teen</td>\n",
              "      <td>Art &amp; Design</td>\n",
              "      <td>1</td>\n",
              "      <td>0.448290</td>\n",
              "    </tr>\n",
              "    <tr>\n",
              "      <th>22</th>\n",
              "      <td>Textgram - write on photos</td>\n",
              "      <td>ART_AND_DESIGN</td>\n",
              "      <td>4.4</td>\n",
              "      <td>295221.0</td>\n",
              "      <td>10000000.0</td>\n",
              "      <td>Free</td>\n",
              "      <td>0.0</td>\n",
              "      <td>Everyone</td>\n",
              "      <td>Art &amp; Design</td>\n",
              "      <td>1</td>\n",
              "      <td>2.952210</td>\n",
              "    </tr>\n",
              "    <tr>\n",
              "      <th>24</th>\n",
              "      <td>U Launcher Lite – FREE Live Cool Themes, Hide ...</td>\n",
              "      <td>ART_AND_DESIGN</td>\n",
              "      <td>4.7</td>\n",
              "      <td>87510.0</td>\n",
              "      <td>5000000.0</td>\n",
              "      <td>Free</td>\n",
              "      <td>0.0</td>\n",
              "      <td>Everyone</td>\n",
              "      <td>Art &amp; Design</td>\n",
              "      <td>1</td>\n",
              "      <td>1.750200</td>\n",
              "    </tr>\n",
              "    <tr>\n",
              "      <th>30</th>\n",
              "      <td>ibis Paint X</td>\n",
              "      <td>ART_AND_DESIGN</td>\n",
              "      <td>4.6</td>\n",
              "      <td>224399.0</td>\n",
              "      <td>10000000.0</td>\n",
              "      <td>Free</td>\n",
              "      <td>0.0</td>\n",
              "      <td>Everyone</td>\n",
              "      <td>Art &amp; Design</td>\n",
              "      <td>1</td>\n",
              "      <td>2.243990</td>\n",
              "    </tr>\n",
              "    <tr>\n",
              "      <th>42</th>\n",
              "      <td>Canva: Poster, banner, card maker &amp; graphic de...</td>\n",
              "      <td>ART_AND_DESIGN</td>\n",
              "      <td>4.7</td>\n",
              "      <td>174531.0</td>\n",
              "      <td>10000000.0</td>\n",
              "      <td>Free</td>\n",
              "      <td>0.0</td>\n",
              "      <td>Everyone</td>\n",
              "      <td>Art &amp; Design</td>\n",
              "      <td>1</td>\n",
              "      <td>1.745310</td>\n",
              "    </tr>\n",
              "    <tr>\n",
              "      <th>52</th>\n",
              "      <td>FlipaClip - Cartoon animation</td>\n",
              "      <td>ART_AND_DESIGN</td>\n",
              "      <td>4.3</td>\n",
              "      <td>194216.0</td>\n",
              "      <td>5000000.0</td>\n",
              "      <td>Free</td>\n",
              "      <td>0.0</td>\n",
              "      <td>Everyone</td>\n",
              "      <td>Art &amp; Design</td>\n",
              "      <td>1</td>\n",
              "      <td>3.884320</td>\n",
              "    </tr>\n",
              "    <tr>\n",
              "      <th>53</th>\n",
              "      <td>Floor Plan Creator</td>\n",
              "      <td>ART_AND_DESIGN</td>\n",
              "      <td>4.1</td>\n",
              "      <td>36639.0</td>\n",
              "      <td>5000000.0</td>\n",
              "      <td>Free</td>\n",
              "      <td>0.0</td>\n",
              "      <td>Everyone</td>\n",
              "      <td>Art &amp; Design</td>\n",
              "      <td>1</td>\n",
              "      <td>0.732780</td>\n",
              "    </tr>\n",
              "  </tbody>\n",
              "</table>\n",
              "</div>\n",
              "      <button class=\"colab-df-convert\" onclick=\"convertToInteractive('df-e50d85de-9a30-4b57-9e76-77fc755239f3')\"\n",
              "              title=\"Convert this dataframe to an interactive table.\"\n",
              "              style=\"display:none;\">\n",
              "        \n",
              "  <svg xmlns=\"http://www.w3.org/2000/svg\" height=\"24px\"viewBox=\"0 0 24 24\"\n",
              "       width=\"24px\">\n",
              "    <path d=\"M0 0h24v24H0V0z\" fill=\"none\"/>\n",
              "    <path d=\"M18.56 5.44l.94 2.06.94-2.06 2.06-.94-2.06-.94-.94-2.06-.94 2.06-2.06.94zm-11 1L8.5 8.5l.94-2.06 2.06-.94-2.06-.94L8.5 2.5l-.94 2.06-2.06.94zm10 10l.94 2.06.94-2.06 2.06-.94-2.06-.94-.94-2.06-.94 2.06-2.06.94z\"/><path d=\"M17.41 7.96l-1.37-1.37c-.4-.4-.92-.59-1.43-.59-.52 0-1.04.2-1.43.59L10.3 9.45l-7.72 7.72c-.78.78-.78 2.05 0 2.83L4 21.41c.39.39.9.59 1.41.59.51 0 1.02-.2 1.41-.59l7.78-7.78 2.81-2.81c.8-.78.8-2.07 0-2.86zM5.41 20L4 18.59l7.72-7.72 1.47 1.35L5.41 20z\"/>\n",
              "  </svg>\n",
              "      </button>\n",
              "      \n",
              "  <style>\n",
              "    .colab-df-container {\n",
              "      display:flex;\n",
              "      flex-wrap:wrap;\n",
              "      gap: 12px;\n",
              "    }\n",
              "\n",
              "    .colab-df-convert {\n",
              "      background-color: #E8F0FE;\n",
              "      border: none;\n",
              "      border-radius: 50%;\n",
              "      cursor: pointer;\n",
              "      display: none;\n",
              "      fill: #1967D2;\n",
              "      height: 32px;\n",
              "      padding: 0 0 0 0;\n",
              "      width: 32px;\n",
              "    }\n",
              "\n",
              "    .colab-df-convert:hover {\n",
              "      background-color: #E2EBFA;\n",
              "      box-shadow: 0px 1px 2px rgba(60, 64, 67, 0.3), 0px 1px 3px 1px rgba(60, 64, 67, 0.15);\n",
              "      fill: #174EA6;\n",
              "    }\n",
              "\n",
              "    [theme=dark] .colab-df-convert {\n",
              "      background-color: #3B4455;\n",
              "      fill: #D2E3FC;\n",
              "    }\n",
              "\n",
              "    [theme=dark] .colab-df-convert:hover {\n",
              "      background-color: #434B5C;\n",
              "      box-shadow: 0px 1px 3px 1px rgba(0, 0, 0, 0.15);\n",
              "      filter: drop-shadow(0px 1px 2px rgba(0, 0, 0, 0.3));\n",
              "      fill: #FFFFFF;\n",
              "    }\n",
              "  </style>\n",
              "\n",
              "      <script>\n",
              "        const buttonEl =\n",
              "          document.querySelector('#df-e50d85de-9a30-4b57-9e76-77fc755239f3 button.colab-df-convert');\n",
              "        buttonEl.style.display =\n",
              "          google.colab.kernel.accessAllowed ? 'block' : 'none';\n",
              "\n",
              "        async function convertToInteractive(key) {\n",
              "          const element = document.querySelector('#df-e50d85de-9a30-4b57-9e76-77fc755239f3');\n",
              "          const dataTable =\n",
              "            await google.colab.kernel.invokeFunction('convertToInteractive',\n",
              "                                                     [key], {});\n",
              "          if (!dataTable) return;\n",
              "\n",
              "          const docLinkHtml = 'Like what you see? Visit the ' +\n",
              "            '<a target=\"_blank\" href=https://colab.research.google.com/notebooks/data_table.ipynb>data table notebook</a>'\n",
              "            + ' to learn more about interactive tables.';\n",
              "          element.innerHTML = '';\n",
              "          dataTable['output_type'] = 'display_data';\n",
              "          await google.colab.output.renderOutput(dataTable, element);\n",
              "          const docLink = document.createElement('div');\n",
              "          docLink.innerHTML = docLinkHtml;\n",
              "          element.appendChild(docLink);\n",
              "        }\n",
              "      </script>\n",
              "    </div>\n",
              "  </div>\n",
              "  "
            ]
          },
          "metadata": {},
          "execution_count": 283
        }
      ]
    },
    {
      "cell_type": "code",
      "metadata": {
        "id": "2ttE3ZtoSgSb"
      },
      "source": [
        "#df_higher_mean_review =  df_art_and_design[df_art_and_design['Reviews'] > df_art_and_design['Reviews'].mean()]\n",
        "mean_reviews = df_art_and_design['Reviews'].mean()\n",
        "df_higher_mean_review = df_art_and_design.loc[df_art_and_design['Reviews'] > mean_reviews]\n"
      ],
      "execution_count": null,
      "outputs": []
    },
    {
      "cell_type": "code",
      "metadata": {
        "colab": {
          "base_uri": "https://localhost:8080/",
          "height": 331
        },
        "id": "VyV6cPrrSmGs",
        "outputId": "7d7308a9-e992-4ac4-cf0e-1ede0e9219c4"
      },
      "source": [
        "df_higher_mean_review.drop_duplicates('App')"
      ],
      "execution_count": null,
      "outputs": [
        {
          "output_type": "execute_result",
          "data": {
            "text/plain": [
              "                                                  App        Category  Rating  \\\n",
              "15                              Sketch - Draw & Paint  ART_AND_DESIGN     4.5   \n",
              "19                     Tattoo Name On My Photo Editor  ART_AND_DESIGN     4.2   \n",
              "22                         Textgram - write on photos  ART_AND_DESIGN     4.4   \n",
              "24  U Launcher Lite – FREE Live Cool Themes, Hide ...  ART_AND_DESIGN     4.7   \n",
              "30                                       ibis Paint X  ART_AND_DESIGN     4.6   \n",
              "42  Canva: Poster, banner, card maker & graphic de...  ART_AND_DESIGN     4.7   \n",
              "52                      FlipaClip - Cartoon animation  ART_AND_DESIGN     4.3   \n",
              "53                                 Floor Plan Creator  ART_AND_DESIGN     4.1   \n",
              "61                                   Infinite Painter  ART_AND_DESIGN     4.1   \n",
              "\n",
              "     Reviews    Installs  Type  Price Content Rating        Genres  0  \\\n",
              "15  215644.0  50000000.0  Free    0.0           Teen  Art & Design  1   \n",
              "19   44829.0  10000000.0  Free    0.0           Teen  Art & Design  1   \n",
              "22  295221.0  10000000.0  Free    0.0       Everyone  Art & Design  1   \n",
              "24   87510.0   5000000.0  Free    0.0       Everyone  Art & Design  1   \n",
              "30  224399.0  10000000.0  Free    0.0       Everyone  Art & Design  1   \n",
              "42  174531.0  10000000.0  Free    0.0       Everyone  Art & Design  1   \n",
              "52  194216.0   5000000.0  Free    0.0       Everyone  Art & Design  1   \n",
              "53   36639.0   5000000.0  Free    0.0       Everyone  Art & Design  1   \n",
              "61   36815.0   1000000.0  Free    0.0       Everyone  Art & Design  1   \n",
              "\n",
              "    Review_percent  \n",
              "15        0.431288  \n",
              "19        0.448290  \n",
              "22        2.952210  \n",
              "24        1.750200  \n",
              "30        2.243990  \n",
              "42        1.745310  \n",
              "52        3.884320  \n",
              "53        0.732780  \n",
              "61        3.681500  "
            ],
            "text/html": [
              "\n",
              "  <div id=\"df-02b82a9e-3ca4-4b0e-9774-1ec9aa1e1c1d\">\n",
              "    <div class=\"colab-df-container\">\n",
              "      <div>\n",
              "<style scoped>\n",
              "    .dataframe tbody tr th:only-of-type {\n",
              "        vertical-align: middle;\n",
              "    }\n",
              "\n",
              "    .dataframe tbody tr th {\n",
              "        vertical-align: top;\n",
              "    }\n",
              "\n",
              "    .dataframe thead th {\n",
              "        text-align: right;\n",
              "    }\n",
              "</style>\n",
              "<table border=\"1\" class=\"dataframe\">\n",
              "  <thead>\n",
              "    <tr style=\"text-align: right;\">\n",
              "      <th></th>\n",
              "      <th>App</th>\n",
              "      <th>Category</th>\n",
              "      <th>Rating</th>\n",
              "      <th>Reviews</th>\n",
              "      <th>Installs</th>\n",
              "      <th>Type</th>\n",
              "      <th>Price</th>\n",
              "      <th>Content Rating</th>\n",
              "      <th>Genres</th>\n",
              "      <th>0</th>\n",
              "      <th>Review_percent</th>\n",
              "    </tr>\n",
              "  </thead>\n",
              "  <tbody>\n",
              "    <tr>\n",
              "      <th>15</th>\n",
              "      <td>Sketch - Draw &amp; Paint</td>\n",
              "      <td>ART_AND_DESIGN</td>\n",
              "      <td>4.5</td>\n",
              "      <td>215644.0</td>\n",
              "      <td>50000000.0</td>\n",
              "      <td>Free</td>\n",
              "      <td>0.0</td>\n",
              "      <td>Teen</td>\n",
              "      <td>Art &amp; Design</td>\n",
              "      <td>1</td>\n",
              "      <td>0.431288</td>\n",
              "    </tr>\n",
              "    <tr>\n",
              "      <th>19</th>\n",
              "      <td>Tattoo Name On My Photo Editor</td>\n",
              "      <td>ART_AND_DESIGN</td>\n",
              "      <td>4.2</td>\n",
              "      <td>44829.0</td>\n",
              "      <td>10000000.0</td>\n",
              "      <td>Free</td>\n",
              "      <td>0.0</td>\n",
              "      <td>Teen</td>\n",
              "      <td>Art &amp; Design</td>\n",
              "      <td>1</td>\n",
              "      <td>0.448290</td>\n",
              "    </tr>\n",
              "    <tr>\n",
              "      <th>22</th>\n",
              "      <td>Textgram - write on photos</td>\n",
              "      <td>ART_AND_DESIGN</td>\n",
              "      <td>4.4</td>\n",
              "      <td>295221.0</td>\n",
              "      <td>10000000.0</td>\n",
              "      <td>Free</td>\n",
              "      <td>0.0</td>\n",
              "      <td>Everyone</td>\n",
              "      <td>Art &amp; Design</td>\n",
              "      <td>1</td>\n",
              "      <td>2.952210</td>\n",
              "    </tr>\n",
              "    <tr>\n",
              "      <th>24</th>\n",
              "      <td>U Launcher Lite – FREE Live Cool Themes, Hide ...</td>\n",
              "      <td>ART_AND_DESIGN</td>\n",
              "      <td>4.7</td>\n",
              "      <td>87510.0</td>\n",
              "      <td>5000000.0</td>\n",
              "      <td>Free</td>\n",
              "      <td>0.0</td>\n",
              "      <td>Everyone</td>\n",
              "      <td>Art &amp; Design</td>\n",
              "      <td>1</td>\n",
              "      <td>1.750200</td>\n",
              "    </tr>\n",
              "    <tr>\n",
              "      <th>30</th>\n",
              "      <td>ibis Paint X</td>\n",
              "      <td>ART_AND_DESIGN</td>\n",
              "      <td>4.6</td>\n",
              "      <td>224399.0</td>\n",
              "      <td>10000000.0</td>\n",
              "      <td>Free</td>\n",
              "      <td>0.0</td>\n",
              "      <td>Everyone</td>\n",
              "      <td>Art &amp; Design</td>\n",
              "      <td>1</td>\n",
              "      <td>2.243990</td>\n",
              "    </tr>\n",
              "    <tr>\n",
              "      <th>42</th>\n",
              "      <td>Canva: Poster, banner, card maker &amp; graphic de...</td>\n",
              "      <td>ART_AND_DESIGN</td>\n",
              "      <td>4.7</td>\n",
              "      <td>174531.0</td>\n",
              "      <td>10000000.0</td>\n",
              "      <td>Free</td>\n",
              "      <td>0.0</td>\n",
              "      <td>Everyone</td>\n",
              "      <td>Art &amp; Design</td>\n",
              "      <td>1</td>\n",
              "      <td>1.745310</td>\n",
              "    </tr>\n",
              "    <tr>\n",
              "      <th>52</th>\n",
              "      <td>FlipaClip - Cartoon animation</td>\n",
              "      <td>ART_AND_DESIGN</td>\n",
              "      <td>4.3</td>\n",
              "      <td>194216.0</td>\n",
              "      <td>5000000.0</td>\n",
              "      <td>Free</td>\n",
              "      <td>0.0</td>\n",
              "      <td>Everyone</td>\n",
              "      <td>Art &amp; Design</td>\n",
              "      <td>1</td>\n",
              "      <td>3.884320</td>\n",
              "    </tr>\n",
              "    <tr>\n",
              "      <th>53</th>\n",
              "      <td>Floor Plan Creator</td>\n",
              "      <td>ART_AND_DESIGN</td>\n",
              "      <td>4.1</td>\n",
              "      <td>36639.0</td>\n",
              "      <td>5000000.0</td>\n",
              "      <td>Free</td>\n",
              "      <td>0.0</td>\n",
              "      <td>Everyone</td>\n",
              "      <td>Art &amp; Design</td>\n",
              "      <td>1</td>\n",
              "      <td>0.732780</td>\n",
              "    </tr>\n",
              "    <tr>\n",
              "      <th>61</th>\n",
              "      <td>Infinite Painter</td>\n",
              "      <td>ART_AND_DESIGN</td>\n",
              "      <td>4.1</td>\n",
              "      <td>36815.0</td>\n",
              "      <td>1000000.0</td>\n",
              "      <td>Free</td>\n",
              "      <td>0.0</td>\n",
              "      <td>Everyone</td>\n",
              "      <td>Art &amp; Design</td>\n",
              "      <td>1</td>\n",
              "      <td>3.681500</td>\n",
              "    </tr>\n",
              "  </tbody>\n",
              "</table>\n",
              "</div>\n",
              "      <button class=\"colab-df-convert\" onclick=\"convertToInteractive('df-02b82a9e-3ca4-4b0e-9774-1ec9aa1e1c1d')\"\n",
              "              title=\"Convert this dataframe to an interactive table.\"\n",
              "              style=\"display:none;\">\n",
              "        \n",
              "  <svg xmlns=\"http://www.w3.org/2000/svg\" height=\"24px\"viewBox=\"0 0 24 24\"\n",
              "       width=\"24px\">\n",
              "    <path d=\"M0 0h24v24H0V0z\" fill=\"none\"/>\n",
              "    <path d=\"M18.56 5.44l.94 2.06.94-2.06 2.06-.94-2.06-.94-.94-2.06-.94 2.06-2.06.94zm-11 1L8.5 8.5l.94-2.06 2.06-.94-2.06-.94L8.5 2.5l-.94 2.06-2.06.94zm10 10l.94 2.06.94-2.06 2.06-.94-2.06-.94-.94-2.06-.94 2.06-2.06.94z\"/><path d=\"M17.41 7.96l-1.37-1.37c-.4-.4-.92-.59-1.43-.59-.52 0-1.04.2-1.43.59L10.3 9.45l-7.72 7.72c-.78.78-.78 2.05 0 2.83L4 21.41c.39.39.9.59 1.41.59.51 0 1.02-.2 1.41-.59l7.78-7.78 2.81-2.81c.8-.78.8-2.07 0-2.86zM5.41 20L4 18.59l7.72-7.72 1.47 1.35L5.41 20z\"/>\n",
              "  </svg>\n",
              "      </button>\n",
              "      \n",
              "  <style>\n",
              "    .colab-df-container {\n",
              "      display:flex;\n",
              "      flex-wrap:wrap;\n",
              "      gap: 12px;\n",
              "    }\n",
              "\n",
              "    .colab-df-convert {\n",
              "      background-color: #E8F0FE;\n",
              "      border: none;\n",
              "      border-radius: 50%;\n",
              "      cursor: pointer;\n",
              "      display: none;\n",
              "      fill: #1967D2;\n",
              "      height: 32px;\n",
              "      padding: 0 0 0 0;\n",
              "      width: 32px;\n",
              "    }\n",
              "\n",
              "    .colab-df-convert:hover {\n",
              "      background-color: #E2EBFA;\n",
              "      box-shadow: 0px 1px 2px rgba(60, 64, 67, 0.3), 0px 1px 3px 1px rgba(60, 64, 67, 0.15);\n",
              "      fill: #174EA6;\n",
              "    }\n",
              "\n",
              "    [theme=dark] .colab-df-convert {\n",
              "      background-color: #3B4455;\n",
              "      fill: #D2E3FC;\n",
              "    }\n",
              "\n",
              "    [theme=dark] .colab-df-convert:hover {\n",
              "      background-color: #434B5C;\n",
              "      box-shadow: 0px 1px 3px 1px rgba(0, 0, 0, 0.15);\n",
              "      filter: drop-shadow(0px 1px 2px rgba(0, 0, 0, 0.3));\n",
              "      fill: #FFFFFF;\n",
              "    }\n",
              "  </style>\n",
              "\n",
              "      <script>\n",
              "        const buttonEl =\n",
              "          document.querySelector('#df-02b82a9e-3ca4-4b0e-9774-1ec9aa1e1c1d button.colab-df-convert');\n",
              "        buttonEl.style.display =\n",
              "          google.colab.kernel.accessAllowed ? 'block' : 'none';\n",
              "\n",
              "        async function convertToInteractive(key) {\n",
              "          const element = document.querySelector('#df-02b82a9e-3ca4-4b0e-9774-1ec9aa1e1c1d');\n",
              "          const dataTable =\n",
              "            await google.colab.kernel.invokeFunction('convertToInteractive',\n",
              "                                                     [key], {});\n",
              "          if (!dataTable) return;\n",
              "\n",
              "          const docLinkHtml = 'Like what you see? Visit the ' +\n",
              "            '<a target=\"_blank\" href=https://colab.research.google.com/notebooks/data_table.ipynb>data table notebook</a>'\n",
              "            + ' to learn more about interactive tables.';\n",
              "          element.innerHTML = '';\n",
              "          dataTable['output_type'] = 'display_data';\n",
              "          await google.colab.output.renderOutput(dataTable, element);\n",
              "          const docLink = document.createElement('div');\n",
              "          docLink.innerHTML = docLinkHtml;\n",
              "          element.appendChild(docLink);\n",
              "        }\n",
              "      </script>\n",
              "    </div>\n",
              "  </div>\n",
              "  "
            ]
          },
          "metadata": {},
          "execution_count": 285
        }
      ]
    },
    {
      "cell_type": "code",
      "metadata": {
        "colab": {
          "base_uri": "https://localhost:8080/"
        },
        "id": "oD7ZMpDJSpeX",
        "outputId": "96d79bd1-eda5-443e-87f3-50ccd18fec7e"
      },
      "source": [
        "df_higher_mean_review.shape"
      ],
      "execution_count": null,
      "outputs": [
        {
          "output_type": "execute_result",
          "data": {
            "text/plain": [
              "(10, 11)"
            ]
          },
          "metadata": {},
          "execution_count": 286
        }
      ]
    },
    {
      "cell_type": "code",
      "metadata": {
        "id": "SIa4aoVPSvOA"
      },
      "source": [
        "df_engage_art_and_design = pd.merge(df_higher_mean_installs,df_higher_mean_review,on='App')\n",
        " "
      ],
      "execution_count": null,
      "outputs": []
    },
    {
      "cell_type": "code",
      "metadata": {
        "colab": {
          "base_uri": "https://localhost:8080/",
          "height": 827
        },
        "id": "77M1S-hMSzb_",
        "outputId": "ddc7a7a5-bf2c-4a63-9b65-20e1705fbae4"
      },
      "source": [
        "df_engage_art_and_design.drop_duplicates('App')"
      ],
      "execution_count": null,
      "outputs": [
        {
          "output_type": "execute_result",
          "data": {
            "text/plain": [
              "                                                  App      Category_x  \\\n",
              "0                               Sketch - Draw & Paint  ART_AND_DESIGN   \n",
              "1                      Tattoo Name On My Photo Editor  ART_AND_DESIGN   \n",
              "2                          Textgram - write on photos  ART_AND_DESIGN   \n",
              "6   U Launcher Lite – FREE Live Cool Themes, Hide ...  ART_AND_DESIGN   \n",
              "7                                        ibis Paint X  ART_AND_DESIGN   \n",
              "8   Canva: Poster, banner, card maker & graphic de...  ART_AND_DESIGN   \n",
              "9                       FlipaClip - Cartoon animation  ART_AND_DESIGN   \n",
              "10                                 Floor Plan Creator  ART_AND_DESIGN   \n",
              "\n",
              "    Rating_x  Reviews_x  Installs_x Type_x  Price_x Content Rating_x  \\\n",
              "0        4.5   215644.0  50000000.0   Free      0.0             Teen   \n",
              "1        4.2    44829.0  10000000.0   Free      0.0             Teen   \n",
              "2        4.4   295221.0  10000000.0   Free      0.0         Everyone   \n",
              "6        4.7    87510.0   5000000.0   Free      0.0         Everyone   \n",
              "7        4.6   224399.0  10000000.0   Free      0.0         Everyone   \n",
              "8        4.7   174531.0  10000000.0   Free      0.0         Everyone   \n",
              "9        4.3   194216.0   5000000.0   Free      0.0         Everyone   \n",
              "10       4.1    36639.0   5000000.0   Free      0.0         Everyone   \n",
              "\n",
              "        Genres_x  0_x  ...      Category_y Rating_y  Reviews_y  Installs_y  \\\n",
              "0   Art & Design    1  ...  ART_AND_DESIGN      4.5   215644.0  50000000.0   \n",
              "1   Art & Design    1  ...  ART_AND_DESIGN      4.2    44829.0  10000000.0   \n",
              "2   Art & Design    1  ...  ART_AND_DESIGN      4.4   295221.0  10000000.0   \n",
              "6   Art & Design    1  ...  ART_AND_DESIGN      4.7    87510.0   5000000.0   \n",
              "7   Art & Design    1  ...  ART_AND_DESIGN      4.6   224399.0  10000000.0   \n",
              "8   Art & Design    1  ...  ART_AND_DESIGN      4.7   174531.0  10000000.0   \n",
              "9   Art & Design    1  ...  ART_AND_DESIGN      4.3   194216.0   5000000.0   \n",
              "10  Art & Design    1  ...  ART_AND_DESIGN      4.1    36639.0   5000000.0   \n",
              "\n",
              "    Type_y Price_y  Content Rating_y      Genres_y 0_y  Review_percent_y  \n",
              "0     Free     0.0              Teen  Art & Design   1          0.431288  \n",
              "1     Free     0.0              Teen  Art & Design   1          0.448290  \n",
              "2     Free     0.0          Everyone  Art & Design   1          2.952210  \n",
              "6     Free     0.0          Everyone  Art & Design   1          1.750200  \n",
              "7     Free     0.0          Everyone  Art & Design   1          2.243990  \n",
              "8     Free     0.0          Everyone  Art & Design   1          1.745310  \n",
              "9     Free     0.0          Everyone  Art & Design   1          3.884320  \n",
              "10    Free     0.0          Everyone  Art & Design   1          0.732780  \n",
              "\n",
              "[8 rows x 21 columns]"
            ],
            "text/html": [
              "\n",
              "  <div id=\"df-77130bed-a272-4c1b-aa98-79d17d13a955\">\n",
              "    <div class=\"colab-df-container\">\n",
              "      <div>\n",
              "<style scoped>\n",
              "    .dataframe tbody tr th:only-of-type {\n",
              "        vertical-align: middle;\n",
              "    }\n",
              "\n",
              "    .dataframe tbody tr th {\n",
              "        vertical-align: top;\n",
              "    }\n",
              "\n",
              "    .dataframe thead th {\n",
              "        text-align: right;\n",
              "    }\n",
              "</style>\n",
              "<table border=\"1\" class=\"dataframe\">\n",
              "  <thead>\n",
              "    <tr style=\"text-align: right;\">\n",
              "      <th></th>\n",
              "      <th>App</th>\n",
              "      <th>Category_x</th>\n",
              "      <th>Rating_x</th>\n",
              "      <th>Reviews_x</th>\n",
              "      <th>Installs_x</th>\n",
              "      <th>Type_x</th>\n",
              "      <th>Price_x</th>\n",
              "      <th>Content Rating_x</th>\n",
              "      <th>Genres_x</th>\n",
              "      <th>0_x</th>\n",
              "      <th>...</th>\n",
              "      <th>Category_y</th>\n",
              "      <th>Rating_y</th>\n",
              "      <th>Reviews_y</th>\n",
              "      <th>Installs_y</th>\n",
              "      <th>Type_y</th>\n",
              "      <th>Price_y</th>\n",
              "      <th>Content Rating_y</th>\n",
              "      <th>Genres_y</th>\n",
              "      <th>0_y</th>\n",
              "      <th>Review_percent_y</th>\n",
              "    </tr>\n",
              "  </thead>\n",
              "  <tbody>\n",
              "    <tr>\n",
              "      <th>0</th>\n",
              "      <td>Sketch - Draw &amp; Paint</td>\n",
              "      <td>ART_AND_DESIGN</td>\n",
              "      <td>4.5</td>\n",
              "      <td>215644.0</td>\n",
              "      <td>50000000.0</td>\n",
              "      <td>Free</td>\n",
              "      <td>0.0</td>\n",
              "      <td>Teen</td>\n",
              "      <td>Art &amp; Design</td>\n",
              "      <td>1</td>\n",
              "      <td>...</td>\n",
              "      <td>ART_AND_DESIGN</td>\n",
              "      <td>4.5</td>\n",
              "      <td>215644.0</td>\n",
              "      <td>50000000.0</td>\n",
              "      <td>Free</td>\n",
              "      <td>0.0</td>\n",
              "      <td>Teen</td>\n",
              "      <td>Art &amp; Design</td>\n",
              "      <td>1</td>\n",
              "      <td>0.431288</td>\n",
              "    </tr>\n",
              "    <tr>\n",
              "      <th>1</th>\n",
              "      <td>Tattoo Name On My Photo Editor</td>\n",
              "      <td>ART_AND_DESIGN</td>\n",
              "      <td>4.2</td>\n",
              "      <td>44829.0</td>\n",
              "      <td>10000000.0</td>\n",
              "      <td>Free</td>\n",
              "      <td>0.0</td>\n",
              "      <td>Teen</td>\n",
              "      <td>Art &amp; Design</td>\n",
              "      <td>1</td>\n",
              "      <td>...</td>\n",
              "      <td>ART_AND_DESIGN</td>\n",
              "      <td>4.2</td>\n",
              "      <td>44829.0</td>\n",
              "      <td>10000000.0</td>\n",
              "      <td>Free</td>\n",
              "      <td>0.0</td>\n",
              "      <td>Teen</td>\n",
              "      <td>Art &amp; Design</td>\n",
              "      <td>1</td>\n",
              "      <td>0.448290</td>\n",
              "    </tr>\n",
              "    <tr>\n",
              "      <th>2</th>\n",
              "      <td>Textgram - write on photos</td>\n",
              "      <td>ART_AND_DESIGN</td>\n",
              "      <td>4.4</td>\n",
              "      <td>295221.0</td>\n",
              "      <td>10000000.0</td>\n",
              "      <td>Free</td>\n",
              "      <td>0.0</td>\n",
              "      <td>Everyone</td>\n",
              "      <td>Art &amp; Design</td>\n",
              "      <td>1</td>\n",
              "      <td>...</td>\n",
              "      <td>ART_AND_DESIGN</td>\n",
              "      <td>4.4</td>\n",
              "      <td>295221.0</td>\n",
              "      <td>10000000.0</td>\n",
              "      <td>Free</td>\n",
              "      <td>0.0</td>\n",
              "      <td>Everyone</td>\n",
              "      <td>Art &amp; Design</td>\n",
              "      <td>1</td>\n",
              "      <td>2.952210</td>\n",
              "    </tr>\n",
              "    <tr>\n",
              "      <th>6</th>\n",
              "      <td>U Launcher Lite – FREE Live Cool Themes, Hide ...</td>\n",
              "      <td>ART_AND_DESIGN</td>\n",
              "      <td>4.7</td>\n",
              "      <td>87510.0</td>\n",
              "      <td>5000000.0</td>\n",
              "      <td>Free</td>\n",
              "      <td>0.0</td>\n",
              "      <td>Everyone</td>\n",
              "      <td>Art &amp; Design</td>\n",
              "      <td>1</td>\n",
              "      <td>...</td>\n",
              "      <td>ART_AND_DESIGN</td>\n",
              "      <td>4.7</td>\n",
              "      <td>87510.0</td>\n",
              "      <td>5000000.0</td>\n",
              "      <td>Free</td>\n",
              "      <td>0.0</td>\n",
              "      <td>Everyone</td>\n",
              "      <td>Art &amp; Design</td>\n",
              "      <td>1</td>\n",
              "      <td>1.750200</td>\n",
              "    </tr>\n",
              "    <tr>\n",
              "      <th>7</th>\n",
              "      <td>ibis Paint X</td>\n",
              "      <td>ART_AND_DESIGN</td>\n",
              "      <td>4.6</td>\n",
              "      <td>224399.0</td>\n",
              "      <td>10000000.0</td>\n",
              "      <td>Free</td>\n",
              "      <td>0.0</td>\n",
              "      <td>Everyone</td>\n",
              "      <td>Art &amp; Design</td>\n",
              "      <td>1</td>\n",
              "      <td>...</td>\n",
              "      <td>ART_AND_DESIGN</td>\n",
              "      <td>4.6</td>\n",
              "      <td>224399.0</td>\n",
              "      <td>10000000.0</td>\n",
              "      <td>Free</td>\n",
              "      <td>0.0</td>\n",
              "      <td>Everyone</td>\n",
              "      <td>Art &amp; Design</td>\n",
              "      <td>1</td>\n",
              "      <td>2.243990</td>\n",
              "    </tr>\n",
              "    <tr>\n",
              "      <th>8</th>\n",
              "      <td>Canva: Poster, banner, card maker &amp; graphic de...</td>\n",
              "      <td>ART_AND_DESIGN</td>\n",
              "      <td>4.7</td>\n",
              "      <td>174531.0</td>\n",
              "      <td>10000000.0</td>\n",
              "      <td>Free</td>\n",
              "      <td>0.0</td>\n",
              "      <td>Everyone</td>\n",
              "      <td>Art &amp; Design</td>\n",
              "      <td>1</td>\n",
              "      <td>...</td>\n",
              "      <td>ART_AND_DESIGN</td>\n",
              "      <td>4.7</td>\n",
              "      <td>174531.0</td>\n",
              "      <td>10000000.0</td>\n",
              "      <td>Free</td>\n",
              "      <td>0.0</td>\n",
              "      <td>Everyone</td>\n",
              "      <td>Art &amp; Design</td>\n",
              "      <td>1</td>\n",
              "      <td>1.745310</td>\n",
              "    </tr>\n",
              "    <tr>\n",
              "      <th>9</th>\n",
              "      <td>FlipaClip - Cartoon animation</td>\n",
              "      <td>ART_AND_DESIGN</td>\n",
              "      <td>4.3</td>\n",
              "      <td>194216.0</td>\n",
              "      <td>5000000.0</td>\n",
              "      <td>Free</td>\n",
              "      <td>0.0</td>\n",
              "      <td>Everyone</td>\n",
              "      <td>Art &amp; Design</td>\n",
              "      <td>1</td>\n",
              "      <td>...</td>\n",
              "      <td>ART_AND_DESIGN</td>\n",
              "      <td>4.3</td>\n",
              "      <td>194216.0</td>\n",
              "      <td>5000000.0</td>\n",
              "      <td>Free</td>\n",
              "      <td>0.0</td>\n",
              "      <td>Everyone</td>\n",
              "      <td>Art &amp; Design</td>\n",
              "      <td>1</td>\n",
              "      <td>3.884320</td>\n",
              "    </tr>\n",
              "    <tr>\n",
              "      <th>10</th>\n",
              "      <td>Floor Plan Creator</td>\n",
              "      <td>ART_AND_DESIGN</td>\n",
              "      <td>4.1</td>\n",
              "      <td>36639.0</td>\n",
              "      <td>5000000.0</td>\n",
              "      <td>Free</td>\n",
              "      <td>0.0</td>\n",
              "      <td>Everyone</td>\n",
              "      <td>Art &amp; Design</td>\n",
              "      <td>1</td>\n",
              "      <td>...</td>\n",
              "      <td>ART_AND_DESIGN</td>\n",
              "      <td>4.1</td>\n",
              "      <td>36639.0</td>\n",
              "      <td>5000000.0</td>\n",
              "      <td>Free</td>\n",
              "      <td>0.0</td>\n",
              "      <td>Everyone</td>\n",
              "      <td>Art &amp; Design</td>\n",
              "      <td>1</td>\n",
              "      <td>0.732780</td>\n",
              "    </tr>\n",
              "  </tbody>\n",
              "</table>\n",
              "<p>8 rows × 21 columns</p>\n",
              "</div>\n",
              "      <button class=\"colab-df-convert\" onclick=\"convertToInteractive('df-77130bed-a272-4c1b-aa98-79d17d13a955')\"\n",
              "              title=\"Convert this dataframe to an interactive table.\"\n",
              "              style=\"display:none;\">\n",
              "        \n",
              "  <svg xmlns=\"http://www.w3.org/2000/svg\" height=\"24px\"viewBox=\"0 0 24 24\"\n",
              "       width=\"24px\">\n",
              "    <path d=\"M0 0h24v24H0V0z\" fill=\"none\"/>\n",
              "    <path d=\"M18.56 5.44l.94 2.06.94-2.06 2.06-.94-2.06-.94-.94-2.06-.94 2.06-2.06.94zm-11 1L8.5 8.5l.94-2.06 2.06-.94-2.06-.94L8.5 2.5l-.94 2.06-2.06.94zm10 10l.94 2.06.94-2.06 2.06-.94-2.06-.94-.94-2.06-.94 2.06-2.06.94z\"/><path d=\"M17.41 7.96l-1.37-1.37c-.4-.4-.92-.59-1.43-.59-.52 0-1.04.2-1.43.59L10.3 9.45l-7.72 7.72c-.78.78-.78 2.05 0 2.83L4 21.41c.39.39.9.59 1.41.59.51 0 1.02-.2 1.41-.59l7.78-7.78 2.81-2.81c.8-.78.8-2.07 0-2.86zM5.41 20L4 18.59l7.72-7.72 1.47 1.35L5.41 20z\"/>\n",
              "  </svg>\n",
              "      </button>\n",
              "      \n",
              "  <style>\n",
              "    .colab-df-container {\n",
              "      display:flex;\n",
              "      flex-wrap:wrap;\n",
              "      gap: 12px;\n",
              "    }\n",
              "\n",
              "    .colab-df-convert {\n",
              "      background-color: #E8F0FE;\n",
              "      border: none;\n",
              "      border-radius: 50%;\n",
              "      cursor: pointer;\n",
              "      display: none;\n",
              "      fill: #1967D2;\n",
              "      height: 32px;\n",
              "      padding: 0 0 0 0;\n",
              "      width: 32px;\n",
              "    }\n",
              "\n",
              "    .colab-df-convert:hover {\n",
              "      background-color: #E2EBFA;\n",
              "      box-shadow: 0px 1px 2px rgba(60, 64, 67, 0.3), 0px 1px 3px 1px rgba(60, 64, 67, 0.15);\n",
              "      fill: #174EA6;\n",
              "    }\n",
              "\n",
              "    [theme=dark] .colab-df-convert {\n",
              "      background-color: #3B4455;\n",
              "      fill: #D2E3FC;\n",
              "    }\n",
              "\n",
              "    [theme=dark] .colab-df-convert:hover {\n",
              "      background-color: #434B5C;\n",
              "      box-shadow: 0px 1px 3px 1px rgba(0, 0, 0, 0.15);\n",
              "      filter: drop-shadow(0px 1px 2px rgba(0, 0, 0, 0.3));\n",
              "      fill: #FFFFFF;\n",
              "    }\n",
              "  </style>\n",
              "\n",
              "      <script>\n",
              "        const buttonEl =\n",
              "          document.querySelector('#df-77130bed-a272-4c1b-aa98-79d17d13a955 button.colab-df-convert');\n",
              "        buttonEl.style.display =\n",
              "          google.colab.kernel.accessAllowed ? 'block' : 'none';\n",
              "\n",
              "        async function convertToInteractive(key) {\n",
              "          const element = document.querySelector('#df-77130bed-a272-4c1b-aa98-79d17d13a955');\n",
              "          const dataTable =\n",
              "            await google.colab.kernel.invokeFunction('convertToInteractive',\n",
              "                                                     [key], {});\n",
              "          if (!dataTable) return;\n",
              "\n",
              "          const docLinkHtml = 'Like what you see? Visit the ' +\n",
              "            '<a target=\"_blank\" href=https://colab.research.google.com/notebooks/data_table.ipynb>data table notebook</a>'\n",
              "            + ' to learn more about interactive tables.';\n",
              "          element.innerHTML = '';\n",
              "          dataTable['output_type'] = 'display_data';\n",
              "          await google.colab.output.renderOutput(dataTable, element);\n",
              "          const docLink = document.createElement('div');\n",
              "          docLink.innerHTML = docLinkHtml;\n",
              "          element.appendChild(docLink);\n",
              "        }\n",
              "      </script>\n",
              "    </div>\n",
              "  </div>\n",
              "  "
            ]
          },
          "metadata": {},
          "execution_count": 288
        }
      ]
    },
    {
      "cell_type": "code",
      "metadata": {
        "id": "9kdcrknzS2ss"
      },
      "source": [
        "df_engage_art_and_design = df_engage_art_and_design.drop_duplicates('App').sort_values(by='Review_percent_x', ascending=False)\n"
      ],
      "execution_count": null,
      "outputs": []
    },
    {
      "cell_type": "code",
      "metadata": {
        "colab": {
          "base_uri": "https://localhost:8080/",
          "height": 612
        },
        "id": "crWUXvfxS9qb",
        "outputId": "a02af24f-17df-4d58-cc3e-2cf9a52783e5"
      },
      "source": [
        "df_engage_art_and_design.head()"
      ],
      "execution_count": null,
      "outputs": [
        {
          "output_type": "execute_result",
          "data": {
            "text/plain": [
              "                                                 App      Category_x  \\\n",
              "9                      FlipaClip - Cartoon animation  ART_AND_DESIGN   \n",
              "2                         Textgram - write on photos  ART_AND_DESIGN   \n",
              "7                                       ibis Paint X  ART_AND_DESIGN   \n",
              "6  U Launcher Lite – FREE Live Cool Themes, Hide ...  ART_AND_DESIGN   \n",
              "8  Canva: Poster, banner, card maker & graphic de...  ART_AND_DESIGN   \n",
              "\n",
              "   Rating_x  Reviews_x  Installs_x Type_x  Price_x Content Rating_x  \\\n",
              "9       4.3   194216.0   5000000.0   Free      0.0         Everyone   \n",
              "2       4.4   295221.0  10000000.0   Free      0.0         Everyone   \n",
              "7       4.6   224399.0  10000000.0   Free      0.0         Everyone   \n",
              "6       4.7    87510.0   5000000.0   Free      0.0         Everyone   \n",
              "8       4.7   174531.0  10000000.0   Free      0.0         Everyone   \n",
              "\n",
              "       Genres_x  0_x  ...      Category_y Rating_y  Reviews_y  Installs_y  \\\n",
              "9  Art & Design    1  ...  ART_AND_DESIGN      4.3   194216.0   5000000.0   \n",
              "2  Art & Design    1  ...  ART_AND_DESIGN      4.4   295221.0  10000000.0   \n",
              "7  Art & Design    1  ...  ART_AND_DESIGN      4.6   224399.0  10000000.0   \n",
              "6  Art & Design    1  ...  ART_AND_DESIGN      4.7    87510.0   5000000.0   \n",
              "8  Art & Design    1  ...  ART_AND_DESIGN      4.7   174531.0  10000000.0   \n",
              "\n",
              "   Type_y Price_y  Content Rating_y      Genres_y 0_y  Review_percent_y  \n",
              "9    Free     0.0          Everyone  Art & Design   1           3.88432  \n",
              "2    Free     0.0          Everyone  Art & Design   1           2.95221  \n",
              "7    Free     0.0          Everyone  Art & Design   1           2.24399  \n",
              "6    Free     0.0          Everyone  Art & Design   1           1.75020  \n",
              "8    Free     0.0          Everyone  Art & Design   1           1.74531  \n",
              "\n",
              "[5 rows x 21 columns]"
            ],
            "text/html": [
              "\n",
              "  <div id=\"df-40ad2e80-17f2-4f1a-b40f-774a719ff3b7\">\n",
              "    <div class=\"colab-df-container\">\n",
              "      <div>\n",
              "<style scoped>\n",
              "    .dataframe tbody tr th:only-of-type {\n",
              "        vertical-align: middle;\n",
              "    }\n",
              "\n",
              "    .dataframe tbody tr th {\n",
              "        vertical-align: top;\n",
              "    }\n",
              "\n",
              "    .dataframe thead th {\n",
              "        text-align: right;\n",
              "    }\n",
              "</style>\n",
              "<table border=\"1\" class=\"dataframe\">\n",
              "  <thead>\n",
              "    <tr style=\"text-align: right;\">\n",
              "      <th></th>\n",
              "      <th>App</th>\n",
              "      <th>Category_x</th>\n",
              "      <th>Rating_x</th>\n",
              "      <th>Reviews_x</th>\n",
              "      <th>Installs_x</th>\n",
              "      <th>Type_x</th>\n",
              "      <th>Price_x</th>\n",
              "      <th>Content Rating_x</th>\n",
              "      <th>Genres_x</th>\n",
              "      <th>0_x</th>\n",
              "      <th>...</th>\n",
              "      <th>Category_y</th>\n",
              "      <th>Rating_y</th>\n",
              "      <th>Reviews_y</th>\n",
              "      <th>Installs_y</th>\n",
              "      <th>Type_y</th>\n",
              "      <th>Price_y</th>\n",
              "      <th>Content Rating_y</th>\n",
              "      <th>Genres_y</th>\n",
              "      <th>0_y</th>\n",
              "      <th>Review_percent_y</th>\n",
              "    </tr>\n",
              "  </thead>\n",
              "  <tbody>\n",
              "    <tr>\n",
              "      <th>9</th>\n",
              "      <td>FlipaClip - Cartoon animation</td>\n",
              "      <td>ART_AND_DESIGN</td>\n",
              "      <td>4.3</td>\n",
              "      <td>194216.0</td>\n",
              "      <td>5000000.0</td>\n",
              "      <td>Free</td>\n",
              "      <td>0.0</td>\n",
              "      <td>Everyone</td>\n",
              "      <td>Art &amp; Design</td>\n",
              "      <td>1</td>\n",
              "      <td>...</td>\n",
              "      <td>ART_AND_DESIGN</td>\n",
              "      <td>4.3</td>\n",
              "      <td>194216.0</td>\n",
              "      <td>5000000.0</td>\n",
              "      <td>Free</td>\n",
              "      <td>0.0</td>\n",
              "      <td>Everyone</td>\n",
              "      <td>Art &amp; Design</td>\n",
              "      <td>1</td>\n",
              "      <td>3.88432</td>\n",
              "    </tr>\n",
              "    <tr>\n",
              "      <th>2</th>\n",
              "      <td>Textgram - write on photos</td>\n",
              "      <td>ART_AND_DESIGN</td>\n",
              "      <td>4.4</td>\n",
              "      <td>295221.0</td>\n",
              "      <td>10000000.0</td>\n",
              "      <td>Free</td>\n",
              "      <td>0.0</td>\n",
              "      <td>Everyone</td>\n",
              "      <td>Art &amp; Design</td>\n",
              "      <td>1</td>\n",
              "      <td>...</td>\n",
              "      <td>ART_AND_DESIGN</td>\n",
              "      <td>4.4</td>\n",
              "      <td>295221.0</td>\n",
              "      <td>10000000.0</td>\n",
              "      <td>Free</td>\n",
              "      <td>0.0</td>\n",
              "      <td>Everyone</td>\n",
              "      <td>Art &amp; Design</td>\n",
              "      <td>1</td>\n",
              "      <td>2.95221</td>\n",
              "    </tr>\n",
              "    <tr>\n",
              "      <th>7</th>\n",
              "      <td>ibis Paint X</td>\n",
              "      <td>ART_AND_DESIGN</td>\n",
              "      <td>4.6</td>\n",
              "      <td>224399.0</td>\n",
              "      <td>10000000.0</td>\n",
              "      <td>Free</td>\n",
              "      <td>0.0</td>\n",
              "      <td>Everyone</td>\n",
              "      <td>Art &amp; Design</td>\n",
              "      <td>1</td>\n",
              "      <td>...</td>\n",
              "      <td>ART_AND_DESIGN</td>\n",
              "      <td>4.6</td>\n",
              "      <td>224399.0</td>\n",
              "      <td>10000000.0</td>\n",
              "      <td>Free</td>\n",
              "      <td>0.0</td>\n",
              "      <td>Everyone</td>\n",
              "      <td>Art &amp; Design</td>\n",
              "      <td>1</td>\n",
              "      <td>2.24399</td>\n",
              "    </tr>\n",
              "    <tr>\n",
              "      <th>6</th>\n",
              "      <td>U Launcher Lite – FREE Live Cool Themes, Hide ...</td>\n",
              "      <td>ART_AND_DESIGN</td>\n",
              "      <td>4.7</td>\n",
              "      <td>87510.0</td>\n",
              "      <td>5000000.0</td>\n",
              "      <td>Free</td>\n",
              "      <td>0.0</td>\n",
              "      <td>Everyone</td>\n",
              "      <td>Art &amp; Design</td>\n",
              "      <td>1</td>\n",
              "      <td>...</td>\n",
              "      <td>ART_AND_DESIGN</td>\n",
              "      <td>4.7</td>\n",
              "      <td>87510.0</td>\n",
              "      <td>5000000.0</td>\n",
              "      <td>Free</td>\n",
              "      <td>0.0</td>\n",
              "      <td>Everyone</td>\n",
              "      <td>Art &amp; Design</td>\n",
              "      <td>1</td>\n",
              "      <td>1.75020</td>\n",
              "    </tr>\n",
              "    <tr>\n",
              "      <th>8</th>\n",
              "      <td>Canva: Poster, banner, card maker &amp; graphic de...</td>\n",
              "      <td>ART_AND_DESIGN</td>\n",
              "      <td>4.7</td>\n",
              "      <td>174531.0</td>\n",
              "      <td>10000000.0</td>\n",
              "      <td>Free</td>\n",
              "      <td>0.0</td>\n",
              "      <td>Everyone</td>\n",
              "      <td>Art &amp; Design</td>\n",
              "      <td>1</td>\n",
              "      <td>...</td>\n",
              "      <td>ART_AND_DESIGN</td>\n",
              "      <td>4.7</td>\n",
              "      <td>174531.0</td>\n",
              "      <td>10000000.0</td>\n",
              "      <td>Free</td>\n",
              "      <td>0.0</td>\n",
              "      <td>Everyone</td>\n",
              "      <td>Art &amp; Design</td>\n",
              "      <td>1</td>\n",
              "      <td>1.74531</td>\n",
              "    </tr>\n",
              "  </tbody>\n",
              "</table>\n",
              "<p>5 rows × 21 columns</p>\n",
              "</div>\n",
              "      <button class=\"colab-df-convert\" onclick=\"convertToInteractive('df-40ad2e80-17f2-4f1a-b40f-774a719ff3b7')\"\n",
              "              title=\"Convert this dataframe to an interactive table.\"\n",
              "              style=\"display:none;\">\n",
              "        \n",
              "  <svg xmlns=\"http://www.w3.org/2000/svg\" height=\"24px\"viewBox=\"0 0 24 24\"\n",
              "       width=\"24px\">\n",
              "    <path d=\"M0 0h24v24H0V0z\" fill=\"none\"/>\n",
              "    <path d=\"M18.56 5.44l.94 2.06.94-2.06 2.06-.94-2.06-.94-.94-2.06-.94 2.06-2.06.94zm-11 1L8.5 8.5l.94-2.06 2.06-.94-2.06-.94L8.5 2.5l-.94 2.06-2.06.94zm10 10l.94 2.06.94-2.06 2.06-.94-2.06-.94-.94-2.06-.94 2.06-2.06.94z\"/><path d=\"M17.41 7.96l-1.37-1.37c-.4-.4-.92-.59-1.43-.59-.52 0-1.04.2-1.43.59L10.3 9.45l-7.72 7.72c-.78.78-.78 2.05 0 2.83L4 21.41c.39.39.9.59 1.41.59.51 0 1.02-.2 1.41-.59l7.78-7.78 2.81-2.81c.8-.78.8-2.07 0-2.86zM5.41 20L4 18.59l7.72-7.72 1.47 1.35L5.41 20z\"/>\n",
              "  </svg>\n",
              "      </button>\n",
              "      \n",
              "  <style>\n",
              "    .colab-df-container {\n",
              "      display:flex;\n",
              "      flex-wrap:wrap;\n",
              "      gap: 12px;\n",
              "    }\n",
              "\n",
              "    .colab-df-convert {\n",
              "      background-color: #E8F0FE;\n",
              "      border: none;\n",
              "      border-radius: 50%;\n",
              "      cursor: pointer;\n",
              "      display: none;\n",
              "      fill: #1967D2;\n",
              "      height: 32px;\n",
              "      padding: 0 0 0 0;\n",
              "      width: 32px;\n",
              "    }\n",
              "\n",
              "    .colab-df-convert:hover {\n",
              "      background-color: #E2EBFA;\n",
              "      box-shadow: 0px 1px 2px rgba(60, 64, 67, 0.3), 0px 1px 3px 1px rgba(60, 64, 67, 0.15);\n",
              "      fill: #174EA6;\n",
              "    }\n",
              "\n",
              "    [theme=dark] .colab-df-convert {\n",
              "      background-color: #3B4455;\n",
              "      fill: #D2E3FC;\n",
              "    }\n",
              "\n",
              "    [theme=dark] .colab-df-convert:hover {\n",
              "      background-color: #434B5C;\n",
              "      box-shadow: 0px 1px 3px 1px rgba(0, 0, 0, 0.15);\n",
              "      filter: drop-shadow(0px 1px 2px rgba(0, 0, 0, 0.3));\n",
              "      fill: #FFFFFF;\n",
              "    }\n",
              "  </style>\n",
              "\n",
              "      <script>\n",
              "        const buttonEl =\n",
              "          document.querySelector('#df-40ad2e80-17f2-4f1a-b40f-774a719ff3b7 button.colab-df-convert');\n",
              "        buttonEl.style.display =\n",
              "          google.colab.kernel.accessAllowed ? 'block' : 'none';\n",
              "\n",
              "        async function convertToInteractive(key) {\n",
              "          const element = document.querySelector('#df-40ad2e80-17f2-4f1a-b40f-774a719ff3b7');\n",
              "          const dataTable =\n",
              "            await google.colab.kernel.invokeFunction('convertToInteractive',\n",
              "                                                     [key], {});\n",
              "          if (!dataTable) return;\n",
              "\n",
              "          const docLinkHtml = 'Like what you see? Visit the ' +\n",
              "            '<a target=\"_blank\" href=https://colab.research.google.com/notebooks/data_table.ipynb>data table notebook</a>'\n",
              "            + ' to learn more about interactive tables.';\n",
              "          element.innerHTML = '';\n",
              "          dataTable['output_type'] = 'display_data';\n",
              "          await google.colab.output.renderOutput(dataTable, element);\n",
              "          const docLink = document.createElement('div');\n",
              "          docLink.innerHTML = docLinkHtml;\n",
              "          element.appendChild(docLink);\n",
              "        }\n",
              "      </script>\n",
              "    </div>\n",
              "  </div>\n",
              "  "
            ]
          },
          "metadata": {},
          "execution_count": 290
        }
      ]
    },
    {
      "cell_type": "code",
      "metadata": {
        "colab": {
          "base_uri": "https://localhost:8080/"
        },
        "id": "1MojjkigTA1Q",
        "outputId": "d80af198-64e5-46a5-ede9-6960c82bee87"
      },
      "source": [
        "df_playstore['Rating'].unique()"
      ],
      "execution_count": null,
      "outputs": [
        {
          "output_type": "execute_result",
          "data": {
            "text/plain": [
              "array([4.1, 3.9, 4.7, 4.5, 4.3, 4.4, 3.8, 4.2, 4.6, 3.2, 4. , 4.8, 4.9,\n",
              "       3.6, 3.7, 3.3, 3.4, 3.5, 3.1, 5. , 2.6, 3. , 1.9, 2.5, 2.8, 2.7,\n",
              "       1. , 2.9, 2.3, 2.2, 1.7, 2. , 1.8, 2.4, 1.6, 2.1, 1.4, 1.5, 1.2])"
            ]
          },
          "metadata": {},
          "execution_count": 291
        }
      ]
    },
    {
      "cell_type": "markdown",
      "metadata": {
        "id": "eQUF6h3blIL8"
      },
      "source": [
        "# Data Exploration and Visualisation"
      ]
    },
    {
      "cell_type": "markdown",
      "metadata": {
        "id": "m6C5v_3SlZeY"
      },
      "source": [
        "What are the top 10 apps highest installed in each category ?"
      ]
    },
    {
      "cell_type": "code",
      "metadata": {
        "id": "dbz2n02ATEz5"
      },
      "source": [
        "#Here is the code\n",
        "def find_top_10_in_category(category):\n",
        "    # Convert the category name to uppercase\n",
        "    category = category.upper()\n",
        "    \n",
        "    # Filter the DataFrame to select only the apps in the given category\n",
        "    category_df = df_playstore[df_playstore['Category'] == category]\n",
        "    \n",
        "    # Sort the filtered DataFrame by number of installs and select the top 10 apps\n",
        "    top_10_apps = category_df.sort_values(by='Installs', ascending=False).head(10)\n",
        "    \n",
        "    # Create a bar plot of the top 10 apps\n",
        "    plt.figure(figsize=(6, 6))\n",
        "    plt.title(f'Top 10 Installed Apps in {category}', size=20)\n",
        "    sns.barplot(x='App', y='Installs', data=top_10_apps)\n",
        "    plt.xticks(rotation=45, horizontalalignment='right')\n"
      ],
      "execution_count": null,
      "outputs": []
    },
    {
      "cell_type": "code",
      "metadata": {
        "colab": {
          "base_uri": "https://localhost:8080/",
          "height": 608
        },
        "id": "y9OfPyammXOS",
        "outputId": "0171f0e2-5017-4b18-e524-dc1b119d4259"
      },
      "source": [
        "# Calling of function \n",
        "find_top_10_in_category('Beauty')\n",
        " "
      ],
      "execution_count": null,
      "outputs": [
        {
          "output_type": "display_data",
          "data": {
            "text/plain": [
              "<Figure size 432x432 with 1 Axes>"
            ],
            "image/png": "[encoded data removed]"
          },
          "metadata": {
            "needs_background": "light"
          }
        }
      ]
    },
    {
      "cell_type": "markdown",
      "metadata": {
        "id": "GZaSY8bwmfx_"
      },
      "source": [
        "The above bar chart represents Top 10 Highest Installed apps of particular category. In this way we can find and plot top 10 highest installed apps for any category by changing category name in the statement below: findtop10incategory('Category_Name').\n",
        "\n"
      ]
    },
    {
      "cell_type": "markdown",
      "metadata": {
        "id": "9KMkQzeYmnCB"
      },
      "source": [
        "# How many are free app and paid app among all dataset ?"
      ]
    },
    {
      "cell_type": "code",
      "metadata": {
        "colab": {
          "base_uri": "https://localhost:8080/",
          "height": 324
        },
        "id": "o6FGi9qsmYSz",
        "outputId": "e8a0dd11-4799-44d2-885e-e9d3f1e7bccd"
      },
      "source": [
        "#code here\n",
        "import matplotlib.pyplot as plt\n",
        "\n",
        "# Set the figure size\n",
        "plt.figure(figsize=(10,5))\n",
        "\n",
        "# Get the app types and their counts\n",
        "app_types = df_playstore['Type'].value_counts()\n",
        "labels = app_types.index\n",
        "sizes = app_types.values\n",
        "\n",
        "# Set the colors for the pie chart\n",
        "colors = [\"cyan\",\"yellow\"]\n",
        "\n",
        "# Create the pie chart\n",
        "plt.pie(sizes, labels=labels, colors=colors, autopct='%1.1f%%', shadow=True, startangle=0, textprops={'fontsize': 15})\n",
        "\n",
        "# Add a title\n",
        "plt.title('Percent of Free Vs Paid Apps in store', size=20)\n",
        "\n",
        "# Show the plot\n",
        "plt.show()\n"
      ],
      "execution_count": null,
      "outputs": [
        {
          "output_type": "display_data",
          "data": {
            "text/plain": [
              "<Figure size 720x360 with 1 Axes>"
            ],
            "image/png": "[encoded data removed]"
          },
          "metadata": {}
        }
      ]
    },
    {
      "cell_type": "markdown",
      "metadata": {
        "id": "li1_59Ibm3lR"
      },
      "source": [
        "The above Pie-Chart represents percentage of Free apps are 92.6% and paid apps are 7.4% in dataset."
      ]
    },
    {
      "cell_type": "markdown",
      "metadata": {
        "id": "01ScBnF-nrX9"
      },
      "source": [
        "# Distribution curve of ratings in each categories ?"
      ]
    },
    {
      "cell_type": "code",
      "metadata": {
        "colab": {
          "base_uri": "https://localhost:8080/",
          "height": 728
        },
        "id": "GUbs_Axdn21k",
        "outputId": "b32803ff-b3bf-418b-b888-d187a2fa963f"
      },
      "source": [
        "# Set the size of the figure\n",
        "plt.figure(figsize=(15,9))\n",
        "\n",
        "# Set the labels for the x and y axes\n",
        "plt.xlabel(\"Rating\")\n",
        "plt.ylabel(\"Frequency\")\n",
        "\n",
        "# Create a kernel density plot of the 'Rating' column in the 'df_playstore' DataFrame using Seaborn\n",
        "graph = sns.kdeplot(df_playstore.Rating, color=\"Blue\", shade = True)\n",
        "\n",
        "# Set the title of the plot\n",
        "plt.title('Distribution of Rating', size = 20)\n"
      ],
      "execution_count": null,
      "outputs": [
        {
          "output_type": "stream",
          "name": "stderr",
          "text": [
            "<ipython-input-295-504118f607a6>:9: FutureWarning:\n",
            "\n",
            "\n",
            "\n",
            "`shade` is now deprecated in favor of `fill`; setting `fill=True`.\n",
            "This will become an error in seaborn v0.14.0; please update your code.\n",
            "\n",
            "\n"
          ]
        },
        {
          "output_type": "execute_result",
          "data": {
            "text/plain": [
              "Text(0.5, 1.0, 'Distribution of Rating')"
            ]
          },
          "metadata": {},
          "execution_count": 295
        },
        {
          "output_type": "display_data",
          "data": {
            "text/plain": [
              "<Figure size 1080x648 with 1 Axes>"
            ],
            "image/png": "[encoded data removed]"
          },
          "metadata": {
            "needs_background": "light"
          }
        }
      ]
    },
    {
      "cell_type": "markdown",
      "metadata": {
        "id": "QY7wFhlAn--7"
      },
      "source": [
        "# Percentage User Review per app\n",
        "hint : (review/installs)*100, review mean, installs mean\n"
      ]
    },
    {
      "cell_type": "code",
      "metadata": {
        "id": "NbAbK4B0n4fQ"
      },
      "source": [
        "def review_percentage(df1,df2):\n",
        "  return (df1/df2)*100"
      ],
      "execution_count": null,
      "outputs": []
    },
    {
      "cell_type": "code",
      "metadata": {
        "id": "_4Mz02iloKxQ"
      },
      "source": [
        "# code here\n",
        "def user_review_percent(df1):\n",
        "  # Convert the input category string to uppercase\n",
        "  data_string = df1.upper()\n",
        "  # Filter the 'df_playstore' DataFrame to get rows with the input category\n",
        "  df_user_review = df_playstore[df_playstore['Category']==data_string].value_counts().reset_index()\n",
        "  df_user_review['Review_percent'] = review_percentage(df_user_review['Reviews'],df_user_review['Installs'])\n",
        "\n",
        "  # Filter apps with higher than average installs and reviews\n",
        "  df_higher_mean_installs = df_user_review[df_user_review['Installs'] > df_user_review['Installs'].mean()]\n",
        "  df_higher_mean_review =  df_user_review[df_user_review['Reviews'] > df_user_review['Reviews'].mean()]\n",
        "\n",
        "  # Merge the two filtered DataFrames\n",
        "  df_engagement = pd.merge(df_higher_mean_installs,df_higher_mean_review,on='App')\n",
        "\n",
        "   # Sort the DataFrame by review percent in descending order and drop duplicate apps\n",
        "  df_engagement = df_engagement.sort_values(by='Review_percent_x', ascending=False).drop_duplicates('App')\n",
        "\n",
        "  # Return the number of apps in the resulting DataFrame\n",
        "  return df_engagement.shape[0]"
      ],
      "execution_count": null,
      "outputs": []
    },
    {
      "cell_type": "code",
      "metadata": {
        "colab": {
          "base_uri": "https://localhost:8080/"
        },
        "id": "50YSYmKHoQht",
        "outputId": "ec6e9479-fcdb-4b33-eaf9-f7102b0be302"
      },
      "source": [
        "user_review_percent('Beauty')"
      ],
      "execution_count": null,
      "outputs": [
        {
          "output_type": "execute_result",
          "data": {
            "text/plain": [
              "9"
            ]
          },
          "metadata": {},
          "execution_count": 298
        }
      ]
    },
    {
      "cell_type": "code",
      "metadata": {
        "id": "yUrD69KRoULQ"
      },
      "source": [
        "category_list = list(df_playstore['Category'].unique())"
      ],
      "execution_count": null,
      "outputs": []
    },
    {
      "cell_type": "code",
      "metadata": {
        "colab": {
          "base_uri": "https://localhost:8080/",
          "height": 35
        },
        "id": "4LUUVnjEodHQ",
        "outputId": "2621cda2-bad4-452c-ae28-92d1f1900182"
      },
      "source": [
        "category_list[0]"
      ],
      "execution_count": null,
      "outputs": [
        {
          "output_type": "execute_result",
          "data": {
            "text/plain": [
              "'ART_AND_DESIGN'"
            ],
            "application/vnd.google.colaboratory.intrinsic+json": {
              "type": "string"
            }
          },
          "metadata": {},
          "execution_count": 300
        }
      ]
    },
    {
      "cell_type": "code",
      "metadata": {
        "colab": {
          "base_uri": "https://localhost:8080/"
        },
        "id": "-R6_fkWqof4f",
        "outputId": "70d3f227-2518-41c8-f755-17e8011c507b"
      },
      "source": [
        "df_playstore['Category'].unique()"
      ],
      "execution_count": null,
      "outputs": [
        {
          "output_type": "execute_result",
          "data": {
            "text/plain": [
              "array(['ART_AND_DESIGN', 'AUTO_AND_VEHICLES', 'BEAUTY',\n",
              "       'BOOKS_AND_REFERENCE', 'BUSINESS', 'COMICS', 'COMMUNICATION',\n",
              "       'DATING', 'EDUCATION', 'ENTERTAINMENT', 'EVENTS', 'FINANCE',\n",
              "       'FOOD_AND_DRINK', 'HEALTH_AND_FITNESS', 'HOUSE_AND_HOME',\n",
              "       'LIBRARIES_AND_DEMO', 'LIFESTYLE', 'GAME', 'FAMILY', 'MEDICAL',\n",
              "       'SOCIAL', 'SHOPPING', 'PHOTOGRAPHY', 'SPORTS', 'TRAVEL_AND_LOCAL',\n",
              "       'TOOLS', 'PERSONALIZATION', 'PRODUCTIVITY', 'PARENTING', 'WEATHER',\n",
              "       'VIDEO_PLAYERS', 'NEWS_AND_MAGAZINES', 'MAPS_AND_NAVIGATION'],\n",
              "      dtype=object)"
            ]
          },
          "metadata": {},
          "execution_count": 301
        }
      ]
    },
    {
      "cell_type": "code",
      "metadata": {
        "id": "HCjWTuW5okYi"
      },
      "source": [
        "import matplotlib.pyplot as plt\n",
        "import numpy as np\n",
        "\n",
        "def plot_user_engagement(list1):\n",
        "    list2 = [user_review_percent(n) for n in list1]\n",
        "    plt.figure(figsize=(7,10))\n",
        "    plt.title(\"Most Engaging Category\", fontsize=20)\n",
        "    plt.xlabel(\"Number of Apps\", fontsize=15)\n",
        "    plt.ylabel(\"Category\", fontsize=15)\n",
        "    plt.barh(list1, list2, height=0.5)\n",
        "    plt.show()\n",
        "\n"
      ],
      "execution_count": null,
      "outputs": []
    },
    {
      "cell_type": "code",
      "metadata": {
        "colab": {
          "base_uri": "https://localhost:8080/",
          "height": 632
        },
        "id": "Zf5prxtkoosQ",
        "outputId": "5f816d41-680b-4857-d708-8f697ffffa10"
      },
      "source": [
        "plot_user_engagement(category_list)"
      ],
      "execution_count": null,
      "outputs": [
        {
          "output_type": "display_data",
          "data": {
            "text/plain": [
              "<Figure size 504x720 with 1 Axes>"
            ],
            "image/png": "[encoded data removed]"
          },
          "metadata": {
            "needs_background": "light"
          }
        }
      ]
    },
    {
      "cell_type": "markdown",
      "metadata": {
        "id": "kkUma1nDoz66"
      },
      "source": [
        "# Correlation"
      ]
    },
    {
      "cell_type": "code",
      "metadata": {
        "colab": {
          "base_uri": "https://localhost:8080/",
          "height": 174
        },
        "id": "X7rZ-QpGouo1",
        "outputId": "50abd4ba-fe73-4468-ebab-018eaa9bf338"
      },
      "source": [
        "df_playstore.corr()"
      ],
      "execution_count": null,
      "outputs": [
        {
          "output_type": "execute_result",
          "data": {
            "text/plain": [
              "            Rating   Reviews  Installs     Price\n",
              "Rating    1.000000  0.063465  0.044829 -0.019709\n",
              "Reviews   0.063465  1.000000  0.634997 -0.009417\n",
              "Installs  0.044829  0.634997  1.000000 -0.011147\n",
              "Price    -0.019709 -0.009417 -0.011147  1.000000"
            ],
            "text/html": [
              "\n",
              "  <div id=\"df-fd8c0ae2-50c5-4ca4-a34f-31823c302b5b\">\n",
              "    <div class=\"colab-df-container\">\n",
              "      <div>\n",
              "<style scoped>\n",
              "    .dataframe tbody tr th:only-of-type {\n",
              "        vertical-align: middle;\n",
              "    }\n",
              "\n",
              "    .dataframe tbody tr th {\n",
              "        vertical-align: top;\n",
              "    }\n",
              "\n",
              "    .dataframe thead th {\n",
              "        text-align: right;\n",
              "    }\n",
              "</style>\n",
              "<table border=\"1\" class=\"dataframe\">\n",
              "  <thead>\n",
              "    <tr style=\"text-align: right;\">\n",
              "      <th></th>\n",
              "      <th>Rating</th>\n",
              "      <th>Reviews</th>\n",
              "      <th>Installs</th>\n",
              "      <th>Price</th>\n",
              "    </tr>\n",
              "  </thead>\n",
              "  <tbody>\n",
              "    <tr>\n",
              "      <th>Rating</th>\n",
              "      <td>1.000000</td>\n",
              "      <td>0.063465</td>\n",
              "      <td>0.044829</td>\n",
              "      <td>-0.019709</td>\n",
              "    </tr>\n",
              "    <tr>\n",
              "      <th>Reviews</th>\n",
              "      <td>0.063465</td>\n",
              "      <td>1.000000</td>\n",
              "      <td>0.634997</td>\n",
              "      <td>-0.009417</td>\n",
              "    </tr>\n",
              "    <tr>\n",
              "      <th>Installs</th>\n",
              "      <td>0.044829</td>\n",
              "      <td>0.634997</td>\n",
              "      <td>1.000000</td>\n",
              "      <td>-0.011147</td>\n",
              "    </tr>\n",
              "    <tr>\n",
              "      <th>Price</th>\n",
              "      <td>-0.019709</td>\n",
              "      <td>-0.009417</td>\n",
              "      <td>-0.011147</td>\n",
              "      <td>1.000000</td>\n",
              "    </tr>\n",
              "  </tbody>\n",
              "</table>\n",
              "</div>\n",
              "      <button class=\"colab-df-convert\" onclick=\"convertToInteractive('df-fd8c0ae2-50c5-4ca4-a34f-31823c302b5b')\"\n",
              "              title=\"Convert this dataframe to an interactive table.\"\n",
              "              style=\"display:none;\">\n",
              "        \n",
              "  <svg xmlns=\"http://www.w3.org/2000/svg\" height=\"24px\"viewBox=\"0 0 24 24\"\n",
              "       width=\"24px\">\n",
              "    <path d=\"M0 0h24v24H0V0z\" fill=\"none\"/>\n",
              "    <path d=\"M18.56 5.44l.94 2.06.94-2.06 2.06-.94-2.06-.94-.94-2.06-.94 2.06-2.06.94zm-11 1L8.5 8.5l.94-2.06 2.06-.94-2.06-.94L8.5 2.5l-.94 2.06-2.06.94zm10 10l.94 2.06.94-2.06 2.06-.94-2.06-.94-.94-2.06-.94 2.06-2.06.94z\"/><path d=\"M17.41 7.96l-1.37-1.37c-.4-.4-.92-.59-1.43-.59-.52 0-1.04.2-1.43.59L10.3 9.45l-7.72 7.72c-.78.78-.78 2.05 0 2.83L4 21.41c.39.39.9.59 1.41.59.51 0 1.02-.2 1.41-.59l7.78-7.78 2.81-2.81c.8-.78.8-2.07 0-2.86zM5.41 20L4 18.59l7.72-7.72 1.47 1.35L5.41 20z\"/>\n",
              "  </svg>\n",
              "      </button>\n",
              "      \n",
              "  <style>\n",
              "    .colab-df-container {\n",
              "      display:flex;\n",
              "      flex-wrap:wrap;\n",
              "      gap: 12px;\n",
              "    }\n",
              "\n",
              "    .colab-df-convert {\n",
              "      background-color: #E8F0FE;\n",
              "      border: none;\n",
              "      border-radius: 50%;\n",
              "      cursor: pointer;\n",
              "      display: none;\n",
              "      fill: #1967D2;\n",
              "      height: 32px;\n",
              "      padding: 0 0 0 0;\n",
              "      width: 32px;\n",
              "    }\n",
              "\n",
              "    .colab-df-convert:hover {\n",
              "      background-color: #E2EBFA;\n",
              "      box-shadow: 0px 1px 2px rgba(60, 64, 67, 0.3), 0px 1px 3px 1px rgba(60, 64, 67, 0.15);\n",
              "      fill: #174EA6;\n",
              "    }\n",
              "\n",
              "    [theme=dark] .colab-df-convert {\n",
              "      background-color: #3B4455;\n",
              "      fill: #D2E3FC;\n",
              "    }\n",
              "\n",
              "    [theme=dark] .colab-df-convert:hover {\n",
              "      background-color: #434B5C;\n",
              "      box-shadow: 0px 1px 3px 1px rgba(0, 0, 0, 0.15);\n",
              "      filter: drop-shadow(0px 1px 2px rgba(0, 0, 0, 0.3));\n",
              "      fill: #FFFFFF;\n",
              "    }\n",
              "  </style>\n",
              "\n",
              "      <script>\n",
              "        const buttonEl =\n",
              "          document.querySelector('#df-fd8c0ae2-50c5-4ca4-a34f-31823c302b5b button.colab-df-convert');\n",
              "        buttonEl.style.display =\n",
              "          google.colab.kernel.accessAllowed ? 'block' : 'none';\n",
              "\n",
              "        async function convertToInteractive(key) {\n",
              "          const element = document.querySelector('#df-fd8c0ae2-50c5-4ca4-a34f-31823c302b5b');\n",
              "          const dataTable =\n",
              "            await google.colab.kernel.invokeFunction('convertToInteractive',\n",
              "                                                     [key], {});\n",
              "          if (!dataTable) return;\n",
              "\n",
              "          const docLinkHtml = 'Like what you see? Visit the ' +\n",
              "            '<a target=\"_blank\" href=https://colab.research.google.com/notebooks/data_table.ipynb>data table notebook</a>'\n",
              "            + ' to learn more about interactive tables.';\n",
              "          element.innerHTML = '';\n",
              "          dataTable['output_type'] = 'display_data';\n",
              "          await google.colab.output.renderOutput(dataTable, element);\n",
              "          const docLink = document.createElement('div');\n",
              "          docLink.innerHTML = docLinkHtml;\n",
              "          element.appendChild(docLink);\n",
              "        }\n",
              "      </script>\n",
              "    </div>\n",
              "  </div>\n",
              "  "
            ]
          },
          "metadata": {},
          "execution_count": 304
        }
      ]
    },
    {
      "cell_type": "code",
      "metadata": {
        "colab": {
          "base_uri": "https://localhost:8080/",
          "height": 704
        },
        "id": "LQ3z7Wo_o7ID",
        "outputId": "c24834d2-fe88-4528-a2f2-fb1b2608fea7"
      },
      "source": [
        "##correlation map\n",
        "f,ax = plt.subplots(figsize=(12, 12))\n",
        "sns.heatmap(df_playstore.corr(), annot=True, linewidths=.5, fmt= '.1f',ax=ax)\n",
        "plt.show()"
      ],
      "execution_count": null,
      "outputs": [
        {
          "output_type": "display_data",
          "data": {
            "text/plain": [
              "<Figure size 864x864 with 2 Axes>"
            ],
            "image/png": "[encoded data removed]"
          },
          "metadata": {
            "needs_background": "light"
          }
        }
      ]
    },
    {
      "cell_type": "markdown",
      "metadata": {
        "id": "hKX53accpD_c"
      },
      "source": [
        "describe (): It returns number of entries, average of entries, outlier values, standart deviation, minimum and maximum entry.\n"
      ]
    },
    {
      "cell_type": "code",
      "metadata": {
        "colab": {
          "base_uri": "https://localhost:8080/",
          "height": 300
        },
        "id": "FhDKF8H3pBtZ",
        "outputId": "ad588eef-498d-44f6-8a5a-1a427d91acae"
      },
      "source": [
        "df_playstore.describe()"
      ],
      "execution_count": null,
      "outputs": [
        {
          "output_type": "execute_result",
          "data": {
            "text/plain": [
              "             Rating       Reviews      Installs         Price\n",
              "count  10357.000000  1.035700e+04  1.035700e+04  10357.000000\n",
              "mean       4.203737  4.059046e+05  1.415776e+07      1.030800\n",
              "std        0.485594  2.696778e+06  8.023955e+07     16.278625\n",
              "min        1.000000  0.000000e+00  0.000000e+00      0.000000\n",
              "25%        4.100000  3.200000e+01  1.000000e+03      0.000000\n",
              "50%        4.300000  1.680000e+03  1.000000e+05      0.000000\n",
              "75%        4.500000  4.641600e+04  1.000000e+06      0.000000\n",
              "max        5.000000  7.815831e+07  1.000000e+09    400.000000"
            ],
            "text/html": [
              "\n",
              "  <div id=\"df-be1877a0-501c-4180-a8cb-a9b68c427adc\">\n",
              "    <div class=\"colab-df-container\">\n",
              "      <div>\n",
              "<style scoped>\n",
              "    .dataframe tbody tr th:only-of-type {\n",
              "        vertical-align: middle;\n",
              "    }\n",
              "\n",
              "    .dataframe tbody tr th {\n",
              "        vertical-align: top;\n",
              "    }\n",
              "\n",
              "    .dataframe thead th {\n",
              "        text-align: right;\n",
              "    }\n",
              "</style>\n",
              "<table border=\"1\" class=\"dataframe\">\n",
              "  <thead>\n",
              "    <tr style=\"text-align: right;\">\n",
              "      <th></th>\n",
              "      <th>Rating</th>\n",
              "      <th>Reviews</th>\n",
              "      <th>Installs</th>\n",
              "      <th>Price</th>\n",
              "    </tr>\n",
              "  </thead>\n",
              "  <tbody>\n",
              "    <tr>\n",
              "      <th>count</th>\n",
              "      <td>10357.000000</td>\n",
              "      <td>1.035700e+04</td>\n",
              "      <td>1.035700e+04</td>\n",
              "      <td>10357.000000</td>\n",
              "    </tr>\n",
              "    <tr>\n",
              "      <th>mean</th>\n",
              "      <td>4.203737</td>\n",
              "      <td>4.059046e+05</td>\n",
              "      <td>1.415776e+07</td>\n",
              "      <td>1.030800</td>\n",
              "    </tr>\n",
              "    <tr>\n",
              "      <th>std</th>\n",
              "      <td>0.485594</td>\n",
              "      <td>2.696778e+06</td>\n",
              "      <td>8.023955e+07</td>\n",
              "      <td>16.278625</td>\n",
              "    </tr>\n",
              "    <tr>\n",
              "      <th>min</th>\n",
              "      <td>1.000000</td>\n",
              "      <td>0.000000e+00</td>\n",
              "      <td>0.000000e+00</td>\n",
              "      <td>0.000000</td>\n",
              "    </tr>\n",
              "    <tr>\n",
              "      <th>25%</th>\n",
              "      <td>4.100000</td>\n",
              "      <td>3.200000e+01</td>\n",
              "      <td>1.000000e+03</td>\n",
              "      <td>0.000000</td>\n",
              "    </tr>\n",
              "    <tr>\n",
              "      <th>50%</th>\n",
              "      <td>4.300000</td>\n",
              "      <td>1.680000e+03</td>\n",
              "      <td>1.000000e+05</td>\n",
              "      <td>0.000000</td>\n",
              "    </tr>\n",
              "    <tr>\n",
              "      <th>75%</th>\n",
              "      <td>4.500000</td>\n",
              "      <td>4.641600e+04</td>\n",
              "      <td>1.000000e+06</td>\n",
              "      <td>0.000000</td>\n",
              "    </tr>\n",
              "    <tr>\n",
              "      <th>max</th>\n",
              "      <td>5.000000</td>\n",
              "      <td>7.815831e+07</td>\n",
              "      <td>1.000000e+09</td>\n",
              "      <td>400.000000</td>\n",
              "    </tr>\n",
              "  </tbody>\n",
              "</table>\n",
              "</div>\n",
              "      <button class=\"colab-df-convert\" onclick=\"convertToInteractive('df-be1877a0-501c-4180-a8cb-a9b68c427adc')\"\n",
              "              title=\"Convert this dataframe to an interactive table.\"\n",
              "              style=\"display:none;\">\n",
              "        \n",
              "  <svg xmlns=\"http://www.w3.org/2000/svg\" height=\"24px\"viewBox=\"0 0 24 24\"\n",
              "       width=\"24px\">\n",
              "    <path d=\"M0 0h24v24H0V0z\" fill=\"none\"/>\n",
              "    <path d=\"M18.56 5.44l.94 2.06.94-2.06 2.06-.94-2.06-.94-.94-2.06-.94 2.06-2.06.94zm-11 1L8.5 8.5l.94-2.06 2.06-.94-2.06-.94L8.5 2.5l-.94 2.06-2.06.94zm10 10l.94 2.06.94-2.06 2.06-.94-2.06-.94-.94-2.06-.94 2.06-2.06.94z\"/><path d=\"M17.41 7.96l-1.37-1.37c-.4-.4-.92-.59-1.43-.59-.52 0-1.04.2-1.43.59L10.3 9.45l-7.72 7.72c-.78.78-.78 2.05 0 2.83L4 21.41c.39.39.9.59 1.41.59.51 0 1.02-.2 1.41-.59l7.78-7.78 2.81-2.81c.8-.78.8-2.07 0-2.86zM5.41 20L4 18.59l7.72-7.72 1.47 1.35L5.41 20z\"/>\n",
              "  </svg>\n",
              "      </button>\n",
              "      \n",
              "  <style>\n",
              "    .colab-df-container {\n",
              "      display:flex;\n",
              "      flex-wrap:wrap;\n",
              "      gap: 12px;\n",
              "    }\n",
              "\n",
              "    .colab-df-convert {\n",
              "      background-color: #E8F0FE;\n",
              "      border: none;\n",
              "      border-radius: 50%;\n",
              "      cursor: pointer;\n",
              "      display: none;\n",
              "      fill: #1967D2;\n",
              "      height: 32px;\n",
              "      padding: 0 0 0 0;\n",
              "      width: 32px;\n",
              "    }\n",
              "\n",
              "    .colab-df-convert:hover {\n",
              "      background-color: #E2EBFA;\n",
              "      box-shadow: 0px 1px 2px rgba(60, 64, 67, 0.3), 0px 1px 3px 1px rgba(60, 64, 67, 0.15);\n",
              "      fill: #174EA6;\n",
              "    }\n",
              "\n",
              "    [theme=dark] .colab-df-convert {\n",
              "      background-color: #3B4455;\n",
              "      fill: #D2E3FC;\n",
              "    }\n",
              "\n",
              "    [theme=dark] .colab-df-convert:hover {\n",
              "      background-color: #434B5C;\n",
              "      box-shadow: 0px 1px 3px 1px rgba(0, 0, 0, 0.15);\n",
              "      filter: drop-shadow(0px 1px 2px rgba(0, 0, 0, 0.3));\n",
              "      fill: #FFFFFF;\n",
              "    }\n",
              "  </style>\n",
              "\n",
              "      <script>\n",
              "        const buttonEl =\n",
              "          document.querySelector('#df-be1877a0-501c-4180-a8cb-a9b68c427adc button.colab-df-convert');\n",
              "        buttonEl.style.display =\n",
              "          google.colab.kernel.accessAllowed ? 'block' : 'none';\n",
              "\n",
              "        async function convertToInteractive(key) {\n",
              "          const element = document.querySelector('#df-be1877a0-501c-4180-a8cb-a9b68c427adc');\n",
              "          const dataTable =\n",
              "            await google.colab.kernel.invokeFunction('convertToInteractive',\n",
              "                                                     [key], {});\n",
              "          if (!dataTable) return;\n",
              "\n",
              "          const docLinkHtml = 'Like what you see? Visit the ' +\n",
              "            '<a target=\"_blank\" href=https://colab.research.google.com/notebooks/data_table.ipynb>data table notebook</a>'\n",
              "            + ' to learn more about interactive tables.';\n",
              "          element.innerHTML = '';\n",
              "          dataTable['output_type'] = 'display_data';\n",
              "          await google.colab.output.renderOutput(dataTable, element);\n",
              "          const docLink = document.createElement('div');\n",
              "          docLink.innerHTML = docLinkHtml;\n",
              "          element.appendChild(docLink);\n",
              "        }\n",
              "      </script>\n",
              "    </div>\n",
              "  </div>\n",
              "  "
            ]
          },
          "metadata": {},
          "execution_count": 306
        }
      ]
    },
    {
      "cell_type": "markdown",
      "metadata": {
        "id": "pyLBq74SpiDr"
      },
      "source": [
        "# Box Plot"
      ]
    },
    {
      "cell_type": "code",
      "metadata": {
        "colab": {
          "base_uri": "https://localhost:8080/",
          "height": 542
        },
        "id": "4Aas4gQXpoyg",
        "outputId": "097e96ce-1fa9-4657-954f-c4fdc267e963"
      },
      "source": [
        "import plotly.graph_objects as go\n",
        "\n",
        "categories = ['GAME', 'FAMILY', 'MEDICAL', 'TOOLS', 'HEALTH_AND_FITNESS']\n",
        "fig = go.Figure()\n",
        "\n",
        "for cat in categories:\n",
        "    ratings = df_playstore[df_playstore.Category == cat].Rating\n",
        "    fig.add_trace(go.Box(x=ratings, name=cat))\n",
        "\n",
        "fig.show()\n"
      ],
      "execution_count": null,
      "outputs": [
        {
          "output_type": "display_data",
          "data": {
            "text/html": [
              "<html>\n",
              "<head><meta charset=\"utf-8\" /></head>\n",
              "<body>\n",
              "    <div>            <script src=\"https://cdnjs.cloudflare.com/ajax/libs/mathjax/2.7.5/MathJax.js?config=TeX-AMS-MML_SVG\"></script><script type=\"text/javascript\">if (window.MathJax && window.MathJax.Hub && window.MathJax.Hub.Config) {window.MathJax.Hub.Config({SVG: {font: \"STIX-Web\"}});}</script>                <script type=\"text/javascript\">window.PlotlyConfig = {MathJaxConfig: 'local'};</script>\n",
              "        <script src=\"https://cdn.plot.ly/plotly-2.18.2.min.js\"></script>                <div id=\"873e19b0-22f3-41e3-b9f3-40b081e29f28\" class=\"plotly-graph-div\" style=\"height:525px; width:100%;\"></div>            <script type=\"text/javascript\">                                    window.PLOTLYENV=window.PLOTLYENV || {};                                    if (document.getElementById(\"873e19b0-22f3-41e3-b9f3-40b081e29f28\")) {                    Plotly.newPlot(                        \"873e19b0-22f3-41e3-b9f3-40b081e29f28\",                        [{\"name\":\"GAME\",\"x\":[4.5,4.5,4.4,4.7,4.5,4.2,4.4,4.6,4.3,4.3,4.2,4.6,4.4,4.4,4.5,4.4,4.3,4.6,4.3,4.2,4.2,4.5,4.5,4.5,4.7,4.7,4.5,4.4,4.3,3.8,4.6,4.6,4.4,4.3,4.1,4.3,4.4,4.6,4.3,4.4,4.7,4.5,4.4,4.6,4.5,4.4,4.6,4.5,4.5,4.3,4.5,4.4,4.4,4.5,4.7,4.6,4.5,4.5,4.7,4.5,4.8,4.7,4.4,4.5,4.6,4.7,4.6,4.5,4.6,4.5,4.4,4.7,4.3,4.3,4.4,4.3,4.5,4.4,4.5,4.4,4.5,4.6,4.7,4.6,4.4,4.4,4.5,4.6,4.3,4.5,4.5,4.4,4.5,4.2,4.5,4.7,4.2,4.5,4.5,4.4,4.5,4.5,4.7,4.7,4.1,4.8,4.4,4.2,4.4,4.7,4.3,4.7,4.2,4.3,4.4,4.1,4.1,4.2,4.7,4.6,4.5,3.1,4.1,3.4,4.4,4.3,4.6,4.4,4.3,4.6,4.2,4.2,4.5,4.4,4.2,4.5,4.4,4.6,4.5,4.3,4.6,4.4,4.4,4.5,4.6,4.6,4.6,4.1,4.5,4.6,4.4,4.7,4.6,4.3,4.5,4.6,4.2,4.5,4.8,4.1,4.3,4.4,4.0,4.2,4.0,4.2,4.5,4.7,4.2,4.4,4.6,4.9,4.4,4.5,4.6,4.2,4.5,4.6,4.6,4.5,4.4,4.6,4.5,4.6,4.4,4.4,4.3,4.3,4.6,4.3,4.3,4.6,4.5,4.5,4.2,4.7,4.3,4.0,4.4,4.3,4.6,4.7,4.4,4.4,4.3,4.2,4.4,4.5,4.5,4.5,4.4,4.3,4.5,4.7,4.7,4.6,4.6,4.4,4.4,4.7,4.6,4.5,4.3,4.3,4.3,4.6,4.8,4.5,4.4,4.5,4.5,4.6,4.6,4.6,4.6,4.7,4.5,4.5,4.5,4.6,4.5,4.4,4.4,4.6,4.7,4.5,4.4,4.6,4.7,4.6,4.5,4.4,4.5,4.3,4.2,4.5,4.3,4.6,4.7,4.4,4.6,4.5,4.3,4.5,4.5,4.6,4.6,4.3,4.5,4.7,4.5,4.7,4.7,4.6,4.4,4.3,4.5,4.3,4.4,4.2,4.3,4.4,4.7,4.2,4.1,4.5,4.5,4.5,4.1,4.3,4.5,4.4,4.5,4.6,4.0,4.3,4.5,4.2,4.5,4.6,4.5,4.7,4.5,4.5,4.5,4.4,4.6,4.3,4.4,4.7,4.7,4.4,4.3,4.4,4.5,4.4,4.4,4.6,4.6,4.4,4.6,4.2,4.4,4.6,4.6,4.7,4.2,4.6,4.7,4.3,4.6,4.4,4.4,4.5,4.2,4.4,4.3,4.7,4.3,4.3,4.2,4.4,4.1,3.8,4.5,4.5,3.7,4.5,4.1,4.1,4.5,4.2,4.3,4.5,3.7,4.5,4.3,4.3,4.6,3.4,4.4,3.8,3.1,4.4,4.3,4.5,4.3,4.5,4.2,3.9,4.3,4.4,4.4,4.6,4.5,4.3,4.5,4.3,4.2,4.4,4.5,4.2,4.6,4.6,4.5,4.5,4.3,3.6,4.6,4.4,4.5,4.5,3.6,4.4,4.6,3.8,3.6,4.2,4.5,4.4,4.6,4.4,4.3,3.9,3.9,4.4,4.7,4.2,4.5,4.3,4.7,4.2,4.4,4.5,4.3,4.3,4.1,4.3,4.4,4.6,4.7,4.6,4.3,4.5,4.2,4.3,4.4,3.9,3.7,3.5,4.1,4.2,4.1,3.8,4.0,4.8,4.5,4.0,3.8,4.2,3.9,4.6,4.7,3.7,4.1,3.9,4.6,4.3,4.1,4.0,2.7,4.3,4.2,4.3,4.3,4.5,4.5,4.3,4.0,4.4,4.1,4.2,3.5,4.2,4.2,4.2,3.9,4.1,4.2,4.0,4.3,4.2,4.3,4.5,4.2,4.5,4.4,4.5,4.5,4.3,4.1,4.4,4.0,4.7,4.3,3.9,4.1,4.2,3.9,4.3,4.1,4.2,4.4,4.1,4.3,3.9,4.3,4.3,4.4,4.2,4.2,4.3,3.7,4.5,4.9,4.2,4.4,4.2,4.5,4.3,4.0,4.2,4.3,4.0,4.3,4.0,3.7,4.2,3.9,3.9,4.2,4.5,4.1,4.0,4.4,4.1,3.8,3.4,3.8,3.4,4.4,2.8,3.8,4.8,4.3,3.7,4.3,3.9,4.2,4.3,4.4,4.1,4.4,4.0,4.2,4.5,4.5,4.2,4.4,4.3,4.1,4.4,4.4,4.4,4.2,4.2,4.2,4.4,4.3,4.7,4.4,4.3,3.8,4.0,4.3,4.4,3.8,4.6,4.6,3.8,4.5,3.8,3.6,4.4,4.3,4.2,4.3,4.5,4.4,4.5,4.0,4.4,4.6,4.0,4.1,3.3,4.1,4.2,4.0,4.5,3.8,3.5,4.3,4.6,4.7,3.8,4.7,3.9,3.6,4.1,3.6,4.0,4.0,3.8,4.3,4.0,4.1,3.8,4.2,4.4,4.2,3.8,4.3,4.4,4.2,4.6,5.0,4.5,4.4,3.1,4.4,4.3,3.7,3.9,4.6,4.3,5.0,4.3,4.0,3.8,4.3,4.3,4.0,4.0,4.2,4.3,4.2,5.0,3.5,4.4,4.6,4.0,4.4,4.7,4.3,4.3,4.0,3.4,4.4,4.5,4.0,4.2,4.1,4.2,3.7,4.3,4.5,3.9,4.4,4.3,4.2,4.1,4.3,4.3,4.6,4.2,4.7,4.5,4.4,3.9,3.7,1.0,4.3,4.7,4.1,4.3,4.3,4.4,4.6,4.3,4.7,4.5,4.1,4.5,4.3,4.4,4.1,4.0,4.7,4.3,4.1,4.9,4.5,4.6,4.4,3.5,4.4,4.3,4.3,3.8,4.4,3.9,4.1,4.5,4.5,4.2,4.5,4.7,4.3,4.5,5.0,4.1,3.8,2.4,2.8,4.5,4.1,4.3,4.3,3.8,3.3,4.3,4.3,4.3,4.3,4.3,4.3,4.3,4.3,4.3,4.8,4.6,4.7,4.5,4.1,4.3,4.3,4.3,4.0,4.3,4.0,4.1,4.2,3.8,4.3,4.2,4.7,4.3,4.6,4.7,4.7,4.4,4.6,4.6,4.5,4.3,4.4,4.6,3.8,4.5,4.3,4.3,4.6,3.6,4.8,4.2,5.0,4.3,3.9,4.4,3.9,3.9,4.1,4.1,4.3,4.1,4.2,4.1,4.1,3.8,3.7,4.6,5.0,4.4,4.5,4.3,4.4,4.1,4.3,4.2,4.0,4.3,4.4,4.5,3.9,4.1,4.3,4.0,4.3,4.7,4.6,4.2,4.4,3.5,4.2,4.6,5.0,4.2,3.9,4.2,4.0,3.8,4.6,4.6,4.3,4.1,4.5,4.2,4.1,4.5,3.6,3.2,4.1,3.1,4.2,3.5,4.3,4.3,2.3,4.3,4.4,4.3,3.3,4.8,4.2,4.6,4.0,4.4,4.3,4.0,4.7,4.7,4.2,3.9,4.8,4.6,4.4,4.6,4.4,4.5,4.1,4.2,4.6,4.5,4.3,4.4,4.5,4.3,1.4,4.3,4.2,4.3,4.3,3.8,4.2,4.5,4.3,4.2,4.1,4.5,3.3,4.3,4.3,4.4,4.4,4.4,4.3,4.2,4.2,4.3,3.6,3.7,4.6,4.5,4.7,3.9,4.5,4.7,4.3,4.5,4.5,4.4,3.8,2.5,4.3,4.4,4.5,4.4,4.0,4.0,3.9,4.5,4.5,4.7,4.3,3.9,4.2,4.6,4.4,4.6,4.5,4.6,4.0,4.0,3.9,4.1,4.3,4.6,4.3,3.3,4.6,4.1,4.1,3.4,3.4,3.9,4.3,3.2,3.8,4.7,4.6,3.8,4.5,4.2,4.7,4.3,5.0,4.1,3.6,4.3,4.3,4.5,4.4,4.5,4.1,4.2,3.9,4.5,4.4,4.3,3.4,3.4,4.4,4.4,4.1,5.0,4.3,4.0,4.3,4.2,4.2,4.0,4.5,4.2,3.8,4.4,3.7,3.7,4.0,4.3,4.5,3.3,4.4,4.2,4.4,3.0,3.4,4.0,4.1,4.3,4.4,3.9,3.8,3.8,4.4,4.3,4.2,4.0,4.4,3.5,4.1,4.3,4.3,4.5,4.8,4.3,4.4,4.2,4.1,4.6,4.4,3.8,3.9,3.5,3.8,4.6,3.6,4.0,4.3,4.5,4.5,4.1,4.4,4.3,4.5,4.5,4.3,4.1,4.6,4.0,4.4,4.6,4.3,4.3,4.2,4.3,4.4,4.5,4.3,4.2,4.3,4.4,4.4,4.0,3.6,4.6,4.4,3.7,4.5,4.3,4.1,4.1,4.3,4.2,4.3,4.3,4.0,4.4,4.6,4.7,4.4,4.3,4.4,4.4,4.4,4.4,3.6,4.4,4.3,4.5,4.5,4.5,4.3,4.3,4.5,3.8,4.1,3.9,4.2,4.2,4.1,4.0,4.2,3.6,3.9,4.3,4.2,4.4,4.6,4.5,4.5,4.7,3.5,4.4,4.2,3.8,3.6,3.8,4.0,4.2,4.3,4.0,3.8,4.4,4.1,4.5,4.6,4.3,4.2,4.2,5.0,3.4,4.1,4.2,5.0,3.8,3.7,4.0,5.0,3.9,4.3,3.8,4.2,4.3,4.1,4.0,4.0,4.2,4.4,4.3,4.2],\"type\":\"box\"},{\"name\":\"FAMILY\",\"x\":[4.5,4.4,4.5,4.4,4.4,4.5,4.6,4.5,4.3,4.7,4.4,4.5,4.2,4.5,4.5,4.7,4.4,4.3,4.6,3.9,4.2,4.5,4.3,4.5,4.4,4.4,4.8,4.4,4.4,4.3,4.6,4.1,4.5,4.5,4.5,4.0,4.5,4.6,4.5,4.5,4.5,4.4,4.7,4.5,4.5,4.2,4.3,4.5,4.2,4.3,4.4,4.6,4.5,4.2,4.5,4.6,4.6,4.1,4.5,4.6,4.6,4.5,4.3,3.8,4.5,4.1,4.8,3.9,4.5,4.4,4.3,4.2,3.0,4.5,4.7,4.1,4.5,4.5,4.5,4.6,4.3,4.3,4.5,4.2,4.2,4.4,4.5,4.1,4.2,4.1,4.7,4.3,4.4,4.4,4.3,4.3,4.4,4.3,4.3,4.2,4.2,4.3,4.3,4.1,4.2,4.5,4.3,4.3,4.5,4.1,4.5,4.2,4.4,4.0,4.1,4.4,4.1,4.0,4.3,4.6,4.3,4.7,4.3,4.4,4.2,4.7,3.9,4.1,4.1,4.1,4.2,4.7,4.4,4.3,4.5,4.3,4.3,4.1,4.1,4.1,4.6,4.1,4.4,4.4,4.3,4.0,4.8,3.8,4.7,4.5,4.8,4.4,4.8,4.2,4.2,4.0,4.7,4.7,3.9,4.5,4.1,4.4,3.9,4.4,3.6,4.4,4.1,3.6,4.6,4.3,4.5,4.4,4.5,4.1,4.5,4.1,3.9,4.1,3.9,4.1,4.2,4.7,3.8,4.3,3.9,4.0,4.0,4.3,4.2,4.0,4.3,4.3,4.2,4.3,4.2,4.6,4.1,4.5,4.4,4.5,4.3,4.2,3.9,3.7,4.3,4.6,4.3,4.6,4.6,4.8,4.3,4.5,4.4,4.4,3.3,4.4,3.7,4.1,4.8,4.5,4.5,4.5,3.8,4.5,4.6,4.4,4.3,4.4,4.9,4.6,4.6,3.9,4.5,4.5,4.5,4.6,4.6,4.3,4.1,4.5,4.3,4.7,4.4,4.6,4.6,4.7,3.6,4.3,4.3,4.5,4.4,4.6,3.7,4.5,4.8,4.0,4.7,4.8,4.6,4.3,4.2,4.8,4.2,4.5,4.5,4.4,4.4,4.6,4.3,3.3,4.4,3.1,3.9,4.4,4.8,4.5,3.6,4.4,4.4,4.3,4.3,4.2,1.0,4.4,4.4,4.3,4.3,4.4,4.2,3.8,4.3,3.9,4.3,3.7,3.0,4.3,4.5,4.2,4.2,3.7,2.8,4.4,4.0,4.0,4.3,3.3,4.2,4.1,4.4,3.5,4.6,4.3,4.1,4.7,3.9,4.7,4.6,4.4,4.3,4.8,4.1,3.7,4.2,4.5,4.6,4.7,4.3,4.9,4.6,4.3,4.8,4.3,4.2,4.8,4.0,4.3,4.2,4.0,4.1,4.6,3.1,4.0,4.5,4.4,4.3,4.4,4.5,3.5,3.7,3.9,4.3,4.1,4.4,3.8,4.4,3.8,4.7,4.3,4.2,4.5,4.5,3.5,4.1,4.4,4.0,4.4,3.8,3.8,4.3,4.2,4.1,4.4,4.1,4.8,3.8,3.9,4.5,4.4,3.9,3.8,4.3,4.2,4.1,4.4,4.4,4.3,4.1,3.9,3.5,3.2,4.3,4.3,4.3,4.8,3.8,4.1,4.2,4.3,4.3,4.2,4.3,4.1,4.6,3.7,4.1,3.0,3.7,4.4,4.2,4.2,4.2,4.5,4.3,4.6,3.4,2.4,2.4,4.2,3.6,3.2,3.9,4.4,4.1,3.9,3.3,3.8,4.5,4.2,4.3,4.7,3.6,4.3,4.7,4.6,4.3,3.2,3.3,4.5,4.2,3.8,2.7,4.5,4.6,4.4,4.6,4.4,4.4,4.2,4.8,4.2,4.2,4.2,4.6,4.5,4.2,3.9,4.2,4.2,4.3,4.6,4.1,4.6,3.8,4.5,4.7,4.5,4.6,4.5,4.3,3.9,4.3,4.2,4.5,4.3,1.8,1.6,3.3,3.0,4.5,4.1,4.6,4.0,3.7,4.3,4.2,4.4,3.9,4.7,4.3,3.9,4.4,4.6,4.3,4.2,4.5,4.4,4.3,4.3,4.3,4.3,4.5,4.3,3.9,4.1,3.0,4.3,4.3,4.3,4.3,4.5,3.8,3.0,4.4,4.0,3.9,4.6,3.8,4.6,3.3,3.2,4.3,4.4,3.3,4.3,3.9,4.6,4.6,4.5,4.5,4.4,2.8,4.6,4.1,5.0,4.3,4.6,4.3,4.5,5.0,4.4,4.0,4.3,3.9,4.3,3.9,3.7,4.6,3.0,4.1,4.3,4.3,3.6,3.6,4.5,4.3,4.6,4.7,4.8,4.7,4.6,4.5,4.7,4.7,3.9,4.0,4.4,3.6,4.2,3.5,4.0,4.2,4.3,4.1,4.5,4.4,3.8,3.5,4.6,4.6,4.7,4.5,4.2,4.2,3.7,3.4,4.3,4.6,4.3,4.7,3.8,4.3,3.7,2.9,4.3,4.3,3.3,5.0,4.6,4.5,2.9,4.6,4.7,4.7,3.7,4.8,4.6,4.4,4.7,4.4,2.9,4.5,5.0,3.7,4.3,4.2,5.0,4.7,4.3,3.9,4.3,4.4,4.3,4.6,4.5,5.0,5.0,5.0,4.3,4.4,4.6,4.1,4.5,4.2,4.7,4.3,4.2,4.3,4.3,4.3,4.7,3.7,3.2,4.0,3.8,4.4,3.8,3.4,2.9,3.7,4.3,3.0,4.1,3.8,4.4,4.5,3.6,3.6,4.1,4.3,4.6,4.4,4.4,2.4,4.5,4.4,3.4,3.9,4.3,4.4,4.3,4.2,4.0,4.6,4.0,3.5,4.0,4.1,3.9,3.2,4.0,3.7,3.9,4.5,4.0,3.8,4.1,4.3,4.3,4.3,4.1,3.8,4.4,3.3,3.5,4.3,3.5,4.8,4.6,4.3,4.3,4.3,2.9,4.7,4.2,4.3,3.0,4.3,3.7,4.8,4.3,4.5,4.3,4.3,4.3,4.3,4.6,5.0,4.3,4.0,4.3,4.2,4.2,4.6,3.9,3.5,4.8,4.3,4.8,4.2,4.4,4.5,4.3,3.1,4.7,4.3,4.8,4.3,4.5,4.6,4.6,4.9,4.8,4.0,4.1,4.5,4.3,4.3,4.2,4.7,4.3,3.8,4.4,4.4,3.0,4.1,4.3,1.0,4.4,3.3,4.2,5.0,3.6,3.9,4.4,4.3,4.3,4.3,4.3,4.2,3.3,4.2,4.1,4.6,4.2,4.7,3.5,4.0,5.0,4.4,4.3,3.8,4.2,3.8,4.3,3.8,4.2,4.3,4.4,4.5,4.5,4.3,4.2,3.8,4.1,4.1,4.1,4.1,4.0,4.3,3.9,3.6,4.3,4.3,4.3,4.4,2.6,4.2,3.7,2.4,2.9,1.7,2.3,4.3,4.3,4.3,4.9,4.3,4.3,4.5,4.3,2.4,4.1,4.3,4.7,3.9,4.3,5.0,4.3,4.8,4.6,4.3,4.6,4.9,4.3,4.6,4.5,4.4,4.6,3.6,3.9,4.2,4.4,3.6,4.3,5.0,4.3,4.0,4.3,3.8,4.1,4.0,5.0,4.4,4.7,4.4,3.8,3.6,4.8,4.4,4.8,4.6,4.6,4.3,4.0,3.2,4.6,4.2,3.9,4.8,4.2,4.7,4.2,4.5,4.3,4.3,5.0,4.3,4.3,4.3,1.9,4.3,4.5,4.5,4.2,4.0,4.3,4.3,3.8,4.3,4.7,3.8,4.3,4.6,4.5,3.9,3.2,4.6,4.1,4.6,2.3,4.5,4.4,4.5,4.3,4.3,4.5,4.3,4.4,4.3,4.9,4.3,4.6,4.3,4.8,4.3,4.6,4.6,4.6,5.0,3.9,3.9,4.2,4.3,4.3,4.0,3.7,4.6,4.5,4.3,4.4,4.6,4.3,4.4,4.4,5.0,4.3,4.4,1.8,5.0,4.3,4.5,5.0,4.5,4.7,4.6,4.3,4.5,4.3,3.5,4.3,4.3,5.0,4.2,4.0,4.3,4.6,4.3,4.3,4.3,4.3,3.8,4.4,4.2,3.8,3.7,4.7,4.2,3.5,4.7,4.7,4.5,4.7,4.6,4.9,4.2,4.3,4.4,4.5,4.3,4.4,4.4,3.0,4.8,4.7,4.0,3.7,3.5,2.7,4.1,4.5,4.6,4.4,4.4,4.5,4.6,4.7,4.6,3.1,4.6,4.3,4.2,4.4,4.4,4.2,4.8,4.4,4.2,4.3,3.8,4.3,4.3,4.3,5.0,5.0,5.0,4.3,4.3,5.0,3.7,4.5,4.1,4.1,4.3,5.0,4.1,4.1,4.3,4.3,5.0,4.4,4.3,4.3,4.8,4.3,4.3,5.0,4.3,4.7,4.5,4.0,4.2,4.2,4.5,3.6,4.2,5.0,4.3,4.2,4.3,3.6,4.3,4.4,4.0,5.0,5.0,4.3,3.8,4.7,4.4,4.3,4.0,3.5,4.3,4.3,4.7,4.5,4.7,3.0,4.3,4.3,4.6,4.1,4.3,4.5,2.9,4.3,4.4,4.5,1.9,3.8,4.3,5.0,4.3,3.9,4.2,4.3,4.1,4.7,4.2,4.0,4.1,5.0,4.2,4.0,5.0,4.1,4.3,4.3,4.6,3.8,4.2,2.8,4.1,4.0,3.7,4.5,4.1,4.6,4.5,4.7,4.3,4.3,4.6,4.1,4.2,4.3,3.6,4.2,4.2,4.6,4.3,3.7,4.2,4.7,4.6,4.5,4.1,4.5,4.3,3.4,4.2,4.4,3.9,4.3,5.0,4.2,4.5,4.3,4.5,3.6,4.4,4.3,4.5,4.6,4.3,3.8,4.0,4.3,4.1,4.3,3.6,5.0,4.3,4.1,4.8,4.4,4.1,4.4,4.3,4.3,4.4,4.4,4.7,4.6,2.5,4.5,3.9,4.3,4.0,4.6,4.4,4.3,4.0,3.9,3.8,4.7,4.3,4.6,4.3,4.3,3.5,2.3,4.6,4.4,3.1,5.0,3.9,3.7,4.8,4.4,4.3,4.3,4.8,3.6,5.0,4.2,4.3,4.7,3.9,4.4,4.3,4.7,4.3,5.0,3.7,4.3,3.8,4.6,3.9,4.5,4.0,3.9,4.5,4.3,3.9,4.4,4.0,4.2,4.4,4.4,4.5,3.2,2.2,4.3,4.5,3.8,4.3,4.3,3.7,5.0,3.9,5.0,4.3,4.4,4.2,4.2,4.0,3.2,3.2,4.1,3.3,4.0,4.2,4.1,4.3,4.4,3.1,3.1,3.4,3.9,3.9,4.5,3.0,4.3,3.8,3.8,4.8,4.8,4.5,4.3,4.5,4.5,4.3,4.1,3.3,4.4,4.8,3.5,4.4,3.5,4.6,4.2,4.0,3.8,4.3,4.3,3.7,4.6,4.0,4.8,4.5,4.4,4.3,4.2,4.3,4.0,4.3,4.3,4.3,4.6,5.0,4.4,4.7,4.3,4.3,4.6,4.3,4.4,3.5,4.7,4.2,4.6,4.3,4.3,4.3,3.9,3.0,4.1,4.2,4.0,4.1,4.3,5.0,4.2,4.3,4.1,3.8,4.3,4.2,4.3,4.4,4.2,4.0,2.9,4.7,4.5,4.7,4.4,4.1,4.4,4.1,4.3,3.6,2.8,3.9,3.8,3.7,3.2,3.1,4.1,4.5,4.3,4.4,5.0,4.8,4.6,4.1,4.3,4.0,4.6,4.3,4.1,2.8,5.0,5.0,4.3,5.0,4.1,4.3,4.3,4.6,4.5,4.5,3.3,4.7,4.0,4.6,4.7,4.0,3.1,3.7,4.5,4.3,4.3,4.1,4.1,4.3,4.4,4.3,4.3,4.7,4.2,4.5,4.8,4.5,4.2,4.2,4.5,4.4,3.8,4.3,4.6,4.9,4.1,4.2,4.0,4.2,4.2,3.5,3.9,4.1,4.4,4.2,4.4,4.3,4.0,4.4,4.5,3.7,3.4,4.7,4.4,4.1,4.4,3.9,4.3,4.2,4.0,4.9,4.3,4.6,4.3,4.8,3.5,4.3,4.6,3.8,4.6,5.0,3.8,3.8,4.8,4.4,4.3,4.1,4.4,4.3,4.3,4.3,4.5,4.3,5.0,4.6,4.5,4.6,4.3,4.0,4.9,4.8,4.3,3.8,4.2,4.6,4.2,4.2,4.3,5.0,4.6,4.4,4.3,4.5,4.6,4.3,4.0,4.6,4.5,4.3,4.3,3.5,4.0,4.2,3.9,3.6,3.0,4.0,4.9,4.4,4.4,4.0,4.2,4.3,5.0,4.4,3.6,4.3,4.2,4.0,4.3,4.1,4.3,4.2,4.5,4.5,4.3,4.4,4.3,4.5,4.0,4.0,4.4,4.3,4.4,3.8,4.4,4.2,4.5,3.5,4.6,1.7,4.3,4.2,3.4,4.3,4.5,4.3,5.0,5.0,4.7,3.3,4.0,3.5,2.8,4.3,3.6,3.2,3.6,3.7,3.3,3.1,4.1,3.1,3.5,3.6,3.0,3.9,4.3,3.4,4.3,4.2,4.3,4.6,4.3,4.6,4.3,4.3,3.0,4.5,4.3,4.4,4.3,4.3,4.2,4.1,4.6,3.8,4.4,4.1,4.0,3.9,4.3,4.3,4.2,4.2,3.7,4.0,4.2,3.9,4.2,3.9,4.1,4.5,4.1,4.1,4.1,3.9,3.9,4.4,3.0,4.3,4.1,4.3,4.3,4.3,2.9,4.5,3.7,3.0,4.3,3.2,3.6,3.2,4.7,4.4,3.9,4.4,4.3,2.6,4.1,4.2,4.3,4.3,4.4,4.0,4.7,3.9,3.8,4.3,3.8,4.2,3.6,3.5,4.8,4.3,4.0,3.5,5.0,4.9,4.3,5.0,4.3,4.5,4.3,4.5,5.0,3.0,4.3,4.1,4.3,4.1,4.7,4.3,4.9,5.0,5.0,4.6,5.0,4.3,4.0,4.3,4.0,4.2,4.2,4.0,3.9,4.8,4.1,4.3,4.4,4.3,4.6,4.7,4.5,3.7,4.4,3.4,4.4,4.5,4.3,4.0,4.6,3.8,4.0,4.1,4.5,4.0,4.3,4.0,4.7,4.3,4.4,4.3,4.3,4.1,4.3,4.3,4.5,4.6,4.6,4.7,4.3,4.2,4.5,4.3,4.5,4.6,4.5,4.3,4.4,3.4,4.5,4.3,5.0,4.3,4.3,4.3,4.1,3.9,4.3,4.1,3.6,3.5,3.9,3.9,3.8,4.0,4.5,3.6,3.9,4.3,4.0,3.7,3.9,4.2,3.5,4.0,3.8,4.1,4.2,4.1,4.4,3.7,4.3,4.7,3.8,4.0,4.2,3.8,3.9,4.0,3.1,3.5,4.5,4.7,4.1,3.9,4.0,3.1,4.1,4.4,3.3,4.6,4.7,4.6,4.6,4.5,3.9,3.6,4.6,3.9,4.3,3.7,4.3,4.4,4.7,4.5,4.2,3.6,4.3,4.3,3.8,1.9,4.5,4.3,4.4,5.0,4.3,3.0,4.2,4.2,4.3,4.3,3.3,4.4,4.0,4.0,4.6,3.6,3.9,4.0,4.4,4.3,4.2,4.2,3.9,3.8,4.5,3.8,4.1,4.5,3.3,3.7,3.9,4.0,4.0,4.5,4.3,3.7,3.9,4.3,4.3,4.7,4.7,4.3,4.3,3.8,4.3,3.4,4.3,4.3,4.4,4.3,4.6,4.4,3.8,3.4,4.5,4.2,4.2,4.4,3.9,3.9,3.8,3.9,4.0,4.0,4.1,5.0,4.2,4.0,4.9,3.5,4.6,2.8,1.0,4.3,4.3,4.3,4.3,5.0,3.8,4.3,4.3,3.3,4.3,4.3,4.3,4.3,4.1,4.3,4.8,4.1,3.9,4.1,3.9,3.6,3.7,4.3,4.5,4.3,4.8,5.0,4.4,4.3,4.3,5.0,4.3,4.3,4.3,4.0,4.3,4.4,4.3,4.4,4.2,3.3,3.9,4.1,4.7,3.7,2.9,3.2,4.1,4.2,4.5,4.3,4.4,4.3,4.2,4.1,4.3,4.0,4.2,3.9,4.0,3.8,3.7,4.4,4.9,4.7,4.6,4.3,4.2,4.6,2.0,4.4,4.5,4.1,4.9,4.0,4.3,3.7,5.0,3.8,3.9,4.6,4.3,4.8,4.1,4.3,4.6,4.3,3.9,4.3,3.4,4.3,4.5,4.0,3.6,4.1,4.2,4.3,4.3,4.9,4.0,4.7,4.1,4.0,5.0,4.3,4.2,4.0,4.5,5.0],\"type\":\"box\"},{\"name\":\"MEDICAL\",\"x\":[4.2,4.4,4.6,4.5,4.8,4.5,3.2,4.6,4.5,4.1,4.6,4.5,4.4,4.4,4.4,3.8,4.6,2.5,4.0,5.0,4.3,3.4,4.3,3.4,4.3,4.4,4.4,4.2,5.0,4.1,3.9,4.6,4.2,4.4,4.2,3.6,4.5,4.3,4.7,4.6,4.5,4.2,4.2,4.3,4.4,4.1,4.4,4.6,4.4,4.2,4.5,4.3,2.6,4.6,4.8,4.2,4.7,3.0,3.5,4.6,4.8,4.2,4.6,4.4,4.8,4.0,3.7,4.2,4.8,4.7,3.5,3.9,4.2,4.8,2.7,4.2,4.7,4.6,4.5,4.7,4.7,4.5,4.7,4.0,3.4,3.5,3.0,4.7,4.6,4.2,4.8,4.5,4.2,3.8,3.0,4.4,4.5,4.0,3.6,4.4,4.7,4.9,3.6,4.5,4.1,4.6,4.7,4.7,2.8,4.3,4.6,4.3,3.4,4.3,4.0,4.8,4.2,3.0,4.5,3.7,4.5,4.5,3.6,4.4,4.4,4.5,4.1,4.6,4.3,4.3,4.7,4.5,4.2,4.4,3.9,4.2,4.1,4.3,4.1,3.5,4.2,4.0,4.3,4.3,2.3,4.5,4.3,3.1,4.4,2.9,3.1,3.7,4.0,3.8,4.4,4.3,4.3,4.3,4.3,4.3,3.7,5.0,3.0,3.7,4.3,4.3,4.3,4.3,4.3,4.3,4.3,4.3,4.3,4.3,4.3,4.3,4.3,4.3,3.7,5.0,4.3,4.3,5.0,4.3,5.0,4.3,5.0,4.3,5.0,5.0,4.3,5.0,5.0,5.0,4.3,4.3,4.3,4.3,4.9,4.3,4.3,4.3,4.3,4.3,4.3,4.3,5.0,4.3,4.3,4.9,4.6,5.0,4.3,4.3,4.3,4.3,4.0,4.3,5.0,4.3,2.6,4.8,4.3,4.7,2.5,4.6,4.5,4.3,4.4,4.3,4.3,4.5,3.8,4.0,4.5,3.7,4.3,4.3,4.4,3.8,4.3,3.8,5.0,3.6,4.0,4.3,4.7,5.0,4.7,4.6,3.1,4.4,5.0,3.6,2.8,4.4,4.6,4.2,4.3,3.8,3.5,4.5,4.6,2.4,4.3,4.2,4.5,4.3,4.3,4.3,4.3,4.3,4.3,5.0,4.3,4.3,5.0,5.0,1.0,4.3,4.0,4.3,4.0,4.3,4.3,4.3,4.3,4.3,4.3,4.3,4.3,4.3,2.6,4.3,4.3,4.3,4.6,4.7,4.9,4.3,3.9,3.7,4.2,4.3,4.8,4.4,4.6,4.6,4.3,4.5,4.3,4.3,1.0,4.7,3.4,3.7,4.5,4.0,4.5,4.0,1.8,4.2,3.8,3.9,4.2,4.0,3.8,4.4,4.2,2.0,4.3,4.3,4.1,4.3,4.3,4.3,3.4,4.3,4.3,4.3,4.6,4.4,4.7,4.7,4.4,4.3,3.9,4.3,3.8,4.2,4.2,4.0,4.4,4.3,4.3,4.3,3.8,4.5,5.0,4.3,3.9,4.3,5.0,4.3,4.5,4.3,4.3,3.4,4.3,4.3,4.8,3.6,4.3,4.9,5.0,4.9,2.4,4.4,4.3,4.0,4.8,4.0,4.5,4.4,4.7,4.9,3.6,5.0,4.5,4.3,4.3,2.3,4.3,4.3,4.2,4.3,4.3,4.2,4.3,4.3,4.3,1.0,4.5,4.4,4.5,4.3,4.3,4.3],\"type\":\"box\"},{\"name\":\"TOOLS\",\"x\":[4.1,4.4,4.4,4.2,4.2,4.1,4.5,4.6,4.1,4.3,4.2,4.1,4.0,4.6,3.1,4.6,4.5,3.2,4.3,4.3,4.6,4.4,4.6,4.5,4.6,4.3,4.4,4.2,4.4,3.1,3.6,4.1,4.2,3.5,3.9,3.0,3.9,4.5,3.4,4.4,3.4,4.3,3.7,3.5,3.8,3.6,3.1,3.8,4.2,4.0,4.3,4.3,4.5,4.5,4.5,4.4,4.4,4.3,4.2,4.7,4.4,4.3,4.4,4.3,4.5,4.7,4.5,4.6,4.7,4.6,4.8,3.9,4.5,4.6,4.5,4.4,4.5,4.0,4.3,4.0,4.4,4.1,4.3,4.1,4.3,4.2,4.2,4.2,4.2,4.3,4.5,4.4,4.5,4.2,4.1,4.4,4.5,4.3,4.4,4.1,4.4,4.2,4.1,4.6,4.5,4.3,4.1,4.1,4.2,4.1,4.6,4.5,4.0,3.5,4.4,4.4,4.4,4.1,4.2,4.5,4.4,3.8,4.5,5.0,4.3,4.7,2.0,3.7,4.5,4.4,4.6,4.3,4.6,4.2,4.3,4.5,4.2,4.3,4.4,4.2,4.4,4.2,4.5,1.8,4.3,3.8,4.3,4.2,3.3,4.3,4.3,4.1,3.9,4.1,4.6,3.5,4.8,3.7,3.9,4.2,4.2,4.4,3.7,4.3,3.9,4.4,4.1,4.3,4.5,4.0,3.1,3.8,3.6,4.0,4.3,4.5,3.6,4.5,4.8,4.6,4.6,4.6,4.3,4.4,3.8,4.3,3.6,4.7,3.5,3.8,3.4,4.1,4.2,3.0,2.5,4.2,4.3,4.0,4.5,4.2,4.4,4.5,4.4,4.2,4.4,4.1,4.6,4.6,4.7,4.6,4.2,4.2,4.3,4.3,4.0,4.6,4.6,4.5,4.5,4.6,4.5,2.2,4.8,4.2,3.8,3.3,3.3,3.4,3.6,3.4,3.2,2.5,4.7,2.6,2.8,3.9,3.9,3.5,3.1,3.7,3.6,4.0,3.7,4.1,3.0,2.2,3.7,3.7,3.7,3.6,3.7,3.7,4.2,4.1,3.8,4.4,3.9,4.4,3.3,4.1,4.4,3.4,3.5,4.6,5.0,4.1,4.3,2.0,3.3,4.4,4.3,3.7,4.3,4.3,4.3,4.1,2.9,3.9,4.3,3.8,4.0,3.6,4.0,4.4,4.3,3.9,3.8,4.2,4.2,4.0,4.2,4.5,4.3,4.7,4.2,4.7,3.9,4.6,3.7,4.3,4.3,3.8,4.3,4.3,4.0,4.5,4.4,4.3,3.7,3.4,4.6,3.4,4.7,4.2,4.5,4.5,4.2,4.3,4.2,4.1,4.0,3.3,4.3,4.0,4.3,4.4,4.2,3.5,4.3,3.9,4.3,4.3,4.3,3.6,4.0,3.2,2.1,1.9,3.7,3.3,4.0,3.3,3.7,3.4,3.7,4.4,3.9,3.5,4.4,2.7,3.3,5.0,4.3,2.2,4.3,4.3,4.5,4.7,4.3,4.0,4.3,4.0,4.2,3.6,4.2,4.3,4.3,5.0,4.0,4.3,4.3,4.3,4.1,4.9,4.3,5.0,4.3,4.3,4.3,3.7,4.6,4.4,3.0,4.3,4.3,4.5,4.3,4.3,4.3,4.3,4.3,4.3,3.9,3.9,3.9,4.6,2.5,4.6,2.8,4.3,3.9,3.6,3.7,3.8,3.5,4.1,4.3,4.7,4.5,4.3,4.3,4.3,5.0,4.3,4.3,3.8,3.7,4.3,3.9,4.3,4.3,4.3,4.2,4.2,4.0,4.6,4.7,4.3,4.6,4.5,3.3,3.8,4.2,3.1,4.0,3.5,3.9,4.3,4.3,4.5,4.2,4.2,4.3,3.0,4.3,3.2,4.4,5.0,4.4,4.4,4.3,4.4,4.6,4.4,3.4,4.3,4.1,4.3,4.3,4.1,4.3,4.7,4.7,4.7,3.9,4.3,4.3,4.3,4.1,5.0,5.0,5.0,4.3,4.3,4.7,4.6,4.6,4.6,4.6,4.4,3.8,4.1,3.4,4.5,4.5,4.7,4.4,4.2,4.2,4.0,3.6,4.7,4.4,4.3,4.4,4.4,3.3,3.6,4.5,4.3,3.6,4.1,4.8,4.3,1.9,4.4,1.4,4.7,4.2,4.2,4.3,3.9,4.0,4.8,4.3,4.3,4.3,4.3,2.3,4.2,4.1,4.4,4.2,4.6,4.3,3.4,4.1,4.3,4.0,4.3,3.9,4.3,3.8,3.3,5.0,4.4,4.1,4.3,3.5,4.3,3.9,4.2,4.0,4.3,4.2,3.0,4.6,4.7,3.9,3.6,4.3,2.2,3.8,4.3,5.0,4.5,4.6,4.3,4.7,4.4,4.0,4.1,3.6,3.3,4.7,4.3,3.9,4.3,4.3,4.4,4.6,2.7,4.2,4.3,3.9,3.9,4.1,3.5,4.3,4.5,4.1,4.1,4.1,4.3,4.1,4.3,4.7,4.3,4.3,4.3,4.3,4.3,4.5,4.1,2.1,3.0,2.8,5.0,4.1,4.2,4.3,4.2,4.2,4.7,4.5,4.2,4.3,3.8,4.2,3.8,4.0,4.0,3.9,4.0,3.9,4.4,4.1,4.7,3.9,2.8,2.8,3.2,3.9,3.6,4.3,4.3,4.3,4.1,4.3,4.3,4.3,4.5,3.7,4.5,4.4,4.5,4.4,4.0,3.4,3.2,3.8,1.0,4.6,2.6,3.3,3.9,4.1,4.0,1.6,1.7,1.0,4.7,4.5,4.5,4.6,4.5,4.4,4.2,4.5,4.3,4.3,3.6,4.7,2.4,2.8,3.2,3.7,4.3,4.3,3.2,3.4,4.3,4.2,4.2,5.0,4.3,4.3,3.9,4.3,4.3,4.5,4.1,4.0,3.0,3.4,3.9,4.2,4.2,4.2,4.4,4.2,4.3,4.0,4.1,3.6,3.4,3.9,3.9,4.1,4.2,4.4,4.1,4.7,4.5,5.0,4.3,4.6,4.1,4.3,4.3,4.2,3.1,4.3,3.5,3.4,3.4,3.9,4.0,4.3,5.0,4.3,4.5,4.9,4.3,4.1,4.5,4.5,4.4,4.5,4.4,4.3,3.5,4.3,4.3,4.4,4.3,4.1,4.2,4.3,4.3,3.5,4.3,4.2,4.2,4.6,4.3,5.0,3.8,4.3,3.0,4.4,4.8,4.1,4.1,4.0,4.6,2.8,4.3,3.7,4.9,4.3,3.4,4.3,3.0,2.7,3.9,2.9,3.3,2.9,3.5,2.8,4.6,4.2,4.7,4.4,4.6,4.4,4.2,4.7,4.3,4.1,2.5,4.3,2.2,4.4,3.9,2.9,4.6,4.3,4.3,4.1,4.0,4.3,4.3,4.3,4.0,4.1,4.3,4.8,4.3,4.3,4.9,4.3,4.3,2.5,4.8,4.6,4.4,3.5,3.9,4.6,4.5,4.1,4.5,4.2,3.9,4.3,4.3,4.3,4.3,4.8,4.8,3.2,1.0,4.3,4.5,4.1,4.2,4.3,4.2,4.3,4.2,4.4,2.7,4.1,4.3,2.9,4.2,4.2,4.7,4.1,4.3,4.0],\"type\":\"box\"},{\"name\":\"HEALTH_AND_FITNESS\",\"x\":[4.8,4.0,4.9,4.8,4.9,4.8,4.4,3.3,4.7,4.6,4.8,4.8,4.8,4.5,4.4,4.5,4.5,4.5,4.8,3.9,4.6,4.5,4.5,4.7,4.7,4.4,4.2,3.9,4.2,4.4,4.6,4.6,4.2,4.5,4.7,4.5,4.5,3.7,4.5,4.6,4.6,4.7,4.5,4.5,4.6,4.0,4.3,4.4,4.5,4.2,4.6,4.9,4.5,4.5,4.6,4.5,4.6,4.6,4.5,4.5,4.4,3.9,4.5,4.4,4.6,4.4,4.5,4.5,4.5,4.4,4.4,4.4,4.2,4.5,4.5,4.4,4.3,4.6,4.6,4.9,4.4,4.3,4.1,4.6,4.8,4.5,4.7,4.6,4.3,4.6,4.3,4.6,4.6,4.5,4.6,4.6,4.5,4.1,4.5,4.6,4.5,4.8,4.8,4.6,4.5,4.1,4.4,4.2,4.5,4.3,4.6,4.0,4.6,4.6,4.4,4.7,4.4,4.2,4.5,4.4,4.6,4.5,4.4,4.4,4.5,4.5,4.0,4.6,4.1,4.0,4.4,4.4,4.1,3.5,4.3,4.5,4.2,4.5,4.4,4.1,4.5,3.7,4.3,4.5,4.6,4.7,4.6,4.0,4.4,4.8,4.2,4.6,4.1,4.4,4.3,3.3,3.7,2.9,2.9,4.0,4.0,2.3,4.1,4.6,3.6,4.9,4.5,4.7,4.8,4.6,4.8,3.4,4.6,4.4,4.6,4.3,4.8,4.8,4.6,4.8,4.1,4.7,4.8,4.0,3.5,3.9,2.0,4.3,3.4,4.3,4.3,4.3,2.8,2.6,3.9,4.3,4.1,4.6,4.3,3.0,4.3,4.0,4.3,4.2,1.4,4.8,2.2,4.2,4.8,4.6,2.9,4.3,2.6,2.4,3.3,4.8,2.2,4.3,4.4,4.9,5.0,2.6,4.3,4.3,5.0,3.9,2.1,3.4,4.3,4.3,4.0,5.0,4.3,2.3,4.3,4.3,4.3,5.0,5.0,4.3,4.3,2.2,5.0,4.3,4.7,4.3,4.3,4.7,3.5,2.6,4.5,4.3,4.4,2.4,5.0,4.3,4.3,2.7,4.3,4.3,5.0,4.3,4.3,4.6,4.3,4.4,4.8,4.3,4.8,4.0,3.8,4.3,4.3,5.0,2.4,4.3,4.3,5.0,4.3,4.1,4.3,4.3,4.8,5.0,4.3,4.3,4.7,4.3,4.3,4.6,4.2,4.6,3.9,4.8,4.3,3.5,4.0,4.1,4.3,4.3,5.0,4.5,4.3,3.5,3.2,4.4],\"type\":\"box\"}],                        {\"template\":{\"data\":{\"histogram2dcontour\":[{\"type\":\"histogram2dcontour\",\"colorbar\":{\"outlinewidth\":0,\"ticks\":\"\"},\"colorscale\":[[0.0,\"#0d0887\"],[0.1111111111111111,\"#46039f\"],[0.2222222222222222,\"#7201a8\"],[0.3333333333333333,\"#9c179e\"],[0.4444444444444444,\"#bd3786\"],[0.5555555555555556,\"#d8576b\"],[0.6666666666666666,\"#ed7953\"],[0.7777777777777778,\"#fb9f3a\"],[0.8888888888888888,\"#fdca26\"],[1.0,\"#f0f921\"]]}],\"choropleth\":[{\"type\":\"choropleth\",\"colorbar\":{\"outlinewidth\":0,\"ticks\":\"\"}}],\"histogram2d\":[{\"type\":\"histogram2d\",\"colorbar\":{\"outlinewidth\":0,\"ticks\":\"\"},\"colorscale\":[[0.0,\"#0d0887\"],[0.1111111111111111,\"#46039f\"],[0.2222222222222222,\"#7201a8\"],[0.3333333333333333,\"#9c179e\"],[0.4444444444444444,\"#bd3786\"],[0.5555555555555556,\"#d8576b\"],[0.6666666666666666,\"#ed7953\"],[0.7777777777777778,\"#fb9f3a\"],[0.8888888888888888,\"#fdca26\"],[1.0,\"#f0f921\"]]}],\"heatmap\":[{\"type\":\"heatmap\",\"colorbar\":{\"outlinewidth\":0,\"ticks\":\"\"},\"colorscale\":[[0.0,\"#0d0887\"],[0.1111111111111111,\"#46039f\"],[0.2222222222222222,\"#7201a8\"],[0.3333333333333333,\"#9c179e\"],[0.4444444444444444,\"#bd3786\"],[0.5555555555555556,\"#d8576b\"],[0.6666666666666666,\"#ed7953\"],[0.7777777777777778,\"#fb9f3a\"],[0.8888888888888888,\"#fdca26\"],[1.0,\"#f0f921\"]]}],\"heatmapgl\":[{\"type\":\"heatmapgl\",\"colorbar\":{\"outlinewidth\":0,\"ticks\":\"\"},\"colorscale\":[[0.0,\"#0d0887\"],[0.1111111111111111,\"#46039f\"],[0.2222222222222222,\"#7201a8\"],[0.3333333333333333,\"#9c179e\"],[0.4444444444444444,\"#bd3786\"],[0.5555555555555556,\"#d8576b\"],[0.6666666666666666,\"#ed7953\"],[0.7777777777777778,\"#fb9f3a\"],[0.8888888888888888,\"#fdca26\"],[1.0,\"#f0f921\"]]}],\"contourcarpet\":[{\"type\":\"contourcarpet\",\"colorbar\":{\"outlinewidth\":0,\"ticks\":\"\"}}],\"contour\":[{\"type\":\"contour\",\"colorbar\":{\"outlinewidth\":0,\"ticks\":\"\"},\"colorscale\":[[0.0,\"#0d0887\"],[0.1111111111111111,\"#46039f\"],[0.2222222222222222,\"#7201a8\"],[0.3333333333333333,\"#9c179e\"],[0.4444444444444444,\"#bd3786\"],[0.5555555555555556,\"#d8576b\"],[0.6666666666666666,\"#ed7953\"],[0.7777777777777778,\"#fb9f3a\"],[0.8888888888888888,\"#fdca26\"],[1.0,\"#f0f921\"]]}],\"surface\":[{\"type\":\"surface\",\"colorbar\":{\"outlinewidth\":0,\"ticks\":\"\"},\"colorscale\":[[0.0,\"#0d0887\"],[0.1111111111111111,\"#46039f\"],[0.2222222222222222,\"#7201a8\"],[0.3333333333333333,\"#9c179e\"],[0.4444444444444444,\"#bd3786\"],[0.5555555555555556,\"#d8576b\"],[0.6666666666666666,\"#ed7953\"],[0.7777777777777778,\"#fb9f3a\"],[0.8888888888888888,\"#fdca26\"],[1.0,\"#f0f921\"]]}],\"mesh3d\":[{\"type\":\"mesh3d\",\"colorbar\":{\"outlinewidth\":0,\"ticks\":\"\"}}],\"scatter\":[{\"fillpattern\":{\"fillmode\":\"overlay\",\"size\":10,\"solidity\":0.2},\"type\":\"scatter\"}],\"parcoords\":[{\"type\":\"parcoords\",\"line\":{\"colorbar\":{\"outlinewidth\":0,\"ticks\":\"\"}}}],\"scatterpolargl\":[{\"type\":\"scatterpolargl\",\"marker\":{\"colorbar\":{\"outlinewidth\":0,\"ticks\":\"\"}}}],\"bar\":[{\"error_x\":{\"color\":\"#2a3f5f\"},\"error_y\":{\"color\":\"#2a3f5f\"},\"marker\":{\"line\":{\"color\":\"#E5ECF6\",\"width\":0.5},\"pattern\":{\"fillmode\":\"overlay\",\"size\":10,\"solidity\":0.2}},\"type\":\"bar\"}],\"scattergeo\":[{\"type\":\"scattergeo\",\"marker\":{\"colorbar\":{\"outlinewidth\":0,\"ticks\":\"\"}}}],\"scatterpolar\":[{\"type\":\"scatterpolar\",\"marker\":{\"colorbar\":{\"outlinewidth\":0,\"ticks\":\"\"}}}],\"histogram\":[{\"marker\":{\"pattern\":{\"fillmode\":\"overlay\",\"size\":10,\"solidity\":0.2}},\"type\":\"histogram\"}],\"scattergl\":[{\"type\":\"scattergl\",\"marker\":{\"colorbar\":{\"outlinewidth\":0,\"ticks\":\"\"}}}],\"scatter3d\":[{\"type\":\"scatter3d\",\"line\":{\"colorbar\":{\"outlinewidth\":0,\"ticks\":\"\"}},\"marker\":{\"colorbar\":{\"outlinewidth\":0,\"ticks\":\"\"}}}],\"scattermapbox\":[{\"type\":\"scattermapbox\",\"marker\":{\"colorbar\":{\"outlinewidth\":0,\"ticks\":\"\"}}}],\"scatterternary\":[{\"type\":\"scatterternary\",\"marker\":{\"colorbar\":{\"outlinewidth\":0,\"ticks\":\"\"}}}],\"scattercarpet\":[{\"type\":\"scattercarpet\",\"marker\":{\"colorbar\":{\"outlinewidth\":0,\"ticks\":\"\"}}}],\"carpet\":[{\"aaxis\":{\"endlinecolor\":\"#2a3f5f\",\"gridcolor\":\"white\",\"linecolor\":\"white\",\"minorgridcolor\":\"white\",\"startlinecolor\":\"#2a3f5f\"},\"baxis\":{\"endlinecolor\":\"#2a3f5f\",\"gridcolor\":\"white\",\"linecolor\":\"white\",\"minorgridcolor\":\"white\",\"startlinecolor\":\"#2a3f5f\"},\"type\":\"carpet\"}],\"table\":[{\"cells\":{\"fill\":{\"color\":\"#EBF0F8\"},\"line\":{\"color\":\"white\"}},\"header\":{\"fill\":{\"color\":\"#C8D4E3\"},\"line\":{\"color\":\"white\"}},\"type\":\"table\"}],\"barpolar\":[{\"marker\":{\"line\":{\"color\":\"#E5ECF6\",\"width\":0.5},\"pattern\":{\"fillmode\":\"overlay\",\"size\":10,\"solidity\":0.2}},\"type\":\"barpolar\"}],\"pie\":[{\"automargin\":true,\"type\":\"pie\"}]},\"layout\":{\"autotypenumbers\":\"strict\",\"colorway\":[\"#636efa\",\"#EF553B\",\"#00cc96\",\"#ab63fa\",\"#FFA15A\",\"#19d3f3\",\"#FF6692\",\"#B6E880\",\"#FF97FF\",\"#FECB52\"],\"font\":{\"color\":\"#2a3f5f\"},\"hovermode\":\"closest\",\"hoverlabel\":{\"align\":\"left\"},\"paper_bgcolor\":\"white\",\"plot_bgcolor\":\"#E5ECF6\",\"polar\":{\"bgcolor\":\"#E5ECF6\",\"angularaxis\":{\"gridcolor\":\"white\",\"linecolor\":\"white\",\"ticks\":\"\"},\"radialaxis\":{\"gridcolor\":\"white\",\"linecolor\":\"white\",\"ticks\":\"\"}},\"ternary\":{\"bgcolor\":\"#E5ECF6\",\"aaxis\":{\"gridcolor\":\"white\",\"linecolor\":\"white\",\"ticks\":\"\"},\"baxis\":{\"gridcolor\":\"white\",\"linecolor\":\"white\",\"ticks\":\"\"},\"caxis\":{\"gridcolor\":\"white\",\"linecolor\":\"white\",\"ticks\":\"\"}},\"coloraxis\":{\"colorbar\":{\"outlinewidth\":0,\"ticks\":\"\"}},\"colorscale\":{\"sequential\":[[0.0,\"#0d0887\"],[0.1111111111111111,\"#46039f\"],[0.2222222222222222,\"#7201a8\"],[0.3333333333333333,\"#9c179e\"],[0.4444444444444444,\"#bd3786\"],[0.5555555555555556,\"#d8576b\"],[0.6666666666666666,\"#ed7953\"],[0.7777777777777778,\"#fb9f3a\"],[0.8888888888888888,\"#fdca26\"],[1.0,\"#f0f921\"]],\"sequentialminus\":[[0.0,\"#0d0887\"],[0.1111111111111111,\"#46039f\"],[0.2222222222222222,\"#7201a8\"],[0.3333333333333333,\"#9c179e\"],[0.4444444444444444,\"#bd3786\"],[0.5555555555555556,\"#d8576b\"],[0.6666666666666666,\"#ed7953\"],[0.7777777777777778,\"#fb9f3a\"],[0.8888888888888888,\"#fdca26\"],[1.0,\"#f0f921\"]],\"diverging\":[[0,\"#8e0152\"],[0.1,\"#c51b7d\"],[0.2,\"#de77ae\"],[0.3,\"#f1b6da\"],[0.4,\"#fde0ef\"],[0.5,\"#f7f7f7\"],[0.6,\"#e6f5d0\"],[0.7,\"#b8e186\"],[0.8,\"#7fbc41\"],[0.9,\"#4d9221\"],[1,\"#276419\"]]},\"xaxis\":{\"gridcolor\":\"white\",\"linecolor\":\"white\",\"ticks\":\"\",\"title\":{\"standoff\":15},\"zerolinecolor\":\"white\",\"automargin\":true,\"zerolinewidth\":2},\"yaxis\":{\"gridcolor\":\"white\",\"linecolor\":\"white\",\"ticks\":\"\",\"title\":{\"standoff\":15},\"zerolinecolor\":\"white\",\"automargin\":true,\"zerolinewidth\":2},\"scene\":{\"xaxis\":{\"backgroundcolor\":\"#E5ECF6\",\"gridcolor\":\"white\",\"linecolor\":\"white\",\"showbackground\":true,\"ticks\":\"\",\"zerolinecolor\":\"white\",\"gridwidth\":2},\"yaxis\":{\"backgroundcolor\":\"#E5ECF6\",\"gridcolor\":\"white\",\"linecolor\":\"white\",\"showbackground\":true,\"ticks\":\"\",\"zerolinecolor\":\"white\",\"gridwidth\":2},\"zaxis\":{\"backgroundcolor\":\"#E5ECF6\",\"gridcolor\":\"white\",\"linecolor\":\"white\",\"showbackground\":true,\"ticks\":\"\",\"zerolinecolor\":\"white\",\"gridwidth\":2}},\"shapedefaults\":{\"line\":{\"color\":\"#2a3f5f\"}},\"annotationdefaults\":{\"arrowcolor\":\"#2a3f5f\",\"arrowhead\":0,\"arrowwidth\":1},\"geo\":{\"bgcolor\":\"white\",\"landcolor\":\"#E5ECF6\",\"subunitcolor\":\"white\",\"showland\":true,\"showlakes\":true,\"lakecolor\":\"white\"},\"title\":{\"x\":0.05},\"mapbox\":{\"style\":\"light\"}}}},                        {\"responsive\": true}                    ).then(function(){\n",
              "                            \n",
              "var gd = document.getElementById('873e19b0-22f3-41e3-b9f3-40b081e29f28');\n",
              "var x = new MutationObserver(function (mutations, observer) {{\n",
              "        var display = window.getComputedStyle(gd).display;\n",
              "        if (!display || display === 'none') {{\n",
              "            console.log([gd, 'removed!']);\n",
              "            Plotly.purge(gd);\n",
              "            observer.disconnect();\n",
              "        }}\n",
              "}});\n",
              "\n",
              "// Listen for the removal of the full notebook cells\n",
              "var notebookContainer = gd.closest('#notebook-container');\n",
              "if (notebookContainer) {{\n",
              "    x.observe(notebookContainer, {childList: true});\n",
              "}}\n",
              "\n",
              "// Listen for the clearing of the current output cell\n",
              "var outputEl = gd.closest('.output');\n",
              "if (outputEl) {{\n",
              "    x.observe(outputEl, {childList: true});\n",
              "}}\n",
              "\n",
              "                        })                };                            </script>        </div>\n",
              "</body>\n",
              "</html>"
            ]
          },
          "metadata": {}
        }
      ]
    },
    {
      "cell_type": "code",
      "metadata": {
        "colab": {
          "base_uri": "https://localhost:8080/",
          "height": 460
        },
        "id": "p671T78CpsNj",
        "outputId": "983e9b54-da48-4a83-e7db-d9731787b572"
      },
      "source": [
        "plt.rcParams['figure.figsize'] = (10, 7)\n",
        "sns.scatterplot(x=df_reviews['Sentiment_Polarity'],y=df_reviews['Sentiment_Subjectivity'])"
      ],
      "execution_count": null,
      "outputs": [
        {
          "output_type": "execute_result",
          "data": {
            "text/plain": [
              "<Axes: xlabel='Sentiment_Polarity', ylabel='Sentiment_Subjectivity'>"
            ]
          },
          "metadata": {},
          "execution_count": 308
        },
        {
          "output_type": "display_data",
          "data": {
            "text/plain": [
              "<Figure size 720x504 with 1 Axes>"
            ],
            "image/png": "[encoded data removed]"
          },
          "metadata": {
            "needs_background": "light"
          }
        }
      ]
    },
    {
      "cell_type": "code",
      "metadata": {
        "colab": {
          "base_uri": "https://localhost:8080/",
          "height": 143
        },
        "id": "jcJZ_9btpyX4",
        "outputId": "ae2ee8d6-4e51-4dc2-fd4b-e4af8adfffd7"
      },
      "source": [
        "x=pd.DataFrame(df_reviews['Sentiment'].value_counts())\n",
        "x"
      ],
      "execution_count": null,
      "outputs": [
        {
          "output_type": "execute_result",
          "data": {
            "text/plain": [
              "          Sentiment\n",
              "Positive      23998\n",
              "Negative       8271\n",
              "Neutral        5158"
            ],
            "text/html": [
              "\n",
              "  <div id=\"df-be6c58d3-8769-4968-89a6-d274784aa424\">\n",
              "    <div class=\"colab-df-container\">\n",
              "      <div>\n",
              "<style scoped>\n",
              "    .dataframe tbody tr th:only-of-type {\n",
              "        vertical-align: middle;\n",
              "    }\n",
              "\n",
              "    .dataframe tbody tr th {\n",
              "        vertical-align: top;\n",
              "    }\n",
              "\n",
              "    .dataframe thead th {\n",
              "        text-align: right;\n",
              "    }\n",
              "</style>\n",
              "<table border=\"1\" class=\"dataframe\">\n",
              "  <thead>\n",
              "    <tr style=\"text-align: right;\">\n",
              "      <th></th>\n",
              "      <th>Sentiment</th>\n",
              "    </tr>\n",
              "  </thead>\n",
              "  <tbody>\n",
              "    <tr>\n",
              "      <th>Positive</th>\n",
              "      <td>23998</td>\n",
              "    </tr>\n",
              "    <tr>\n",
              "      <th>Negative</th>\n",
              "      <td>8271</td>\n",
              "    </tr>\n",
              "    <tr>\n",
              "      <th>Neutral</th>\n",
              "      <td>5158</td>\n",
              "    </tr>\n",
              "  </tbody>\n",
              "</table>\n",
              "</div>\n",
              "      <button class=\"colab-df-convert\" onclick=\"convertToInteractive('df-be6c58d3-8769-4968-89a6-d274784aa424')\"\n",
              "              title=\"Convert this dataframe to an interactive table.\"\n",
              "              style=\"display:none;\">\n",
              "        \n",
              "  <svg xmlns=\"http://www.w3.org/2000/svg\" height=\"24px\"viewBox=\"0 0 24 24\"\n",
              "       width=\"24px\">\n",
              "    <path d=\"M0 0h24v24H0V0z\" fill=\"none\"/>\n",
              "    <path d=\"M18.56 5.44l.94 2.06.94-2.06 2.06-.94-2.06-.94-.94-2.06-.94 2.06-2.06.94zm-11 1L8.5 8.5l.94-2.06 2.06-.94-2.06-.94L8.5 2.5l-.94 2.06-2.06.94zm10 10l.94 2.06.94-2.06 2.06-.94-2.06-.94-.94-2.06-.94 2.06-2.06.94z\"/><path d=\"M17.41 7.96l-1.37-1.37c-.4-.4-.92-.59-1.43-.59-.52 0-1.04.2-1.43.59L10.3 9.45l-7.72 7.72c-.78.78-.78 2.05 0 2.83L4 21.41c.39.39.9.59 1.41.59.51 0 1.02-.2 1.41-.59l7.78-7.78 2.81-2.81c.8-.78.8-2.07 0-2.86zM5.41 20L4 18.59l7.72-7.72 1.47 1.35L5.41 20z\"/>\n",
              "  </svg>\n",
              "      </button>\n",
              "      \n",
              "  <style>\n",
              "    .colab-df-container {\n",
              "      display:flex;\n",
              "      flex-wrap:wrap;\n",
              "      gap: 12px;\n",
              "    }\n",
              "\n",
              "    .colab-df-convert {\n",
              "      background-color: #E8F0FE;\n",
              "      border: none;\n",
              "      border-radius: 50%;\n",
              "      cursor: pointer;\n",
              "      display: none;\n",
              "      fill: #1967D2;\n",
              "      height: 32px;\n",
              "      padding: 0 0 0 0;\n",
              "      width: 32px;\n",
              "    }\n",
              "\n",
              "    .colab-df-convert:hover {\n",
              "      background-color: #E2EBFA;\n",
              "      box-shadow: 0px 1px 2px rgba(60, 64, 67, 0.3), 0px 1px 3px 1px rgba(60, 64, 67, 0.15);\n",
              "      fill: #174EA6;\n",
              "    }\n",
              "\n",
              "    [theme=dark] .colab-df-convert {\n",
              "      background-color: #3B4455;\n",
              "      fill: #D2E3FC;\n",
              "    }\n",
              "\n",
              "    [theme=dark] .colab-df-convert:hover {\n",
              "      background-color: #434B5C;\n",
              "      box-shadow: 0px 1px 3px 1px rgba(0, 0, 0, 0.15);\n",
              "      filter: drop-shadow(0px 1px 2px rgba(0, 0, 0, 0.3));\n",
              "      fill: #FFFFFF;\n",
              "    }\n",
              "  </style>\n",
              "\n",
              "      <script>\n",
              "        const buttonEl =\n",
              "          document.querySelector('#df-be6c58d3-8769-4968-89a6-d274784aa424 button.colab-df-convert');\n",
              "        buttonEl.style.display =\n",
              "          google.colab.kernel.accessAllowed ? 'block' : 'none';\n",
              "\n",
              "        async function convertToInteractive(key) {\n",
              "          const element = document.querySelector('#df-be6c58d3-8769-4968-89a6-d274784aa424');\n",
              "          const dataTable =\n",
              "            await google.colab.kernel.invokeFunction('convertToInteractive',\n",
              "                                                     [key], {});\n",
              "          if (!dataTable) return;\n",
              "\n",
              "          const docLinkHtml = 'Like what you see? Visit the ' +\n",
              "            '<a target=\"_blank\" href=https://colab.research.google.com/notebooks/data_table.ipynb>data table notebook</a>'\n",
              "            + ' to learn more about interactive tables.';\n",
              "          element.innerHTML = '';\n",
              "          dataTable['output_type'] = 'display_data';\n",
              "          await google.colab.output.renderOutput(dataTable, element);\n",
              "          const docLink = document.createElement('div');\n",
              "          docLink.innerHTML = docLinkHtml;\n",
              "          element.appendChild(docLink);\n",
              "        }\n",
              "      </script>\n",
              "    </div>\n",
              "  </div>\n",
              "  "
            ]
          },
          "metadata": {},
          "execution_count": 309
        }
      ]
    },
    {
      "cell_type": "code",
      "metadata": {
        "colab": {
          "base_uri": "https://localhost:8080/",
          "height": 459
        },
        "id": "nekipm-_p53U",
        "outputId": "8ab5a50b-c514-4fab-92c6-dd89287d6bb5"
      },
      "source": [
        "plt.rcParams['figure.figsize'] = (8, 5)\n",
        "plt.pie(x['Sentiment'],labels=x.index,autopct='%1.1f%%')"
      ],
      "execution_count": null,
      "outputs": [
        {
          "output_type": "execute_result",
          "data": {
            "text/plain": [
              "([<matplotlib.patches.Wedge at 0x7f4686389040>,\n",
              "  <matplotlib.patches.Wedge at 0x7f4686389160>,\n",
              "  <matplotlib.patches.Wedge at 0x7f468633c430>],\n",
              " [Text(-0.4720901319930675, 0.9935446176567856, 'Positive'),\n",
              "  Text(0.011680069551688514, -1.0999379873316804, 'Negative'),\n",
              "  Text(0.9985013967377232, -0.46151377088101725, 'Neutral')],\n",
              " [Text(-0.257503708359855, 0.5419334278127921, '64.1%'),\n",
              "  Text(0.006370947028193734, -0.5999661749081893, '22.1%'),\n",
              "  Text(0.5446371254933035, -0.25173478411691846, '13.8%')])"
            ]
          },
          "metadata": {},
          "execution_count": 310
        },
        {
          "output_type": "display_data",
          "data": {
            "text/plain": [
              "<Figure size 576x360 with 1 Axes>"
            ],
            "image/png": "[encoded data removed]"
          },
          "metadata": {}
        }
      ]
    },
    {
      "cell_type": "markdown",
      "metadata": {
        "id": "uE7XdfwmqFRo"
      },
      "source": [
        "# Conclusion"
      ]
    },
    {
      "cell_type": "markdown",
      "metadata": {
        "id": "3sNM64dcqNE9"
      },
      "source": [
        "The given dataset has the potential to offer a wide range of possibilities that can lead to an improvement in business values and have a positive impact overall. The dataset is not limited to the specific problem that has been taken into consideration for this project, as there are many other interesting possibilities that can be explored using this dataset.\n",
        "\n",
        "One of the ways in which this dataset can be explored is by identifying the different categories of the most installed apps and analyzing their statistics. By doing so, we can gain insights into what kinds of apps are popular among users, which can help businesses in their decision-making processes.\n",
        "\n",
        "Another way to analyze the dataset is by exploring whether the apps are free or paid and analyzing the sentiment of the review comments. This can help businesses understand the consumer's behavior towards paid apps and what aspects of the app they like or dislike. This information can be used to make changes in their pricing strategy, as well as improve their product offerings.\n",
        "\n",
        "Upon analyzing the dataset, it was found that most of the trending apps are from the categories such as GAME, COMMUNICATION, and TOOL. Interestingly, even though the category FAMILY has twice as many apps, it has a lesser number of installs. This indicates that the nature of the apps that are popular among users is mainly for entertainment or assistance.\n",
        "\n",
        "Overall, the dataset provides a wealth of information that can be leveraged by businesses to improve their product offerings and make informed decisions. By exploring the different possibilities that the dataset offers, businesses can gain valuable insights into the consumer's behavior, which can ultimately lead to increased profits and customer satisfaction."
      ]
    }
  ]
}